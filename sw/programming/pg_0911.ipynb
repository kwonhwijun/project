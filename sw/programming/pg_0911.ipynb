{
 "cells": [
  {
   "cell_type": "markdown",
   "metadata": {},
   "source": [
    "- 함수와 메소드의 다른점 \n",
    "  - 클래스가 쓰면 함수\n",
    "  - 인스턴스가 쓰면 메소드가 된다\n",
    "\n",
    "- super() : 다중 상속에서 여러번 실행시켜주는 것을 한번만 실행하게 만듬"
   ]
  },
  {
   "cell_type": "code",
   "execution_count": null,
   "metadata": {},
   "outputs": [],
   "source": []
  },
  {
   "cell_type": "code",
   "execution_count": 22,
   "metadata": {},
   "outputs": [
    {
     "name": "stdout",
     "output_type": "stream",
     "text": [
      "{'x': 3}\n",
      "{'x': 3, 'y': 3}\n"
     ]
    }
   ],
   "source": [
    "## 메소드로 사용하면 인스터스 변수를 공유할 수 있다. \n",
    "\n",
    "## class 변수에 ()를 사용하면, __new__가 시작되고, __init__가 초기화 시킨다.\n",
    "## => __init__는 return 값을 가지면 안된다. 메소드가 실행될 때 인스턴스 변스가 실행된다. \n",
    "\n",
    "class A:\n",
    "    def __init__(self, x):\n",
    "        self.x = x  \n",
    "    def tt(self):\n",
    "        return 1\n",
    "    def ss(self):\n",
    "        self.y=self.x\n",
    "        return self.y\n",
    "\n",
    "a = A(x =3)\n",
    "print(vars(a)) # __init__에 있는 변수는 \n",
    "a.tt(), a.ss()\n",
    "print(vars(a))"
   ]
  },
  {
   "cell_type": "code",
   "execution_count": 17,
   "metadata": {},
   "outputs": [
    {
     "name": "stdout",
     "output_type": "stream",
     "text": [
      "{}\n"
     ]
    },
    {
     "data": {
      "text/plain": [
       "{'a': 2}"
      ]
     },
     "execution_count": 17,
     "metadata": {},
     "output_type": "execute_result"
    }
   ],
   "source": [
    "class B:\n",
    "    def x(self):\n",
    "        self.a = 2\n",
    "\n",
    "b = B()\n",
    "print(vars(b)) # vars()는 인스턴스 변수를 알려준다.\n",
    "b.x() \n",
    "vars(b) # 메소드 x()를 실행하고 나서 인스턴스 변수가 생성되었다. "
   ]
  },
  {
   "cell_type": "code",
   "execution_count": null,
   "metadata": {},
   "outputs": [],
   "source": [
    "b.t = 1 # 동적으로 변수 지정 \n",
    "vars(b)\n",
    "\n",
    "## 어떤 방식을 사용하면 실손(?)을 줄일 수 있을까? -> 미리 사용할 변수를 만들어 놓으면 동적으로 생성하지 않아도 된다\n",
    "## __init__에서 미리 만들어놓을 수 있음\n",
    "\n"
   ]
  },
  {
   "cell_type": "code",
   "execution_count": null,
   "metadata": {},
   "outputs": [],
   "source": [
    "### 텐서플로우 super()예시\n",
    "class MyModel(Model):\n",
    "  def __init__(self):\n",
    "    super(MyModel, self).__init__() #super를 사용해서 중복된 것을 정리해주지 않으면 오류가 난다\n",
    "    self.conv1 = Conv2D(32, 3, activation='relu')\n",
    "    self.flatten = Flatten()\n",
    "    self.d1 = Dense(128, activation='relu')\n",
    "    self.d2 = Dense(10)\n",
    "\n",
    "  def call(self, x): # 이런식으로 변수를 선언하는 것을 compostion (딥러닝 모델은 layer들의 compostion)\n",
    "    x = self.conv1(x)\n",
    "    x = self.flatten(x)\n",
    "    x = self.d1(x)\n",
    "    return self.d2(x)\n",
    "\n",
    "# Create an instance of the model\n",
    "model = MyModel()"
   ]
  },
  {
   "cell_type": "code",
   "execution_count": 23,
   "metadata": {},
   "outputs": [
    {
     "name": "stdout",
     "output_type": "stream",
     "text": [
      "D\n",
      "B\n",
      "C\n",
      "A\n",
      "[<class '__main__.D'>, <class '__main__.B'>, <class '__main__.C'>, <class '__main__.A'>, <class 'object'>]\n"
     ]
    }
   ],
   "source": [
    "class A:\n",
    "    def show(self):\n",
    "        print(\"A\")\n",
    "\n",
    "class B(A):\n",
    "    def show(self):\n",
    "        print(\"B\")\n",
    "        super().show()\n",
    "\n",
    "class C(A):\n",
    "    def show(self):\n",
    "        print(\"C\")\n",
    "        super().show()\n",
    "\n",
    "class D(B, C):\n",
    "    def show(self):\n",
    "        print(\"D\")\n",
    "        super().show()\n",
    "\n",
    "d = D()\n",
    "d.show()\n",
    "print(D.mro())"
   ]
  },
  {
   "cell_type": "markdown",
   "metadata": {},
   "source": [
    "### Compostion"
   ]
  },
  {
   "cell_type": "code",
   "execution_count": 39,
   "metadata": {},
   "outputs": [],
   "source": [
    "class A:\n",
    "    x = 1\n",
    "    def t(self):\n",
    "        return 1\n",
    "    \n",
    "class B(A):\n",
    "    x =2\n",
    "\n",
    "\n",
    "## 파이썬 상속에서는 자식에게 없는 변수를 부모에게서 찾을 수 있다. "
   ]
  },
  {
   "cell_type": "code",
   "execution_count": 27,
   "metadata": {},
   "outputs": [
    {
     "data": {
      "text/plain": [
       "(1, 2, 1)"
      ]
     },
     "execution_count": 27,
     "metadata": {},
     "output_type": "execute_result"
    }
   ],
   "source": [
    "class A():\n",
    "    def __init__(self):\n",
    "        A.x = 1\n",
    "\n",
    "class B(A):\n",
    "    def __init__(self):\n",
    "        B.y = 2\n",
    "\n",
    "a = A()\n",
    "b = B()\n",
    "a.x, b.y, b.x"
   ]
  },
  {
   "cell_type": "code",
   "execution_count": 44,
   "metadata": {},
   "outputs": [
    {
     "data": {
      "text/plain": [
       "<bound method C.t of <__main__.C object at 0x000002A5B820EE10>>"
      ]
     },
     "execution_count": 44,
     "metadata": {},
     "output_type": "execute_result"
    }
   ],
   "source": [
    "class C:\n",
    "    x = 2\n",
    "    def t(self):\n",
    "        return A.x(self)\n",
    "    \n",
    "c = C()\n",
    "c.t"
   ]
  },
  {
   "cell_type": "code",
   "execution_count": 47,
   "metadata": {},
   "outputs": [
    {
     "name": "stdout",
     "output_type": "stream",
     "text": [
      "1\n",
      "1\n",
      "a\n"
     ]
    }
   ],
   "source": [
    "class A:\n",
    "    x = 1\n",
    "    def t(self):\n",
    "        return 1\n",
    "\n",
    "class D :\n",
    "    def __init__(self):\n",
    "        self.x = A.x # 다른클래스에서 가져옴\n",
    "        self.tt = A()\n",
    "    \n",
    "    def t(self) : \n",
    "        return self.tt.t() #init에서 인스턴스 생성 후 가져오기 \n",
    "    \n",
    "    def __getattr__(self, x): #예외처리 (Attribute 에러 생성)\n",
    "        return x\n",
    "        \n",
    "d = D()\n",
    "print(d.x) # A.x를 가져온다 (좋은 방법은 아니다)\n",
    "print(d.t()) # 2번째 방식 (best는 아니다)\n",
    "print(d.a) # a라는 변수가 없으므로 Attribute Error가 없으므로 __getattr__을 실행시킨다 "
   ]
  },
  {
   "cell_type": "code",
   "execution_count": 53,
   "metadata": {},
   "outputs": [
    {
     "name": "stdout",
     "output_type": "stream",
     "text": [
      "['__abs__', '__add__', '__and__', '__bool__', '__ceil__', '__class__', '__delattr__', '__dir__', '__divmod__', '__doc__', '__eq__', '__float__', '__floor__', '__floordiv__', '__format__', '__ge__', '__getattribute__', '__getnewargs__', '__getstate__', '__gt__', '__hash__', '__index__', '__init__', '__init_subclass__', '__int__', '__invert__', '__le__', '__lshift__', '__lt__', '__mod__', '__mul__', '__ne__', '__neg__', '__new__', '__or__', '__pos__', '__pow__', '__radd__', '__rand__', '__rdivmod__', '__reduce__', '__reduce_ex__', '__repr__', '__rfloordiv__', '__rlshift__', '__rmod__', '__rmul__', '__ror__', '__round__', '__rpow__', '__rrshift__', '__rshift__', '__rsub__', '__rtruediv__', '__rxor__', '__setattr__', '__sizeof__', '__str__', '__sub__', '__subclasshook__', '__truediv__', '__trunc__', '__xor__', 'as_integer_ratio', 'bit_count', 'bit_length', 'conjugate', 'denominator', 'from_bytes', 'imag', 'numerator', 'real', 'to_bytes']\n",
      "<method-wrapper '__abs__' of int object at 0x00007FF8C8DAE328>\n"
     ]
    }
   ],
   "source": [
    "### attr 에러 : attribute에 없는것을 요구할 경우 (Attribute는 클라스 내에 정의된 변수들을 의미)\n",
    "x = 1\n",
    "print(dir(x))\n",
    "print(getattr(x, '__abs__'))"
   ]
  },
  {
   "cell_type": "code",
   "execution_count": 54,
   "metadata": {},
   "outputs": [
    {
     "name": "stdout",
     "output_type": "stream",
     "text": [
      "1\n",
      "1\n"
     ]
    }
   ],
   "source": [
    "class A:\n",
    "    x = 1\n",
    "    def t(self):\n",
    "        return 1\n",
    "\n",
    "class D2:\n",
    "    def __init__(self):\n",
    "        self.tt = A()\n",
    "    def __getattr__(self, x):\n",
    "        return getattr(self.tt, x)\n",
    "    \n",
    "dd = D2()\n",
    "print(dd.x) #dd.x가 없으므로, self.tt를 실행시키기 \n",
    "print(dd.t())\n",
    "    "
   ]
  },
  {
   "cell_type": "code",
   "execution_count": 57,
   "metadata": {},
   "outputs": [
    {
     "data": {
      "text/plain": [
       "1"
      ]
     },
     "execution_count": 57,
     "metadata": {},
     "output_type": "execute_result"
    }
   ],
   "source": [
    "getattr(-1, \"__abs__\")() #문자열 받아서 실행할 수 있게 제공해준다. "
   ]
  },
  {
   "cell_type": "code",
   "execution_count": null,
   "metadata": {},
   "outputs": [],
   "source": [
    "# 다른 메소드를 이용해서 가져오기 \n",
    "\n",
    "class Human:\n",
    "    weight = 60\n",
    "    height = 170\n",
    "\n",
    "class Student:\n",
    "    age = 25\n",
    "    wage = 0\n",
    "    def __init__(self):\n",
    "        self.human = Human()\n",
    "    def __getattr__(self, x):\n",
    "        return getattr(self.human, x)\n",
    "        \n",
    "\n",
    "hj = Student()\n",
    "getattr(hj, \"height\") # height 변수는 없지만, attrerror가 나는 경우 human에서 가져오기\n",
    "\n",
    "\n",
    "\n",
    "\n",
    "\n"
   ]
  },
  {
   "cell_type": "code",
   "execution_count": 63,
   "metadata": {},
   "outputs": [
    {
     "name": "stdout",
     "output_type": "stream",
     "text": [
      "call\n"
     ]
    }
   ],
   "source": [
    "### __call__이 있으면 클래스이 인스턴스를 호출가능하게 해준다. \n",
    "### \n",
    "class D:\n",
    "    def call(self):\n",
    "        raise NotImplementedError\n",
    "    def __call__(self):\n",
    "        self.t()\n",
    "    def t(self):\n",
    "        return \"tt\"\n",
    "\n",
    "class E(D):\n",
    "    pass # call을 구현해주지 않으면 에러가 나온다\n",
    "    def call(self):\n",
    "        print('call')\n",
    "\n",
    "e = E()\n",
    "e.call() # NotImplementedErorr => 상속할 때 무조건 구현하라 \n",
    "\n"
   ]
  },
  {
   "cell_type": "code",
   "execution_count": 64,
   "metadata": {},
   "outputs": [],
   "source": [
    "d = D()\n",
    "d()"
   ]
  },
  {
   "cell_type": "markdown",
   "metadata": {},
   "source": [
    "### 1530~"
   ]
  },
  {
   "cell_type": "code",
   "execution_count": 54,
   "metadata": {},
   "outputs": [
    {
     "data": {
      "text/plain": [
       "<list_iterator at 0x1c8c5c9a710>"
      ]
     },
     "execution_count": 54,
     "metadata": {},
     "output_type": "execute_result"
    }
   ],
   "source": [
    "import tensorflow as tf\n",
    "a = iter([1, 2, 3, 4])\n",
    "a # itertor 자체로 몇개인지 알 수 없다.(tensorflow의 특징: lazy-evaluation이라 값을 중간에 확인 불가) \n",
    "# -> pytorch는 중간 중간 값을 확인 가능 (Eager execution 즉시 실행)"
   ]
  },
  {
   "cell_type": "code",
   "execution_count": 66,
   "metadata": {},
   "outputs": [],
   "source": [
    "def a():\n",
    "    return 1\n",
    "\n",
    "def a(x) :\n",
    "    return x"
   ]
  },
  {
   "cell_type": "code",
   "execution_count": 68,
   "metadata": {},
   "outputs": [
    {
     "ename": "NotImplementedError",
     "evalue": "",
     "output_type": "error",
     "traceback": [
      "\u001b[1;31m---------------------------------------------------------------------------\u001b[0m",
      "\u001b[1;31mNotImplementedError\u001b[0m                       Traceback (most recent call last)",
      "Cell \u001b[1;32mIn[68], line 13\u001b[0m\n\u001b[0;32m     10\u001b[0m     \u001b[39mpass\u001b[39;00m\n\u001b[0;32m     11\u001b[0m a \u001b[39m=\u001b[39m A()\n\u001b[1;32m---> 13\u001b[0m a\u001b[39m.\u001b[39;49mee() \u001b[39m# 추상화\u001b[39;00m\n",
      "Cell \u001b[1;32mIn[68], line 7\u001b[0m, in \u001b[0;36mD.ee\u001b[1;34m(self)\u001b[0m\n\u001b[0;32m      6\u001b[0m \u001b[39mdef\u001b[39;00m \u001b[39mee\u001b[39m(\u001b[39mself\u001b[39m):\n\u001b[1;32m----> 7\u001b[0m     \u001b[39mraise\u001b[39;00m \u001b[39mNotImplementedError\u001b[39;00m\n",
      "\u001b[1;31mNotImplementedError\u001b[0m: "
     ]
    }
   ],
   "source": [
    "A, B, C \n",
    "\n",
    "class D:\n",
    "    def c(self):\n",
    "        pass\n",
    "    def ee(self):\n",
    "        raise NotImplementedError\n",
    "    \n",
    "class A(D):\n",
    "    pass\n",
    "a = A()\n",
    "\n",
    "a.ee() # 추상화\n",
    "\n"
   ]
  },
  {
   "cell_type": "code",
   "execution_count": 70,
   "metadata": {},
   "outputs": [],
   "source": [
    "from collections.abc import Sequence #abstract class (추상 부모 클래스, 파이썬은 추상화를 상속을 기반으로 한다)\n",
    "\n",
    "class ExpandingSequence(Sequence):\n",
    "    def __init__(self, it):\n",
    "        self.it = it\n",
    "        self._cache = []\n",
    "    def __getitem__(self, index):\n",
    "        while len(self._cache) <= index:\n",
    "            self._cache.append(next(self.it))\n",
    "        return self._cache[index]\n",
    "    def __len__(self):\n",
    "        return len(self._cache)"
   ]
  },
  {
   "cell_type": "code",
   "execution_count": 62,
   "metadata": {},
   "outputs": [
    {
     "name": "stdout",
     "output_type": "stream",
     "text": [
      "class Dataset(Generic[T_co]):\n",
      "    r\"\"\"An abstract class representing a :class:`Dataset`.\n",
      "\n",
      "    All datasets that represent a map from keys to data samples should subclass\n",
      "    it. All subclasses should overwrite :meth:`__getitem__`, supporting fetching a\n",
      "    data sample for a given key. Subclasses could also optionally overwrite\n",
      "    :meth:`__len__`, which is expected to return the size of the dataset by many\n",
      "    :class:`~torch.utils.data.Sampler` implementations and the default options\n",
      "    of :class:`~torch.utils.data.DataLoader`.\n",
      "\n",
      "    .. note::\n",
      "      :class:`~torch.utils.data.DataLoader` by default constructs a index\n",
      "      sampler that yields integral indices.  To make it work with a map-style\n",
      "      dataset with non-integral indices/keys, a custom sampler must be provided.\n",
      "    \"\"\"\n",
      "\n",
      "    def __getitem__(self, index) -> T_co:\n",
      "        raise NotImplementedError\n",
      "\n",
      "    def __add__(self, other: 'Dataset[T_co]') -> 'ConcatDataset[T_co]':\n",
      "        return ConcatDataset([self, other])\n",
      "\n",
      "    # No `def __len__(self)` default?\n",
      "    # See NOTE [ Lack of Default `__len__` in Python Abstract Base Classes ]\n",
      "    # in pytorch/torch/utils/data/sampler.py\n",
      "\n"
     ]
    }
   ],
   "source": [
    "from torch.utils.data import DataLoader, Dataset\n",
    "import inspect\n",
    "print(inspect.getsource(Dataset))"
   ]
  },
  {
   "cell_type": "code",
   "execution_count": 75,
   "metadata": {},
   "outputs": [
    {
     "data": {
      "text/plain": [
       "<__main__.ExpandingSequence at 0x2a5b7a73250>"
      ]
     },
     "execution_count": 75,
     "metadata": {},
     "output_type": "execute_result"
    }
   ],
   "source": [
    "ExpandingSequence(iter([1, 2, 3, 4]))"
   ]
  },
  {
   "cell_type": "code",
   "execution_count": 76,
   "metadata": {},
   "outputs": [],
   "source": [
    "from abc import abstractmethod, ABC\n",
    "\n",
    "class D(ABC): #ABC를 상속받음\n",
    "    @abstractmethod\n",
    "    def x(self):\n",
    "        pass\n",
    "\n",
    "class E(D):\n",
    "    pass\n"
   ]
  },
  {
   "cell_type": "code",
   "execution_count": 68,
   "metadata": {},
   "outputs": [
    {
     "ename": "TypeError",
     "evalue": "Can't instantiate abstract class E with abstract method x",
     "output_type": "error",
     "traceback": [
      "\u001b[1;31m---------------------------------------------------------------------------\u001b[0m",
      "\u001b[1;31mTypeError\u001b[0m                                 Traceback (most recent call last)",
      "\u001b[1;32mc:\\Users\\HwijunKwon\\Desktop\\project\\sw\\programming\\pg_0911.ipynb Cell 24\u001b[0m line \u001b[0;36m1\n\u001b[1;32m----> <a href='vscode-notebook-cell:/c%3A/Users/HwijunKwon/Desktop/project/sw/programming/pg_0911.ipynb#X32sZmlsZQ%3D%3D?line=0'>1</a>\u001b[0m e \u001b[39m=\u001b[39m E()\n",
      "\u001b[1;31mTypeError\u001b[0m: Can't instantiate abstract class E with abstract method x"
     ]
    }
   ],
   "source": [
    "e = E() # \"Can't instantiate abstract class E with abstract method x\""
   ]
  },
  {
   "cell_type": "code",
   "execution_count": 69,
   "metadata": {},
   "outputs": [],
   "source": [
    "from abc import ABCMeta, abstractmethod\n",
    "class E(metaclass = ABCMeta):\n",
    "    @abstractmethod\n",
    "    def x(self) :\n",
    "        pass\n",
    "\n",
    "class F(E):\n",
    "    pass"
   ]
  },
  {
   "cell_type": "code",
   "execution_count": 70,
   "metadata": {},
   "outputs": [
    {
     "ename": "TypeError",
     "evalue": "Can't instantiate abstract class F with abstract method x",
     "output_type": "error",
     "traceback": [
      "\u001b[1;31m---------------------------------------------------------------------------\u001b[0m",
      "\u001b[1;31mTypeError\u001b[0m                                 Traceback (most recent call last)",
      "\u001b[1;32mc:\\Users\\HwijunKwon\\Desktop\\project\\sw\\programming\\pg_0911.ipynb Cell 26\u001b[0m line \u001b[0;36m1\n\u001b[1;32m----> <a href='vscode-notebook-cell:/c%3A/Users/HwijunKwon/Desktop/project/sw/programming/pg_0911.ipynb#X34sZmlsZQ%3D%3D?line=0'>1</a>\u001b[0m f\u001b[39m=\u001b[39m F()\n",
      "\u001b[1;31mTypeError\u001b[0m: Can't instantiate abstract class F with abstract method x"
     ]
    }
   ],
   "source": [
    "f= F() # abstract-method 로 지정된 x(self)를 직접 구현해야한다. "
   ]
  },
  {
   "cell_type": "code",
   "execution_count": 71,
   "metadata": {},
   "outputs": [],
   "source": [
    "class F(E):\n",
    "    def x(self):\n",
    "        pass\n",
    "\n",
    "f = F()\n",
    "\n"
   ]
  },
  {
   "cell_type": "markdown",
   "metadata": {},
   "source": [
    "1630"
   ]
  },
  {
   "cell_type": "code",
   "execution_count": 78,
   "metadata": {},
   "outputs": [],
   "source": [
    "import seaborn as sns\n",
    "tips = sns.load_dataset('tips')\n",
    "temp = []\n",
    "for i in tips['total_bill']:\n",
    "    temp.append(i*10)\n",
    "temp"
   ]
  },
  {
   "cell_type": "code",
   "execution_count": 79,
   "metadata": {},
   "outputs": [
    {
     "data": {
      "text/plain": [
       "[169.89999999999998,\n",
       " 103.4,\n",
       " 210.10000000000002,\n",
       " 236.8,\n",
       " 245.9,\n",
       " 252.89999999999998,\n",
       " 87.69999999999999,\n",
       " 268.8,\n",
       " 150.39999999999998,\n",
       " 147.79999999999998,\n",
       " 102.69999999999999,\n",
       " 352.59999999999997,\n",
       " 154.2,\n",
       " 184.3,\n",
       " 148.3,\n",
       " 215.79999999999998,\n",
       " 103.3,\n",
       " 162.89999999999998,\n",
       " 169.7,\n",
       " 206.5,\n",
       " 179.20000000000002,\n",
       " 202.89999999999998,\n",
       " 157.7,\n",
       " 394.20000000000005,\n",
       " 198.2,\n",
       " 178.1,\n",
       " 133.7,\n",
       " 126.89999999999999,\n",
       " 217.0,\n",
       " 196.5,\n",
       " 95.5,\n",
       " 183.5,\n",
       " 150.6,\n",
       " 206.9,\n",
       " 177.8,\n",
       " 240.6,\n",
       " 163.1,\n",
       " 169.3,\n",
       " 186.9,\n",
       " 312.7,\n",
       " 160.39999999999998,\n",
       " 174.60000000000002,\n",
       " 139.4,\n",
       " 96.8,\n",
       " 304.0,\n",
       " 182.89999999999998,\n",
       " 222.3,\n",
       " 324.0,\n",
       " 285.5,\n",
       " 180.39999999999998,\n",
       " 125.39999999999999,\n",
       " 102.89999999999999,\n",
       " 348.1,\n",
       " 99.39999999999999,\n",
       " 255.6,\n",
       " 194.89999999999998,\n",
       " 380.09999999999997,\n",
       " 264.1,\n",
       " 112.4,\n",
       " 482.70000000000005,\n",
       " 202.89999999999998,\n",
       " 138.1,\n",
       " 110.19999999999999,\n",
       " 182.89999999999998,\n",
       " 175.9,\n",
       " 200.79999999999998,\n",
       " 164.5,\n",
       " 30.7,\n",
       " 202.3,\n",
       " 150.1,\n",
       " 120.19999999999999,\n",
       " 170.7,\n",
       " 268.6,\n",
       " 252.8,\n",
       " 147.3,\n",
       " 105.1,\n",
       " 179.20000000000002,\n",
       " 272.0,\n",
       " 227.60000000000002,\n",
       " 172.89999999999998,\n",
       " 194.4,\n",
       " 166.6,\n",
       " 100.7,\n",
       " 326.8,\n",
       " 159.8,\n",
       " 348.29999999999995,\n",
       " 130.29999999999998,\n",
       " 182.8,\n",
       " 247.10000000000002,\n",
       " 211.6,\n",
       " 289.7,\n",
       " 224.89999999999998,\n",
       " 57.5,\n",
       " 163.2,\n",
       " 227.5,\n",
       " 401.70000000000005,\n",
       " 272.8,\n",
       " 120.3,\n",
       " 210.10000000000002,\n",
       " 124.60000000000001,\n",
       " 113.5,\n",
       " 153.8,\n",
       " 443.0,\n",
       " 224.20000000000002,\n",
       " 209.20000000000002,\n",
       " 153.6,\n",
       " 204.89999999999998,\n",
       " 252.10000000000002,\n",
       " 182.39999999999998,\n",
       " 143.1,\n",
       " 140.0,\n",
       " 72.5,\n",
       " 380.7,\n",
       " 239.5,\n",
       " 257.1,\n",
       " 173.1,\n",
       " 299.3,\n",
       " 106.5,\n",
       " 124.3,\n",
       " 240.79999999999998,\n",
       " 116.89999999999999,\n",
       " 134.2,\n",
       " 142.6,\n",
       " 159.5,\n",
       " 124.80000000000001,\n",
       " 298.0,\n",
       " 85.19999999999999,\n",
       " 145.2,\n",
       " 113.80000000000001,\n",
       " 228.2,\n",
       " 190.79999999999998,\n",
       " 202.7,\n",
       " 111.7,\n",
       " 122.6,\n",
       " 182.60000000000002,\n",
       " 85.1,\n",
       " 103.3,\n",
       " 141.5,\n",
       " 160.0,\n",
       " 131.6,\n",
       " 174.7,\n",
       " 343.0,\n",
       " 411.9,\n",
       " 270.5,\n",
       " 164.3,\n",
       " 83.5,\n",
       " 186.4,\n",
       " 118.69999999999999,\n",
       " 97.8,\n",
       " 75.1,\n",
       " 140.7,\n",
       " 131.3,\n",
       " 172.60000000000002,\n",
       " 245.5,\n",
       " 197.7,\n",
       " 298.5,\n",
       " 481.70000000000005,\n",
       " 250.0,\n",
       " 133.9,\n",
       " 164.89999999999998,\n",
       " 215.0,\n",
       " 126.6,\n",
       " 162.10000000000002,\n",
       " 138.1,\n",
       " 175.10000000000002,\n",
       " 245.2,\n",
       " 207.60000000000002,\n",
       " 317.1,\n",
       " 105.9,\n",
       " 106.30000000000001,\n",
       " 508.1,\n",
       " 158.1,\n",
       " 72.5,\n",
       " 318.5,\n",
       " 168.2,\n",
       " 329.0,\n",
       " 178.9,\n",
       " 144.8,\n",
       " 96.0,\n",
       " 346.3,\n",
       " 346.5,\n",
       " 233.29999999999998,\n",
       " 453.5,\n",
       " 231.70000000000002,\n",
       " 405.5,\n",
       " 206.9,\n",
       " 209.0,\n",
       " 304.6,\n",
       " 181.5,\n",
       " 231.0,\n",
       " 156.9,\n",
       " 198.1,\n",
       " 284.40000000000003,\n",
       " 154.8,\n",
       " 165.79999999999998,\n",
       " 75.6,\n",
       " 103.4,\n",
       " 431.1,\n",
       " 130.0,\n",
       " 135.1,\n",
       " 187.10000000000002,\n",
       " 127.4,\n",
       " 130.0,\n",
       " 164.0,\n",
       " 205.3,\n",
       " 164.7,\n",
       " 265.9,\n",
       " 387.29999999999995,\n",
       " 242.7,\n",
       " 127.6,\n",
       " 300.59999999999997,\n",
       " 258.9,\n",
       " 483.29999999999995,\n",
       " 132.7,\n",
       " 281.70000000000005,\n",
       " 129.0,\n",
       " 281.5,\n",
       " 115.9,\n",
       " 77.4,\n",
       " 301.4,\n",
       " 121.6,\n",
       " 134.2,\n",
       " 85.8,\n",
       " 159.8,\n",
       " 134.2,\n",
       " 162.7,\n",
       " 100.9,\n",
       " 204.5,\n",
       " 132.79999999999998,\n",
       " 221.20000000000002,\n",
       " 240.10000000000002,\n",
       " 156.9,\n",
       " 116.1,\n",
       " 107.69999999999999,\n",
       " 155.29999999999998,\n",
       " 100.7,\n",
       " 126.0,\n",
       " 328.29999999999995,\n",
       " 358.29999999999995,\n",
       " 290.3,\n",
       " 271.8,\n",
       " 226.70000000000002,\n",
       " 178.2,\n",
       " 187.8]"
      ]
     },
     "execution_count": 79,
     "metadata": {},
     "output_type": "execute_result"
    }
   ],
   "source": [
    "temp"
   ]
  },
  {
   "cell_type": "code",
   "execution_count": 80,
   "metadata": {},
   "outputs": [
    {
     "data": {
      "text/plain": [
       "11"
      ]
     },
     "execution_count": 80,
     "metadata": {},
     "output_type": "execute_result"
    }
   ],
   "source": [
    "data = map(lambda x:x+10, [ 1, 2, 3, 4, 5]) # <map at 0x12f50d9aef0> : 이 메모리에 지정됨\n",
    "dir(data) # __iter__ 존재 : iterator 형태로 만들어져있다.\n",
    "next(data)"
   ]
  },
  {
   "cell_type": "code",
   "execution_count": 15,
   "metadata": {},
   "outputs": [],
   "source": [
    "# 2가지를 만들고 싶을 때 \n",
    "# data = map(lambda x:x+10, [1, 2, 3, 4, 5], [1, 2, 3, 4, 5] ) (X)\n",
    "data = map(lambda x, y :[x,y], [1, 2, 3, 4, 5], [1, 2, 3, 4, 5] ) # 각 변수별로 지정\n",
    "next(data)\n",
    "\n"
   ]
  },
  {
   "cell_type": "code",
   "execution_count": 19,
   "metadata": {},
   "outputs": [
    {
     "data": {
      "text/plain": [
       "[4, 4]"
      ]
     },
     "execution_count": 19,
     "metadata": {},
     "output_type": "execute_result"
    }
   ],
   "source": [
    "# 묶는 구조체를 만들 떄는 zip"
   ]
  },
  {
   "cell_type": "code",
   "execution_count": 4,
   "metadata": {},
   "outputs": [
    {
     "data": {
      "text/plain": [
       "['T',\n",
       " '_AXIS_LEN',\n",
       " '_AXIS_ORDERS',\n",
       " '_AXIS_TO_AXIS_NUMBER',\n",
       " '_HANDLED_TYPES',\n",
       " '__abs__',\n",
       " '__add__',\n",
       " '__and__',\n",
       " '__annotations__',\n",
       " '__array__',\n",
       " '__array_priority__',\n",
       " '__array_ufunc__',\n",
       " '__array_wrap__',\n",
       " '__bool__',\n",
       " '__class__',\n",
       " '__contains__',\n",
       " '__copy__',\n",
       " '__deepcopy__',\n",
       " '__delattr__',\n",
       " '__delitem__',\n",
       " '__dict__',\n",
       " '__dir__',\n",
       " '__divmod__',\n",
       " '__doc__',\n",
       " '__eq__',\n",
       " '__finalize__',\n",
       " '__float__',\n",
       " '__floordiv__',\n",
       " '__format__',\n",
       " '__ge__',\n",
       " '__getattr__',\n",
       " '__getattribute__',\n",
       " '__getitem__',\n",
       " '__getstate__',\n",
       " '__gt__',\n",
       " '__hash__',\n",
       " '__iadd__',\n",
       " '__iand__',\n",
       " '__ifloordiv__',\n",
       " '__imod__',\n",
       " '__imul__',\n",
       " '__init__',\n",
       " '__init_subclass__',\n",
       " '__int__',\n",
       " '__invert__',\n",
       " '__ior__',\n",
       " '__ipow__',\n",
       " '__isub__',\n",
       " '__iter__',\n",
       " '__itruediv__',\n",
       " '__ixor__',\n",
       " '__le__',\n",
       " '__len__',\n",
       " '__long__',\n",
       " '__lt__',\n",
       " '__matmul__',\n",
       " '__mod__',\n",
       " '__module__',\n",
       " '__mul__',\n",
       " '__ne__',\n",
       " '__neg__',\n",
       " '__new__',\n",
       " '__nonzero__',\n",
       " '__or__',\n",
       " '__pos__',\n",
       " '__pow__',\n",
       " '__radd__',\n",
       " '__rand__',\n",
       " '__rdivmod__',\n",
       " '__reduce__',\n",
       " '__reduce_ex__',\n",
       " '__repr__',\n",
       " '__rfloordiv__',\n",
       " '__rmatmul__',\n",
       " '__rmod__',\n",
       " '__rmul__',\n",
       " '__ror__',\n",
       " '__round__',\n",
       " '__rpow__',\n",
       " '__rsub__',\n",
       " '__rtruediv__',\n",
       " '__rxor__',\n",
       " '__setattr__',\n",
       " '__setitem__',\n",
       " '__setstate__',\n",
       " '__sizeof__',\n",
       " '__str__',\n",
       " '__sub__',\n",
       " '__subclasshook__',\n",
       " '__truediv__',\n",
       " '__weakref__',\n",
       " '__xor__',\n",
       " '_accessors',\n",
       " '_accum_func',\n",
       " '_add_numeric_operations',\n",
       " '_agg_by_level',\n",
       " '_agg_examples_doc',\n",
       " '_agg_see_also_doc',\n",
       " '_align_frame',\n",
       " '_align_series',\n",
       " '_append',\n",
       " '_arith_method',\n",
       " '_as_manager',\n",
       " '_attrs',\n",
       " '_binop',\n",
       " '_cacher',\n",
       " '_can_hold_na',\n",
       " '_check_inplace_and_allows_duplicate_labels',\n",
       " '_check_inplace_setting',\n",
       " '_check_is_chained_assignment_possible',\n",
       " '_check_label_or_level_ambiguity',\n",
       " '_check_setitem_copy',\n",
       " '_clear_item_cache',\n",
       " '_clip_with_one_bound',\n",
       " '_clip_with_scalar',\n",
       " '_cmp_method',\n",
       " '_consolidate',\n",
       " '_consolidate_inplace',\n",
       " '_construct_axes_dict',\n",
       " '_construct_axes_from_arguments',\n",
       " '_construct_result',\n",
       " '_constructor',\n",
       " '_constructor_expanddim',\n",
       " '_convert',\n",
       " '_convert_dtypes',\n",
       " '_data',\n",
       " '_dir_additions',\n",
       " '_dir_deletions',\n",
       " '_drop_axis',\n",
       " '_drop_labels_or_levels',\n",
       " '_duplicated',\n",
       " '_find_valid_index',\n",
       " '_flags',\n",
       " '_get_axis',\n",
       " '_get_axis_name',\n",
       " '_get_axis_number',\n",
       " '_get_axis_resolvers',\n",
       " '_get_block_manager_axis',\n",
       " '_get_bool_data',\n",
       " '_get_cacher',\n",
       " '_get_cleaned_column_resolvers',\n",
       " '_get_index_resolvers',\n",
       " '_get_label_or_level_values',\n",
       " '_get_numeric_data',\n",
       " '_get_value',\n",
       " '_get_values',\n",
       " '_get_values_tuple',\n",
       " '_get_with',\n",
       " '_gotitem',\n",
       " '_hidden_attrs',\n",
       " '_indexed_same',\n",
       " '_info_axis',\n",
       " '_info_axis_name',\n",
       " '_info_axis_number',\n",
       " '_init_dict',\n",
       " '_init_mgr',\n",
       " '_inplace_method',\n",
       " '_internal_names',\n",
       " '_internal_names_set',\n",
       " '_is_cached',\n",
       " '_is_copy',\n",
       " '_is_label_or_level_reference',\n",
       " '_is_label_reference',\n",
       " '_is_level_reference',\n",
       " '_is_mixed_type',\n",
       " '_is_view',\n",
       " '_item_cache',\n",
       " '_ixs',\n",
       " '_logical_func',\n",
       " '_logical_method',\n",
       " '_map_values',\n",
       " '_maybe_update_cacher',\n",
       " '_memory_usage',\n",
       " '_metadata',\n",
       " '_mgr',\n",
       " '_min_count_stat_function',\n",
       " '_name',\n",
       " '_needs_reindex_multi',\n",
       " '_protect_consolidate',\n",
       " '_reduce',\n",
       " '_reindex_axes',\n",
       " '_reindex_indexer',\n",
       " '_reindex_multi',\n",
       " '_reindex_with_indexers',\n",
       " '_rename',\n",
       " '_replace_single',\n",
       " '_repr_data_resource_',\n",
       " '_repr_latex_',\n",
       " '_reset_cache',\n",
       " '_reset_cacher',\n",
       " '_set_as_cached',\n",
       " '_set_axis',\n",
       " '_set_axis_name',\n",
       " '_set_axis_nocheck',\n",
       " '_set_is_copy',\n",
       " '_set_labels',\n",
       " '_set_name',\n",
       " '_set_value',\n",
       " '_set_values',\n",
       " '_set_with',\n",
       " '_set_with_engine',\n",
       " '_slice',\n",
       " '_stat_axis',\n",
       " '_stat_axis_name',\n",
       " '_stat_axis_number',\n",
       " '_stat_function',\n",
       " '_stat_function_ddof',\n",
       " '_take',\n",
       " '_take_with_is_copy',\n",
       " '_typ',\n",
       " '_update_inplace',\n",
       " '_validate_dtype',\n",
       " '_values',\n",
       " '_where',\n",
       " 'abs',\n",
       " 'add',\n",
       " 'add_prefix',\n",
       " 'add_suffix',\n",
       " 'agg',\n",
       " 'aggregate',\n",
       " 'align',\n",
       " 'all',\n",
       " 'any',\n",
       " 'append',\n",
       " 'apply',\n",
       " 'argmax',\n",
       " 'argmin',\n",
       " 'argsort',\n",
       " 'array',\n",
       " 'asfreq',\n",
       " 'asof',\n",
       " 'astype',\n",
       " 'at',\n",
       " 'at_time',\n",
       " 'attrs',\n",
       " 'autocorr',\n",
       " 'axes',\n",
       " 'backfill',\n",
       " 'between',\n",
       " 'between_time',\n",
       " 'bfill',\n",
       " 'bool',\n",
       " 'clip',\n",
       " 'combine',\n",
       " 'combine_first',\n",
       " 'compare',\n",
       " 'convert_dtypes',\n",
       " 'copy',\n",
       " 'corr',\n",
       " 'count',\n",
       " 'cov',\n",
       " 'cummax',\n",
       " 'cummin',\n",
       " 'cumprod',\n",
       " 'cumsum',\n",
       " 'describe',\n",
       " 'diff',\n",
       " 'div',\n",
       " 'divide',\n",
       " 'divmod',\n",
       " 'dot',\n",
       " 'drop',\n",
       " 'drop_duplicates',\n",
       " 'droplevel',\n",
       " 'dropna',\n",
       " 'dtype',\n",
       " 'dtypes',\n",
       " 'duplicated',\n",
       " 'empty',\n",
       " 'eq',\n",
       " 'equals',\n",
       " 'ewm',\n",
       " 'expanding',\n",
       " 'explode',\n",
       " 'factorize',\n",
       " 'ffill',\n",
       " 'fillna',\n",
       " 'filter',\n",
       " 'first',\n",
       " 'first_valid_index',\n",
       " 'flags',\n",
       " 'floordiv',\n",
       " 'ge',\n",
       " 'get',\n",
       " 'groupby',\n",
       " 'gt',\n",
       " 'hasnans',\n",
       " 'head',\n",
       " 'hist',\n",
       " 'iat',\n",
       " 'idxmax',\n",
       " 'idxmin',\n",
       " 'iloc',\n",
       " 'index',\n",
       " 'infer_objects',\n",
       " 'info',\n",
       " 'interpolate',\n",
       " 'is_monotonic',\n",
       " 'is_monotonic_decreasing',\n",
       " 'is_monotonic_increasing',\n",
       " 'is_unique',\n",
       " 'isin',\n",
       " 'isna',\n",
       " 'isnull',\n",
       " 'item',\n",
       " 'items',\n",
       " 'iteritems',\n",
       " 'keys',\n",
       " 'kurt',\n",
       " 'kurtosis',\n",
       " 'last',\n",
       " 'last_valid_index',\n",
       " 'le',\n",
       " 'loc',\n",
       " 'lt',\n",
       " 'mad',\n",
       " 'map',\n",
       " 'mask',\n",
       " 'max',\n",
       " 'mean',\n",
       " 'median',\n",
       " 'memory_usage',\n",
       " 'min',\n",
       " 'mod',\n",
       " 'mode',\n",
       " 'mul',\n",
       " 'multiply',\n",
       " 'name',\n",
       " 'nbytes',\n",
       " 'ndim',\n",
       " 'ne',\n",
       " 'nlargest',\n",
       " 'notna',\n",
       " 'notnull',\n",
       " 'nsmallest',\n",
       " 'nunique',\n",
       " 'pad',\n",
       " 'pct_change',\n",
       " 'pipe',\n",
       " 'plot',\n",
       " 'pop',\n",
       " 'pow',\n",
       " 'prod',\n",
       " 'product',\n",
       " 'quantile',\n",
       " 'radd',\n",
       " 'rank',\n",
       " 'ravel',\n",
       " 'rdiv',\n",
       " 'rdivmod',\n",
       " 'reindex',\n",
       " 'reindex_like',\n",
       " 'rename',\n",
       " 'rename_axis',\n",
       " 'reorder_levels',\n",
       " 'repeat',\n",
       " 'replace',\n",
       " 'resample',\n",
       " 'reset_index',\n",
       " 'rfloordiv',\n",
       " 'rmod',\n",
       " 'rmul',\n",
       " 'rolling',\n",
       " 'round',\n",
       " 'rpow',\n",
       " 'rsub',\n",
       " 'rtruediv',\n",
       " 'sample',\n",
       " 'searchsorted',\n",
       " 'sem',\n",
       " 'set_axis',\n",
       " 'set_flags',\n",
       " 'shape',\n",
       " 'shift',\n",
       " 'size',\n",
       " 'skew',\n",
       " 'slice_shift',\n",
       " 'sort_index',\n",
       " 'sort_values',\n",
       " 'squeeze',\n",
       " 'std',\n",
       " 'sub',\n",
       " 'subtract',\n",
       " 'sum',\n",
       " 'swapaxes',\n",
       " 'swaplevel',\n",
       " 'tail',\n",
       " 'take',\n",
       " 'to_clipboard',\n",
       " 'to_csv',\n",
       " 'to_dict',\n",
       " 'to_excel',\n",
       " 'to_frame',\n",
       " 'to_hdf',\n",
       " 'to_json',\n",
       " 'to_latex',\n",
       " 'to_list',\n",
       " 'to_markdown',\n",
       " 'to_numpy',\n",
       " 'to_period',\n",
       " 'to_pickle',\n",
       " 'to_sql',\n",
       " 'to_string',\n",
       " 'to_timestamp',\n",
       " 'to_xarray',\n",
       " 'transform',\n",
       " 'transpose',\n",
       " 'truediv',\n",
       " 'truncate',\n",
       " 'tz_convert',\n",
       " 'tz_localize',\n",
       " 'unique',\n",
       " 'unstack',\n",
       " 'update',\n",
       " 'value_counts',\n",
       " 'values',\n",
       " 'var',\n",
       " 'view',\n",
       " 'where',\n",
       " 'xs']"
      ]
     },
     "execution_count": 4,
     "metadata": {},
     "output_type": "execute_result"
    }
   ],
   "source": [
    "tips.sex.map([])"
   ]
  },
  {
   "cell_type": "code",
   "execution_count": 77,
   "metadata": {},
   "outputs": [
    {
     "name": "stdout",
     "output_type": "stream",
     "text": [
      "15\n",
      "[1, 3, 6, 10, 15]\n"
     ]
    }
   ],
   "source": [
    "from functools import reduce\n",
    "print(reduce(lambda x, y : x + y, [1, 2, 3, 4, 5]))\n",
    "from itertools import accumulate\n",
    "print(list(accumulate([1, 2, 3, 4, 5], lambda x, y : x +y)))\n"
   ]
  },
  {
   "cell_type": "code",
   "execution_count": 23,
   "metadata": {},
   "outputs": [
    {
     "data": {
      "text/plain": [
       "(3, 4)"
      ]
     },
     "execution_count": 23,
     "metadata": {},
     "output_type": "execute_result"
    }
   ],
   "source": [
    "a = 1\n",
    "b = 3\n",
    "a, b = b, a+3 # 괄호가 생략되어서 tuple이기 때문에 동시에 연산이 된다. \n",
    "a, b"
   ]
  },
  {
   "cell_type": "code",
   "execution_count": 24,
   "metadata": {},
   "outputs": [
    {
     "name": "stdout",
     "output_type": "stream",
     "text": [
      "2023-11-19 00:00:00\n"
     ]
    }
   ],
   "source": [
    "import datetime\n",
    "\n",
    "print(datetime.datetime(1996, 7 , 3) + datetime.timedelta(10000))"
   ]
  },
  {
   "cell_type": "code",
   "execution_count": 28,
   "metadata": {},
   "outputs": [
    {
     "data": {
      "text/plain": [
       "(1, 2, 3, 4, 5, 6)"
      ]
     },
     "execution_count": 28,
     "metadata": {},
     "output_type": "execute_result"
    }
   ],
   "source": [
    "from itertools import chain\n",
    "b = chain([1, 2, 3], [4, 5, 6])\n",
    "next(b), next(b), next(b), next(b), next(b), next(b),"
   ]
  },
  {
   "cell_type": "code",
   "execution_count": 33,
   "metadata": {},
   "outputs": [
    {
     "data": {
      "text/plain": [
       "(3, 4)"
      ]
     },
     "execution_count": 33,
     "metadata": {},
     "output_type": "execute_result"
    }
   ],
   "source": [
    "a = 1\n",
    "b = 3\n",
    "a, b = b, a+3 \n",
    "a, b"
   ]
  },
  {
   "cell_type": "code",
   "execution_count": 36,
   "metadata": {},
   "outputs": [
    {
     "data": {
      "text/plain": [
       "(1, 3)"
      ]
     },
     "execution_count": 36,
     "metadata": {},
     "output_type": "execute_result"
    }
   ],
   "source": [
    "from itertools import chain\n",
    "b = chain([1, 2, 3], [4, 5, 6])\n",
    "a = 1\n",
    "a, b = next(b) , a+next(b)\n",
    "a, b\n",
    "\n",
    "b = chain([1, 2, 3], [4, 5, 6])\n",
    "a, b = (next(b) , a+next(b))\n",
    "a, b\n"
   ]
  }
 ],
 "metadata": {
  "kernelspec": {
   "display_name": "Python 3",
   "language": "python",
   "name": "python3"
  },
  "language_info": {
   "codemirror_mode": {
    "name": "ipython",
    "version": 3
   },
   "file_extension": ".py",
   "mimetype": "text/x-python",
   "name": "python",
   "nbconvert_exporter": "python",
   "pygments_lexer": "ipython3",
   "version": "3.11.4"
  },
  "orig_nbformat": 4
 },
 "nbformat": 4,
 "nbformat_minor": 2
}
