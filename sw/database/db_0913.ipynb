{
 "cells": [
  {
   "cell_type": "markdown",
   "metadata": {},
   "source": [
    "9월 13일 수요일\n",
    "- Dom\n",
    "- "
   ]
  },
  {
   "cell_type": "code",
   "execution_count": null,
   "metadata": {},
   "outputs": [],
   "source": [
    "# Example by GPT\n",
    "import requests\n",
    "from bs4 import BeautifulSoup\n",
    "\n",
    "# 웹 페이지 가져오기\n",
    "url = 'https://lms.sunde41.net/dashboard/'  # 이곳에 원하는 URL을 입력하세요\n",
    "response = requests.get(url)\n",
    "response.raise_for_status()  # 에러 발생 시 예외를 발생시킵니다\n",
    "\n",
    "# BeautifulSoup로 HTML 파싱\n",
    "soup = BeautifulSoup(response.text, 'html.parser')\n",
    "\n",
    "# <a> 태그 모두 가져오기\n",
    "a_tags = soup.find_all('a')\n",
    "\n",
    "for tag in a_tags:\n",
    "    print(tag)"
   ]
  },
  {
   "cell_type": "markdown",
   "metadata": {},
   "source": [
    "### BS"
   ]
  },
  {
   "cell_type": "code",
   "execution_count": null,
   "metadata": {},
   "outputs": [],
   "source": [
    "from bs4 import BeautifulSoup "
   ]
  },
  {
   "cell_type": "code",
   "execution_count": null,
   "metadata": {},
   "outputs": [],
   "source": [
    "# 연습 HTML 만들기\n",
    "html = '''\n",
    "<html>\n",
    "    <head> </head>\n",
    "    <body> \n",
    "        <div>\n",
    "            <a href = '/link1'>\n",
    "            </div>\n",
    "        </body>\n",
    "\n",
    "    </html>\n",
    "'''\n",
    "\n",
    "dom = BeautifulSoup(html, 'html.parser') # \n",
    "print(dom)\n",
    "print(html) #dom과 html의 출력이 비슷해보이지만 전혀 다르다!"
   ]
  },
  {
   "cell_type": "code",
   "execution_count": null,
   "metadata": {},
   "outputs": [],
   "source": [
    "type(dom.html)"
   ]
  },
  {
   "cell_type": "code",
   "execution_count": null,
   "metadata": {},
   "outputs": [],
   "source": [
    "dom.html.body.div, dom.div\n",
    "dom.html.body.div is dom.div"
   ]
  },
  {
   "cell_type": "code",
   "execution_count": null,
   "metadata": {},
   "outputs": [],
   "source": [
    "dom.a.attrs['href'] "
   ]
  },
  {
   "cell_type": "code",
   "execution_count": null,
   "metadata": {},
   "outputs": [],
   "source": [
    "dom.div.attrs['href'] if dom.div.has_attr('href') else None #"
   ]
  },
  {
   "cell_type": "code",
   "execution_count": null,
   "metadata": {},
   "outputs": [],
   "source": [
    "dom.a is dom.p.a"
   ]
  },
  {
   "cell_type": "code",
   "execution_count": null,
   "metadata": {},
   "outputs": [],
   "source": [
    "dom.li.img.has_attr('src') \n",
    "# 1. 객체 확인 : None인지 먼저 확인 해봐야한다. -> 객체 확인\n",
    "# 2. 속성 확인 : has_attr\n",
    "# 3. 속성 가져오기 : attrs \n",
    "\n",
    "# 왜"
   ]
  },
  {
   "cell_type": "code",
   "execution_count": null,
   "metadata": {},
   "outputs": [],
   "source": [
    "html = '''\n",
    "<html>\n",
    "    <head> </head>\n",
    "    <body> \n",
    "        <div id = \"result\">\n",
    "            <p class = row>\n",
    "                <a class = \"red\" href = \"/link1\"> 링크 1 </a>\n",
    "                <a class = \"blue\" href = \"/link2\"> 링크 2</a>\n",
    "            <a href = '/link1'>\n",
    "            </p>\n",
    "            </div>\n",
    "        </body>\n",
    "\n",
    "    </html>\n",
    "'''\n",
    "\n",
    "# not well formed 되더라도 출력 됨\n",
    "# key -value 쌍이 맞지 않더라도 ㄱㅊ : attributes(k = v)"
   ]
  },
  {
   "cell_type": "code",
   "execution_count": null,
   "metadata": {},
   "outputs": [],
   "source": [
    "for parser in ['html.parser', 'lxml', 'html5lib']:\n",
    "    dom = BeautifulSoup(html, parser) \n",
    "    print(dom) \n",
    "    print(\"---------------\")\n",
    "\n",
    "# parser에 따라 dom의 결과가 달라진다. "
   ]
  },
  {
   "cell_type": "code",
   "execution_count": null,
   "metadata": {},
   "outputs": [],
   "source": [
    "# . : html 태그의 자손들 중 첫번째 값을 탐색한다\n",
    "dom.p.a\n",
    "\n",
    "[type(node) for node in dom.p.contents if type(node) is ]"
   ]
  },
  {
   "cell_type": "markdown",
   "metadata": {},
   "source": [
    "1000~"
   ]
  },
  {
   "cell_type": "code",
   "execution_count": null,
   "metadata": {},
   "outputs": [],
   "source": [
    "# find_ 함수 : next, previous (dom의 트리를 기준으로)\n",
    "\n",
    "dom.find_"
   ]
  },
  {
   "cell_type": "code",
   "execution_count": null,
   "metadata": {},
   "outputs": [],
   "source": [
    "import requests\n",
    "from bs4 import BeautifulSoup\n",
    "\n",
    "url = 'https://lms.sunde41.net/dashboard/'  # 이곳에 원하는 URL을 입력하세요\n",
    "response = requests.get(url)\n",
    "response.raise_for_status()\n",
    "\n",
    "dom = BeautifulSoup(response.text, 'html.parser')"
   ]
  },
  {
   "cell_type": "code",
   "execution_count": null,
   "metadata": {},
   "outputs": [],
   "source": [
    "# a 가 들어간 첫번째\n",
    "dom.find('a')"
   ]
  },
  {
   "cell_type": "code",
   "execution_count": null,
   "metadata": {},
   "outputs": [],
   "source": [
    "html = '''\n",
    "<html>\n",
    "    <head> </head>\n",
    "    <body> \n",
    "        <div id = \"result\">\n",
    "            <p class = row>\n",
    "                <a class = \"red\" href = \"/link1\"> '링크1' </a>\n",
    "                <a class = \"blue\" href = \"/link2\"> '링크2' </a>\n",
    "            <a href = '/link1'>\n",
    "            </p>\n",
    "            </div>\n",
    "        <div id = \"result2\">\n",
    "            <p class = row>\n",
    "                <a class = \"red\" href = \"/link1\"> '링크1' </a>\n",
    "                <a class = \"blue\" href = \"/link2\"> '링크2'</a>\n",
    "            <a href = '/link1'>\n",
    "            </p>\n",
    "            </div>\n",
    "        </body>\n",
    "\n",
    "    </html>\n",
    "'''\n",
    "\n",
    "dom = BeautifulSoup(html, 'html.parser')\n",
    "dom"
   ]
  },
  {
   "cell_type": "code",
   "execution_count": null,
   "metadata": {},
   "outputs": [],
   "source": [
    "dom.find(attrs = {'id' : 'result1'}).a is dom.a # NoneType' object has no attribute 'a' (??)"
   ]
  },
  {
   "cell_type": "code",
   "execution_count": null,
   "metadata": {},
   "outputs": [],
   "source": [
    "dom.find('div', recursive= False)"
   ]
  },
  {
   "cell_type": "code",
   "execution_count": null,
   "metadata": {},
   "outputs": [],
   "source": [
    "dom.find('div', recursive= True)"
   ]
  },
  {
   "cell_type": "code",
   "execution_count": null,
   "metadata": {},
   "outputs": [],
   "source": [
    "dom.div.p.contents"
   ]
  },
  {
   "cell_type": "code",
   "execution_count": null,
   "metadata": {},
   "outputs": [],
   "source": [
    "dom.div.p.find_all(recursive=False)"
   ]
  },
  {
   "cell_type": "code",
   "execution_count": null,
   "metadata": {},
   "outputs": [],
   "source": [
    "dom.div.p.find_all(recursive=False)[0]"
   ]
  },
  {
   "cell_type": "code",
   "execution_count": null,
   "metadata": {},
   "outputs": [],
   "source": [
    "dom.div.p.find_all(recursive=False)[0] is dom.a # True"
   ]
  },
  {
   "cell_type": "code",
   "execution_count": null,
   "metadata": {},
   "outputs": [],
   "source": [
    "dom"
   ]
  },
  {
   "cell_type": "code",
   "execution_count": null,
   "metadata": {},
   "outputs": [],
   "source": [
    "# find_parent\n",
    "\n",
    "print(dom.find_all(string = '링크1'))"
   ]
  },
  {
   "cell_type": "code",
   "execution_count": null,
   "metadata": {},
   "outputs": [],
   "source": [
    "dom.find_all(recursive=False, limit = 1)[0] is dom.find(recursive = False)"
   ]
  },
  {
   "cell_type": "code",
   "execution_count": null,
   "metadata": {},
   "outputs": [],
   "source": [
    "# 정규식 섞기\n",
    "import re\n",
    "dom.find(string = re.compile('1$')) is dom.find(string = '링크1')# 1로 끝나는"
   ]
  },
  {
   "cell_type": "code",
   "execution_count": null,
   "metadata": {},
   "outputs": [],
   "source": [
    "dom.find(attrs = {'id':re.compile('1$')}) is dom.find(attrs = {'id': 'result1'}) "
   ]
  },
  {
   "cell_type": "code",
   "execution_count": null,
   "metadata": {},
   "outputs": [],
   "source": [
    "dom.a.find_parent() is dom.p"
   ]
  },
  {
   "cell_type": "code",
   "execution_count": null,
   "metadata": {},
   "outputs": [],
   "source": [
    "dom.p is dom.find('p')"
   ]
  },
  {
   "cell_type": "code",
   "execution_count": null,
   "metadata": {},
   "outputs": [],
   "source": [
    "dom.find('p')"
   ]
  },
  {
   "cell_type": "code",
   "execution_count": null,
   "metadata": {},
   "outputs": [],
   "source": [
    "dom.find('p') is dom.find(attrs = {'class' : 'row'})"
   ]
  },
  {
   "cell_type": "code",
   "execution_count": null,
   "metadata": {},
   "outputs": [],
   "source": [
    "dom.find('p').find_all('a')[-1].find_parent()"
   ]
  },
  {
   "cell_type": "code",
   "execution_count": null,
   "metadata": {},
   "outputs": [],
   "source": [
    "dom.a.find_parents() #모든 부모를 불러올 수 있다."
   ]
  },
  {
   "cell_type": "code",
   "execution_count": null,
   "metadata": {},
   "outputs": [],
   "source": [
    "dom.a"
   ]
  },
  {
   "cell_type": "code",
   "execution_count": null,
   "metadata": {},
   "outputs": [],
   "source": [
    "for node in dom.a.find_parents():\n",
    "    print(node.name)"
   ]
  },
  {
   "cell_type": "code",
   "execution_count": null,
   "metadata": {},
   "outputs": [],
   "source": [
    "for node in dom.a.find_parents(limit =3): #limit : 몇개까지 찾을지\n",
    "    print(node.name)"
   ]
  },
  {
   "cell_type": "code",
   "execution_count": null,
   "metadata": {},
   "outputs": [],
   "source": [
    "dom.a.find_next_siblings() # 자매 노드 찾기 "
   ]
  },
  {
   "cell_type": "code",
   "execution_count": null,
   "metadata": {},
   "outputs": [],
   "source": [
    "dom.find('a')"
   ]
  },
  {
   "cell_type": "code",
   "execution_count": null,
   "metadata": {},
   "outputs": [],
   "source": [
    "dom.find_all('a')"
   ]
  },
  {
   "cell_type": "code",
   "execution_count": null,
   "metadata": {},
   "outputs": [],
   "source": [
    "# 연습 : \n",
    "url = 'https://pythonscraping.com/pages/page3.html'\n"
   ]
  },
  {
   "cell_type": "code",
   "execution_count": null,
   "metadata": {},
   "outputs": [],
   "source": [
    "resp.status_code, resp.headers['content-type']\n",
    "html = requests.get(url)"
   ]
  },
  {
   "cell_type": "code",
   "execution_count": null,
   "metadata": {},
   "outputs": [],
   "source": [
    "resp = requests.get(url)\n",
    "resp.text"
   ]
  },
  {
   "cell_type": "code",
   "execution_count": null,
   "metadata": {},
   "outputs": [],
   "source": [
    "dom"
   ]
  },
  {
   "cell_type": "code",
   "execution_count": null,
   "metadata": {},
   "outputs": [],
   "source": [
    "dom = BeautifulSoup(resp.text, 'html5lib') #parser에 따라 결과 달라진다\n",
    "[node.name for node in dom.html.find_all(recursive= False)]"
   ]
  },
  {
   "cell_type": "code",
   "execution_count": null,
   "metadata": {},
   "outputs": [],
   "source": [
    "dom = BeautifulSoup(resp.content, 'html.parser')\n",
    "dom"
   ]
  },
  {
   "cell_type": "code",
   "execution_count": null,
   "metadata": {},
   "outputs": [],
   "source": [
    "base = dom.find(attrs ={'id':'footer'}) # attr을 기준 id가 footer 인 것찾기\n",
    "base"
   ]
  },
  {
   "cell_type": "code",
   "execution_count": null,
   "metadata": {},
   "outputs": [],
   "source": [
    "base.find_parent().find() # 부모의 첫번째 자식"
   ]
  },
  {
   "cell_type": "code",
   "execution_count": null,
   "metadata": {},
   "outputs": [],
   "source": [
    "base.find_previous_siblings()[-1] # 내 이전의 형제들을 역순으로 찾으면 마지막 형제가 부모의 관점에서는 첫번째 자식인 것."
   ]
  },
  {
   "cell_type": "code",
   "execution_count": null,
   "metadata": {},
   "outputs": [],
   "source": [
    "base.find_parent().find() is base.find_previous_siblings()[-1]"
   ]
  },
  {
   "cell_type": "code",
   "execution_count": null,
   "metadata": {},
   "outputs": [],
   "source": [
    "table = base.find_previous_sibling() # 직전 형제가 테이블이라서\n",
    "len(table.find_all(recursive=False))"
   ]
  },
  {
   "cell_type": "code",
   "execution_count": null,
   "metadata": {},
   "outputs": [],
   "source": [
    "table.find_all(recursive =False)[-1]"
   ]
  },
  {
   "cell_type": "code",
   "execution_count": null,
   "metadata": {},
   "outputs": [],
   "source": [
    "table.find_all(recursive =False)[-1].find_all(recursive =False)[-1]"
   ]
  },
  {
   "cell_type": "code",
   "execution_count": null,
   "metadata": {},
   "outputs": [],
   "source": [
    "# 테이블에서 이미지만 찾기\n",
    "\n",
    "for tr in table.find_all(recursive = False)[1:]: # 첫번째 행은 None이라서 제거\n",
    "    td = tr.find_all(recursive =False)[-1]\n",
    "    print(td.find('img').attrs['src']) \n",
    "\n",
    "# 2번째: find_all, jpg로 끝나는 애들로 찾기\n",
    "table.find_all('img', attrs = {'src' :re.compile('jpg$')})"
   ]
  },
  {
   "cell_type": "code",
   "execution_count": null,
   "metadata": {},
   "outputs": [],
   "source": [
    "for tr in table.find_all(recursive = False)[1:]: # 첫번째 행은 None이라서 제거\n",
    "    td = tr.find_all(recursive =False)[-2]\n",
    "    print(re.sub(r'\\s+', '', td.text)) #정규식으로 표현하기\n",
    "\n",
    "#\n",
    "table.find_all(text = re.compile('\\$[0-9,.]+')) #숫자 + 콤마 + 점으로 끝나는 "
   ]
  },
  {
   "cell_type": "markdown",
   "metadata": {},
   "source": [
    "### 1130~"
   ]
  },
  {
   "cell_type": "code",
   "execution_count": null,
   "metadata": {},
   "outputs": [],
   "source": [
    "# image 중에서 jpg만 찾기\n",
    "from urllib.parse import urljoin\n",
    "dom.find_all('img', attrs = {'src' : re.compile('jpg$')})\n",
    "\n",
    "for node in dom.find_all('img', attrs = {'src' : re.compile('jpg$')}):\n",
    "    print(node.attrs['src'])\n",
    "    print(urljoin(resp.request.url, node.attrs['src']))\n",
    "   "
   ]
  },
  {
   "cell_type": "code",
   "execution_count": null,
   "metadata": {},
   "outputs": [],
   "source": [
    "from requests import get \n",
    "\n",
    "url = 'https://pythonscraping.com/img/gifts/img6.jpg'\n",
    "resp = get(url)\n",
    "resp.headers #"
   ]
  },
  {
   "cell_type": "code",
   "execution_count": null,
   "metadata": {},
   "outputs": [],
   "source": [
    "len(resp.content)"
   ]
  },
  {
   "cell_type": "code",
   "execution_count": null,
   "metadata": {},
   "outputs": [],
   "source": [
    "with open(resp.request.url.split('/')[-1], 'wb') as fp:\n",
    "    fp.write(resp.content)"
   ]
  },
  {
   "cell_type": "code",
   "execution_count": null,
   "metadata": {},
   "outputs": [],
   "source": [
    "resp.request.url.split('/')[-1]"
   ]
  },
  {
   "cell_type": "code",
   "execution_count": null,
   "metadata": {},
   "outputs": [],
   "source": [
    "!dir"
   ]
  },
  {
   "cell_type": "code",
   "execution_count": null,
   "metadata": {},
   "outputs": [],
   "source": [
    "rsep = download('https://www.google.com/search', {'q' : '카리나'})\n",
    "resp.request.url, resp.status_code, resp.headers"
   ]
  },
  {
   "cell_type": "markdown",
   "metadata": {},
   "source": [
    "카리나 찾기"
   ]
  },
  {
   "cell_type": "code",
   "execution_count": null,
   "metadata": {},
   "outputs": [],
   "source": [
    "url = 'https://www.google.com/search?q=%EC%B9%B4%EB%A6%AC%EB%82%98&oq=%EC%B9%B4%EB%A6%AC%EB%82%98&aqs=chrome.0.69i59j69i60l2.2559j0j4&sourceid=chrome&ie=UTF-8'\n",
    "headers = {\n",
    "    \"User-Agent\": \"Mozilla/5.0 (Windows NT 10.0; Win64; x64) AppleWebKit/537.36 (KHTML, like Gecko) Chrome/91.0.4472.124 Safari/537.36\"\n",
    "}\n",
    "resp = requests.get(url, headers=headers)\n",
    "resp.raise_for_status()\n",
    "dom = BeautifulSoup(resp.text, 'html.parser')\n"
   ]
  },
  {
   "cell_type": "code",
   "execution_count": null,
   "metadata": {},
   "outputs": [],
   "source": [
    "dom"
   ]
  },
  {
   "cell_type": "code",
   "execution_count": null,
   "metadata": {},
   "outputs": [],
   "source": [
    "dom.find_all(attrs = {'data-lpage' : re.compile('youtube.com')})"
   ]
  },
  {
   "cell_type": "code",
   "execution_count": null,
   "metadata": {},
   "outputs": [],
   "source": [
    "for node in dom.find_all(\n",
    "    'img',\n",
    "    attrs = {'src' : re.compile()}):\n",
    "    print(node)"
   ]
  },
  {
   "cell_type": "code",
   "execution_count": null,
   "metadata": {},
   "outputs": [],
   "source": [
    "dom"
   ]
  },
  {
   "cell_type": "code",
   "execution_count": null,
   "metadata": {},
   "outputs": [],
   "source": [
    "# 실습 : 네이버, 다음에서 \n",
    "\n",
    "#선생님\n",
    "resp = download('https://search.naver.com/search.naver',\n",
    "                '')\n",
    "\n",
    "\n",
    "\n",
    "url = 'https://search.naver.com/search.naver?where=nexearch&sm=top_hty&fbm=0&ie=utf8&query=%EC%B9%B4%EB%A6%AC%EB%82%98'\n",
    "\n",
    "resp = requests.get(url)\n",
    "dom = BeautifulSoup(resp.text, 'html.parser')\n",
    "\n",
    "\n"
   ]
  },
  {
   "cell_type": "code",
   "execution_count": null,
   "metadata": {},
   "outputs": [],
   "source": [
    "# 모든 링크 찾기 : https://로 시작하는 링크 찾기\n",
    "for node in dom.find_all('a', attrs={'href' : re.compile(r'^https://')}):\n",
    "    print(node['href'])\n",
    "\n",
    "    "
   ]
  },
  {
   "cell_type": "code",
   "execution_count": null,
   "metadata": {},
   "outputs": [],
   "source": [
    "# 선생님 링크가져오기 : class = \"link_tit\" , \"link\" 이라는 클라스를 이용하기\n",
    "for node in dom.find_all('a', attrs = {\n",
    "    'class' :re.compile('link_tit|news_tit')\n",
    "}):\n",
    "    print(node.text)\n",
    "    print(node.attrs[\"href\"]) # "
   ]
  },
  {
   "cell_type": "code",
   "execution_count": null,
   "metadata": {},
   "outputs": [],
   "source": [
    "# 이미지\n",
    "[node['src'] for node in dom.find_all('img')]"
   ]
  },
  {
   "cell_type": "code",
   "execution_count": 222,
   "metadata": {},
   "outputs": [
    {
     "data": {
      "text/plain": [
       "'https://search.naver.com/search.naver?where=nexearch&sm=top_hty&fbm=0&ie=utf8&query=%EC%B9%B4%EB%A6%AC%EB%82%98'"
      ]
     },
     "execution_count": 222,
     "metadata": {},
     "output_type": "execute_result"
    }
   ],
   "source": [
    "resp.request.url"
   ]
  },
  {
   "cell_type": "code",
   "execution_count": 221,
   "metadata": {},
   "outputs": [
    {
     "name": "stdout",
     "output_type": "stream",
     "text": [
      "https://search.pstatic.net/sunny?src=https%3A%2F%2Fi.namu.wiki%2Fi%2FvPl_i1cUDFiiaN0L-UfORDLb-_XyBnETXuoTtem8OE7qyEzxPBL4A43Da80d0cr3bkuxce5lS6QQwr2-VTqYEg.webp&type=fff264_180\n",
      "data:image/gif;base64,R0lGODlhAQABAIAAAAAAAP///yH5BAEAAAAALAAAAAABAAEAAAIBRAA7\n",
      "data:image/gif;base64,R0lGODlhAQABAIAAAAAAAP///yH5BAEAAAAALAAAAAABAAEAAAIBRAA7\n",
      "data:image/gif;base64,R0lGODlhAQABAIAAAAAAAP///yH5BAEAAAAALAAAAAABAAEAAAIBRAA7\n",
      "data:image/gif;base64,R0lGODlhAQABAIAAAAAAAP///yH5BAEAAAAALAAAAAABAAEAAAIBRAA7\n",
      "https://search.pstatic.net/sunny?src=https%3A%2F%2Fblog.kakaocdn.net%2Fdn%2FdRm7xl%2FbtqZKAnspuk%2FAVAYVFW9SHko7mY0PqNpp1%2Fimg.png&type=fff264_180\n",
      "https://search.pstatic.net/sunny?src=https%3A%2F%2Fupload.wikimedia.org%2Fwikipedia%2Fcommons%2Fthumb%2Fe%2Fec%2FKarina_for_Eternal_Return_%25C3%2597_aespa_collaboration_BTS_photoshoot.jpg%2F250px-Karina_for_Eternal_Return_%25C3%2597_aespa_collaboration_BTS_photoshoot.jpg&type=fff264_180\n",
      "https://search.pstatic.net/sunny?src=https%3A%2F%2Fscontent-nrt1-1.cdninstagram.com%2Fv%2Ft51.2885-19%2F363814219_216705304694194_7212268019392654761_n.jpg&type=fff264_180\n",
      "data:image/gif;base64,R0lGODlhAQABAIAAAAAAAP///yH5BAEAAAAALAAAAAABAAEAAAIBRAA7\n",
      "data:image/gif;base64,R0lGODlhAQABAIAAAAAAAP///yH5BAEAAAAALAAAAAABAAEAAAIBRAA7\n",
      "data:image/gif;base64,R0lGODlhAQABAIAAAAAAAP///yH5BAEAAAAALAAAAAABAAEAAAIBRAA7\n",
      "https://search.pstatic.net/common/?src=http%3A%2F%2Fblogfiles.naver.net%2FMjAyMzA5MTFfMTk4%2FMDAxNjk0Mzk2ODk1NjYz.AbRuX2IaWiabkP7slHSIEYjSE8u9T19uWdGbLYXOPOAg.IRbxF6_SCo8KBhMVZkgGx-0YHM9mamj-UklhEekE3W8g.JPEG.tv_chosun%2F0910_%25B1%25CD%25BF%25B0%25BB%25CD%25C2%25A6%25BF%25F8%25C1%25A4%25B4%25EB_%25281%2529.jpg%231300x1300&type=ff264_180\n",
      "https://search.pstatic.net/common/?src=http%3A%2F%2Fblogfiles.naver.net%2FMjAyMzA4MTdfNjYg%2FMDAxNjkyMjY3OTkzNTMw.xpTt3jdNXbnwvX6CxqfTynvoIvGSOIEHCPCWHEOXkb0g.d59H_yWf5dWeNuoUO5ARKKSyIKStE0GznBe813EcS9og.PNG.secretinto%2Fimage.png%23612x768&type=ff264_180\n",
      "https://search.pstatic.net/common/?src=http%3A%2F%2Fblogfiles.naver.net%2FMjAyMzA5MTNfNjUg%2FMDAxNjk0NTY1NDAyMDEy.14kVYSFohr0Cx2i4Md-06kUdum4YISxFznMndWYp17Ag.9dSClkhrm4jc-KekcXr4y1DyvliPdJsNgw6rNa4Osysg.JPEG.custy23%2F68d549b45c10c9e4bba4cc55724f0092.jpg%23703x1159&type=ff264_180\n",
      "https://search.pstatic.net/common/?src=https%3A%2F%2Fpost-phinf.pstatic.net%2FMjAyMzA4MDRfMTEz%2FMDAxNjkxMTI4MDQ1MzIw.zAShQ8O-kInKtb7HmPe5EXMcgVhvZjONfRSNttFE3M0g.yXNw7NzEeZMKgZ2IVXvxnB1D75FYV6jzMV4eY9rr-b8g.JPEG%2FI1JuNmLZYloZ4_9Pb5bzyqxEcAKg.jpg&type=ff264_180\n",
      "https://search.pstatic.net/common/?src=http%3A%2F%2Fblogfiles.naver.net%2FMjAyMzA3MjZfMTA3%2FMDAxNjkwMzU1NDMxNzE1.hpAlf59psxQpS9jU7wE7e6QA6F4YuzPk8xtEjrTX50wg.zCsW4r9OEA4eNwRyysx5cfXneqiN9ngijnSVmo_8zR8g.JPEG.nadiatear0%2F%253F%2583%2588_%253F%2594%2584%25EB%25A1%259C%25EC%25A0%259D%253F%258A%25B8.jpg%23720x483&type=ff264_180\n",
      "https://search.pstatic.net/common/?src=http%3A%2F%2Fblogfiles.naver.net%2FMjAyMzA5MDdfMjIy%2FMDAxNjk0MDU1ODQ5MTky.OKlqrTUju6GrdERbVTdAVyKSfyJQRj9rCKl73o7-f3og.8yTSawtqvHAjfdKUtjm2ApfZKo8aeW5maTf0x17R190g.GIF.ya0523%2F1622392548-dimcharmingamethystsunbird-size-restricted.gif%23500x344%23g&type=ff264_180\n",
      "https://search.pstatic.net/common/?src=https%3A%2F%2Fphinf.pstatic.net%2Ftvcast%2F20230911_194%2F2PJbI_1694442390614JzpzG_JPEG%2FC202300068_3_202309110826468731.jpg&type=ac368_208\n",
      "https://search.pstatic.net/sunny/?src=https%3A%2F%2Fi.ytimg.com%2Fvi%2FGoaIaODC0eA%2Fmaxresdefault.jpg&type=f368_208\n",
      "https://search.pstatic.net/sunny/?src=https%3A%2F%2Fwww.tiktok.com%2Fapi%2Fimg%2F%3FitemId%3D7275336194026654984%26location%3D0%26aid%3D1988&type=f368_208\n",
      "https://search.pstatic.net/sunny/?src=https%3A%2F%2Fwww.tiktok.com%2Fapi%2Fimg%2F%3FitemId%3D7272733195030760712%26location%3D0%26aid%3D1988&type=f368_208\n"
     ]
    }
   ],
   "source": [
    "# 선생님 :\n",
    "\n",
    "for node in dom.find_all('img', attrs = {\n",
    "    'class' : re.compile('thumb api_get|img api_get')\n",
    "}):\n",
    "    print(urljoin(resp.request.url, node.attrs['src']))"
   ]
  },
  {
   "cell_type": "markdown",
   "metadata": {},
   "source": [
    "## CSS Selector 로 찾기"
   ]
  },
  {
   "cell_type": "code",
   "execution_count": null,
   "metadata": {},
   "outputs": [],
   "source": []
  }
 ],
 "metadata": {
  "kernelspec": {
   "display_name": "Python 3",
   "language": "python",
   "name": "python3"
  },
  "language_info": {
   "codemirror_mode": {
    "name": "ipython",
    "version": 3
   },
   "file_extension": ".py",
   "mimetype": "text/x-python",
   "name": "python",
   "nbconvert_exporter": "python",
   "pygments_lexer": "ipython3",
   "version": "3.11.1"
  },
  "orig_nbformat": 4
 },
 "nbformat": 4,
 "nbformat_minor": 2
}
