{
 "cells": [
  {
   "cell_type": "markdown",
   "metadata": {},
   "source": [
    "# DHTML"
   ]
  },
  {
   "cell_type": "code",
   "execution_count": null,
   "metadata": {},
   "outputs": [],
   "source": [
    "from requests import request\n",
    "from requests.exceptions import HTTPError\n",
    "from time import sleep\n",
    "\n",
    "\n",
    "def download(url, params = {}, method =\"GET\", retries = 3):\n",
    "    resp = None \n",
    "    try :\n",
    "        resp = request(method, url, \n",
    "                       params = params if method == \"GET\" else {},\n",
    "                       data = params if method == \"POST\" else {},\n",
    "                       headers = {'user-agent': 'Mozilla/5.0 (iPhone; CPU iPhone OS 13_2_3 like Mac OS X) AppleWebKit/605.1.15 (KHTML, like Gecko) Version/13.0.3 Mobile/15E148 Safari/604.1'})\n",
    "        resp.raise_for_status()\n",
    "\n",
    "    \n",
    "    except HTTPError as e :\n",
    "        if e.response.status_code == 500 :\n",
    "            if retries > 0:\n",
    "                sleep(3)\n",
    "                resp = download(url, params = params, method = method , retries = retries - 1) \n",
    "            else : \n",
    "                print(\"재방문 횟수 초과\")\n",
    "        else : \n",
    "            print(\"Request\")\n",
    "            print(\"Response\")\n",
    "\n",
    "    return resp"
   ]
  },
  {
   "cell_type": "code",
   "execution_count": null,
   "metadata": {},
   "outputs": [],
   "source": [
    "url = 'https://pythonscraping.com/pages/javascript/ajaxDemo.html'\n",
    "resp = download(url)"
   ]
  },
  {
   "cell_type": "code",
   "execution_count": null,
   "metadata": {},
   "outputs": [],
   "source": [
    "resp.text"
   ]
  },
  {
   "cell_type": "code",
   "execution_count": null,
   "metadata": {},
   "outputs": [],
   "source": [
    "resp.headers['content-type']"
   ]
  },
  {
   "cell_type": "code",
   "execution_count": null,
   "metadata": {},
   "outputs": [],
   "source": [
    "from bs4 import BeautifulSoup\n",
    "dom = BeautifulSoup(resp.text, 'lxml')"
   ]
  },
  {
   "cell_type": "code",
   "execution_count": null,
   "metadata": {},
   "outputs": [],
   "source": [
    "dom.select_one('#content').text.strip()"
   ]
  },
  {
   "cell_type": "code",
   "execution_count": null,
   "metadata": {},
   "outputs": [],
   "source": [
    "#sciprt : jquey : ajax 문이 나온다\n",
    "dom.select('script')"
   ]
  },
  {
   "cell_type": "code",
   "execution_count": null,
   "metadata": {},
   "outputs": [],
   "source": [
    "# ajax를 넣어서 새로운 url 생성하여 다운로드 \n",
    "\n",
    "from requests.compat import urljoin\n",
    "\n",
    "newurl = urljoin(resp.request.url, 'loadedContent.php')\n",
    "resp = download(newurl)\n",
    "resp.headers['content-type']"
   ]
  },
  {
   "cell_type": "code",
   "execution_count": null,
   "metadata": {},
   "outputs": [],
   "source": [
    "# XHR 객체를 이용하여 AJAX를 통해 DHTML한 결과이\n",
    "resp.text "
   ]
  },
  {
   "cell_type": "code",
   "execution_count": null,
   "metadata": {},
   "outputs": [],
   "source": []
  },
  {
   "cell_type": "code",
   "execution_count": null,
   "metadata": {},
   "outputs": [],
   "source": [
    "# 예제2 : 다음 포털에서 API 뜯어서 사용해보기\n",
    "url = 'https://vsuggest.search.daum.net/v2/sushi/pc/get'\n",
    "params = {'q' : '윤'}\n",
    "resp = download(url, params)\n",
    "resp.headers['content-type']\n",
    "\n",
    "for subkey in resp.json()['subkeys']:\n",
    "    print(subkey['keyword'])"
   ]
  },
  {
   "cell_type": "code",
   "execution_count": null,
   "metadata": {},
   "outputs": [],
   "source": [
    "#전체_url = \n",
    "#\"https://vsuggest.search.daum.net/v2/sushi/pc/get\n",
    "#?callback=jQuery36008035563564235273_1695601874736\n",
    "#&q=%EC%B9%B4%EB%A6%AC%E3%84%B4%E3%85%87%E3%84%B4%E3%85%87%E3%84%B4%E3%85%87%E3%84%B4%E3%85%87%E3%84%B4%E3%85%87%E3%84%B4%E3%85%87&htype=position&_=1695601874745\""
   ]
  },
  {
   "cell_type": "code",
   "execution_count": null,
   "metadata": {},
   "outputs": [],
   "source": [
    "params['callback'] = 'jQuery36008035563564235273_1695601874736'\n",
    "rsep = download(url, params)\n",
    "resp. "
   ]
  },
  {
   "cell_type": "code",
   "execution_count": null,
   "metadata": {},
   "outputs": [],
   "source": [
    "# 예제2 (2) : 넣으면 출력해주는걸 만들기\n",
    "\n",
    "while True:\n",
    "    q = input()\n",
    "\n",
    "    if q == '종료': \n",
    "        break\n",
    "\n",
    "    params['q'] = q\n",
    "    resp = download(url, params)\n",
    "    print(','.join([subkey['keyword']\n",
    "                     for subkey in resp.json()['subkeys']]))"
   ]
  },
  {
   "cell_type": "markdown",
   "metadata": {},
   "source": [
    "### 네이버"
   ]
  },
  {
   "cell_type": "code",
   "execution_count": null,
   "metadata": {},
   "outputs": [],
   "source": [
    "\n",
    "https://ac.search.naver.com/nx/ac\n",
    "?q=%EA%B8%B0\n",
    "&con=1&frm=nv&ans=2&r_format=json&r_enc=UTF-8&r_unicode=0&t_koreng=1&run=2&rev=4&q_enc=UTF-8&st=100&_callback=_jsonp_53"
   ]
  },
  {
   "cell_type": "code",
   "execution_count": null,
   "metadata": {},
   "outputs": [],
   "source": [
    "https://ac.search.naver.com/nx/ac?q=%EA%B6%81&con=1&frm=nv&ans=2&r_format=json&r_enc=UTF-8&r_unicode=0&t_koreng=1&run=2&rev=4&q_enc=UTF-8&st=100&_callback=_jsonp_56"
   ]
  },
  {
   "cell_type": "code",
   "execution_count": null,
   "metadata": {},
   "outputs": [],
   "source": [
    "url = 'https://ac.search.naver.com/nx/ac?q=%EA%B6%81&con=1&frm=nv&ans=2&r_format=json&r_enc=UTF-8&r_unicode=0&t_koreng=1&run=2&rev=4&q_enc=UTF-8&st=100&_callback=_jsonp_56'\n",
    "params = {'q' : '윤'}\n",
    "resp = download(url, params)\n",
    "resp.headers['content-type']\n",
    "\n",
    "for subkey in resp.json()['subkeys']:\n",
    "    print(subkey['keyword'])"
   ]
  },
  {
   "cell_type": "code",
   "execution_count": null,
   "metadata": {},
   "outputs": [],
   "source": [
    "#브런치에서 하기\n",
    "url = 'https://api.brunch.co.kr/v1/search/article'\n",
    "params = {'q' : '미시간',\n",
    "          'page' : '1',\n",
    "          'pagesize' : '20',\n",
    "          'highlighter' : 'n',\n",
    "          'escape' : 'y',\n",
    "          'sortBy' : 'accu'}\n",
    "\n",
    "resp = download(url, params)\n",
    "resp.headers['content-type']"
   ]
  },
  {
   "cell_type": "code",
   "execution_count": null,
   "metadata": {},
   "outputs": [],
   "source": [
    "for item in resp.json()['data']['list']:\n",
    "    print(item['title'])"
   ]
  },
  {
   "cell_type": "markdown",
   "metadata": {},
   "source": [
    "### 네이버 웹툰 "
   ]
  },
  {
   "cell_type": "code",
   "execution_count": null,
   "metadata": {},
   "outputs": [],
   "source": [
    "url = 'https://comic.naver.com'\n",
    "resp = download(url)\n",
    "dom = BeautifulSoup(resp.text, 'lxml' )"
   ]
  },
  {
   "cell_type": "code",
   "execution_count": null,
   "metadata": {},
   "outputs": [],
   "source": [
    "url = 'https://comic.naver.com/api/home/component?type=DAILY_WEBTOON&order=STAR'\n",
    "resp = download(url)\n",
    "resp.headers['Content-Type'] # json\n"
   ]
  },
  {
   "cell_type": "code",
   "execution_count": null,
   "metadata": {},
   "outputs": [],
   "source": [
    "for list in resp.json()['titleList']:\n",
    "    print(list['titleName'])"
   ]
  },
  {
   "cell_type": "markdown",
   "metadata": {},
   "source": [
    "### 웹툰의 회차 목록"
   ]
  },
  {
   "cell_type": "code",
   "execution_count": null,
   "metadata": {},
   "outputs": [],
   "source": [
    "url = 'https://comic.naver.com/api/article/list/info?titleId=648419'\n",
    "resp = download(url)\n",
    "resp.headers"
   ]
  },
  {
   "cell_type": "code",
   "execution_count": null,
   "metadata": {},
   "outputs": [],
   "source": [
    "resp.json()['titleList'][0]"
   ]
  },
  {
   "cell_type": "markdown",
   "metadata": {},
   "source": [
    "### 3. 각 회차"
   ]
  },
  {
   "cell_type": "code",
   "execution_count": null,
   "metadata": {},
   "outputs": [],
   "source": [
    "url = 'https://comic.naver.com/webtoon/detail?titleId=648419&no=403&week=mon'\n",
    "resp = download(url)\n",
    "dom = BeautifulSoup(resp.text, 'lxml')\n",
    "dom.body.select('img')"
   ]
  },
  {
   "cell_type": "markdown",
   "metadata": {},
   "source": [
    "### 크롤러 사용해서 이미지 가져오기"
   ]
  },
  {
   "cell_type": "code",
   "execution_count": null,
   "metadata": {},
   "outputs": [],
   "source": [
    "import re\n",
    "from requests.compat import urljoin, urlparse, urlencode"
   ]
  },
  {
   "cell_type": "code",
   "execution_count": null,
   "metadata": {},
   "outputs": [],
   "source": [
    "url = 'https://comic.naver.com/api/home/component'\n",
    "URLs = []\n",
    "URLs.append((url, params))\n",
    "seens = []\n",
    "domain = []\n",
    "\n",
    "while URLs:\n",
    "    seed = URLs.pop(0)\n",
    "\n",
    "    resp = download(*seed) #*seed 언팩킹할 것.\n",
    "    seens.append(resp.request.url)\n",
    "\n",
    "    if resp.status_code != 200:\n",
    "        continue\n",
    "    \n",
    "    # 웹툰 각 회차의 이미지 목록\n",
    "    if re.search('text/html', resp.headers['content-type']):\n",
    "        dom = BeautifulSoup(resp.text, 'html5lib')\n",
    "        for link in dom.select('#sectionContWide img[src]'):\n",
    "            href = link.attrs['src']\n",
    "            newurl = urljoin(resp.request.url, href)\n",
    "\n",
    "            urlc = tuple(newurl.split('?'))\n",
    "\n",
    "            if newurl not in seens and urlc not in URLs :\n",
    "                URLs.append(urlc)\n",
    "\n",
    "# 파일 저장하기\n",
    "    elif re.search('image/(?:(?:jpeg)|(?:gif)|(?:png))',\n",
    "                   resp.headers['content-type']):\n",
    "        fname = re.sub('[?]', '', resp.request.url.split('/')[-1])\n",
    "        with open(f'./webtoon/{fname}', 'wb') as fp:\n",
    "            fp.write(resp.content)\n",
    "\n",
    "    elif re.search('appliaction/json', resp.headers['content-type']) :\n",
    "        result = resp.json()\n",
    "        if 'titleList' in result.keys():\n",
    "            baseurl = 'https://comic.naver.com/api/article/list/info?titleId='\n",
    "            for newnurl in [baseurl + r['titleId'] for r in result['titleList']]:\n",
    "                urlc = tuple(newurl.split('?'))\n",
    "\n",
    "                if newurl not in seens and urlc not in URLs:\n",
    "                    URLs.append(urlc)\n",
    "\n",
    "    elif 'articleList' in result.keys():\n",
    "        baseurl = 'https://comic.naver.com/webton/detail?'\n",
    "        for newurl in [baseurl + seed[-1] + '&no='+str(r['no']) for r in result['articleList']][:1]:\n",
    "            urlc = tuple(newurl.split('?'))\n",
    "            if newurl not in seens and urlc not in URLs:\n",
    "                URLs.append(urlc)"
   ]
  },
  {
   "cell_type": "code",
   "execution_count": null,
   "metadata": {},
   "outputs": [],
   "source": [
    "import os\n",
    "os.mkdir('./webtoon')\n",
    "os.listdir('.')"
   ]
  },
  {
   "cell_type": "code",
   "execution_count": null,
   "metadata": {},
   "outputs": [],
   "source": [
    "len(URLs)"
   ]
  },
  {
   "cell_type": "markdown",
   "metadata": {},
   "source": [
    "## Selenium"
   ]
  },
  {
   "cell_type": "markdown",
   "metadata": {},
   "source": [
    "## Cookies\n"
   ]
  },
  {
   "cell_type": "markdown",
   "metadata": {},
   "source": [
    "### 로그인 하기(?)"
   ]
  },
  {
   "cell_type": "code",
   "execution_count": null,
   "metadata": {},
   "outputs": [],
   "source": [
    "url = 'https://pythonscraping.com/pages/cookies/login.html'\n",
    "resp = download(url)\n",
    "dom = BeautifulSoup(resp.text, 'lxml')"
   ]
  },
  {
   "cell_type": "code",
   "execution_count": null,
   "metadata": {},
   "outputs": [],
   "source": [
    "# form에 로그인 하는게 있음\n",
    "\n",
    "dom.select_one('form')"
   ]
  },
  {
   "cell_type": "code",
   "execution_count": null,
   "metadata": {},
   "outputs": [],
   "source": [
    "dom.select_one('form').attrs"
   ]
  },
  {
   "cell_type": "code",
   "execution_count": null,
   "metadata": {},
   "outputs": [],
   "source": [
    "for tag in dom.select('form > input[name]'):\n",
    "    print(tag.attrs)"
   ]
  },
  {
   "cell_type": "code",
   "execution_count": null,
   "metadata": {},
   "outputs": [],
   "source": [
    "urljoin(resp.request.url, dom.select_one('form').attrs['action'])"
   ]
  },
  {
   "cell_type": "code",
   "execution_count": null,
   "metadata": {},
   "outputs": [],
   "source": [
    "params = []\n",
    "for tag in dom.select('form > input[name]'):\n",
    "    params.append(tag.attrs['name']+ '=' +'')\n",
    "'&'.join(params)"
   ]
  },
  {
   "cell_type": "code",
   "execution_count": null,
   "metadata": {},
   "outputs": [],
   "source": [
    "dom.select_one('form').attrs['method']"
   ]
  },
  {
   "cell_type": "code",
   "execution_count": null,
   "metadata": {},
   "outputs": [],
   "source": [
    "newurl = urljoin(resp.request.url, dom.select_one('form').attrs['action'])\n",
    "resp = download(newurl, {'username': '아무거나', 'password' : 'password'}, )"
   ]
  },
  {
   "cell_type": "code",
   "execution_count": null,
   "metadata": {},
   "outputs": [],
   "source": [
    "# 1. 쿠키로 로그인 전 LMS\n",
    "\n",
    "from requests import get\n",
    "resp = get('https://lms.sunde41.net')\n",
    "resp.request.headers"
   ]
  },
  {
   "cell_type": "code",
   "execution_count": null,
   "metadata": {},
   "outputs": [],
   "source": [
    "# 2. 쿠키로 로그인한 후 LMS\n",
    "resp = get('https://lms.sunde41.net', cookies = sess.cookies)\n",
    "resp.text"
   ]
  },
  {
   "cell_type": "markdown",
   "metadata": {},
   "source": [
    "## 실습\n",
    "\n",
    "1. LMS 쿠키로 로그인\n",
    "2. 수업게시판에 첨부자료가 있는 수업 목록만 추출하여 첨부자료 링크를 추출하기"
   ]
  },
  {
   "cell_type": "code",
   "execution_count": null,
   "metadata": {},
   "outputs": [],
   "source": [
    "from requests import get\n",
    "from bs4 import BeautifulSoup\n",
    "\n",
    "url = 'https://lms.sunde41.net/course/5'\n",
    "\n",
    "c = {'remember_token' : '1996-07-03|303bdc8ac4d8331554acba93a67dd258b2847e29231bb5daf7c9dd18b45a980a3ca5fc64707c946f7a67d8d53d37e8eaf72cf46e3f52608eb55d139afe0fea89',\n",
    "     'session' : 'eyJfZnJlc2giOmZhbHNlLCJfdXNlcl9pZCI6IjE5OTYtMDctMDMifQ.ZRDP0Q.h38wXivQBj0McYBsFnategetzEg'}\n",
    "\n",
    "resp = get(url, cookies= c)\n",
    "dom = BeautifulSoup(resp.text, 'lxml')"
   ]
  },
  {
   "cell_type": "code",
   "execution_count": null,
   "metadata": {},
   "outputs": [],
   "source": [
    "import os \n",
    "os.listdir()"
   ]
  },
  {
   "cell_type": "code",
   "execution_count": 33,
   "metadata": {},
   "outputs": [
    {
     "name": "stdout",
     "output_type": "stream",
     "text": [
      "https://lms.sunde41.net//static/uploads/lectures/5/Database.pdf\n",
      "https://lms.sunde41.net//static/uploads/lectures/5/%E1%84%86%E1%85%A9%E1%84%83%E1%85%B3%E1%86%AB%20%E1%84%8F%E1%85%A5%E1%86%B7%E1%84%91%E1%85%B2%E1%84%90%E1%85%A5%20%E1%84%80%E1%85%AA%E1%84%92%E1%85%A1%E1%86%A8%E1%84%8C%E1%85%A1%E1%84%80%E1%85%A1%20%E1%84%8B%E1%85%A1%E1%86%AF%E1%84%8B%E1%85%A1%E1%84%8B%E1%85%A3%20%E1%84%92%E1%85%A1%E1%86%AF%20%E1%84%87%E1%85%AE%E1%84%83%E1%85%A9%E1%86%BC%20%E1%84%89%E1%85%A9%E1%84%89%E1%85%AE%E1%84%8C%E1%85%A5%E1%86%B7%E1%84%8B%E1%85%B4%20%E1%84%86%E1%85%A9%E1%84%83%E1%85%B3%E1%86%AB%E1%84%80%E1%85%A5%E1%86%BA.pdf\n",
      "https://lms.sunde41.net//static/uploads/lectures/5/SQLite.pdf\n",
      "https://lms.sunde41.net//static/uploads/lectures/5/0905.html\n",
      "https://lms.sunde41.net//static/uploads/lectures/5/ORM.pdf\n",
      "https://lms.sunde41.net//static/uploads/lectures/5/0906.html\n",
      "https://lms.sunde41.net//static/uploads/lectures/5/Functional%20Programming%20in%20Python.pdf\n",
      "https://lms.sunde41.net//static/uploads/lectures/5/0907.html\n",
      "https://lms.sunde41.net//static/uploads/lectures/5/AOP.pdf\n",
      "https://lms.sunde41.net//static/uploads/lectures/5/Mastering%20Python%20Decorators.pdf\n",
      "https://lms.sunde41.net//static/uploads/lectures/5/HTTP.pdf\n",
      "https://lms.sunde41.net//static/uploads/lectures/5/0908.html\n",
      "https://lms.sunde41.net//static/uploads/lectures/5/%E1%84%80%E1%85%A2%E1%86%A8%E1%84%8E%E1%85%A6%E1%84%8C%E1%85%B5%E1%84%92%E1%85%A3%E1%86%BC.pdf\n",
      "https://lms.sunde41.net//static/uploads/lectures/5/Regular%20Expression.pdf\n",
      "https://lms.sunde41.net//static/uploads/lectures/5/0911.html\n",
      "https://lms.sunde41.net//static/uploads/lectures/5/2018.png\n",
      "https://lms.sunde41.net//static/uploads/lectures/5/0912.html\n",
      "https://lms.sunde41.net//static/uploads/lectures/5/2021.png\n",
      "https://lms.sunde41.net//static/uploads/lectures/5/NumPy.pdf\n",
      "https://lms.sunde41.net//static/uploads/lectures/5/DOM.pdf\n",
      "https://lms.sunde41.net//static/uploads/lectures/5/0913.html\n",
      "https://lms.sunde41.net//static/uploads/lectures/5/Crawling.pdf\n",
      "https://lms.sunde41.net//static/uploads/lectures/5/0915.html\n",
      "https://lms.sunde41.net//static/uploads/lectures/5/Scraping.pdf\n",
      "https://lms.sunde41.net//static/uploads/lectures/5/Lecture3%20Modeling%20%26%20Big%20Data.pdf\n",
      "https://lms.sunde41.net//static/uploads/lectures/5/Lecture1%20Overview%20%26%20Data%20Munging.pdf\n",
      "https://lms.sunde41.net//static/uploads/lectures/5/Lecture2%20Statistical%20Analysis%20%26%20Visualizing%20Data.pdf\n",
      "https://lms.sunde41.net//static/uploads/lectures/5/DHTML.pdf\n",
      "https://lms.sunde41.net//static/uploads/lectures/5/0925.html\n"
     ]
    }
   ],
   "source": [
    "base = 'https://lms.sunde41.net/'\n",
    "for list in dom.select('.m-nav__item.course a'):\n",
    "    print(base + list['href'])"
   ]
  },
  {
   "cell_type": "code",
   "execution_count": 32,
   "metadata": {},
   "outputs": [
    {
     "data": {
      "text/plain": [
       "['0905.db',\n",
       " '0905.db-journal',\n",
       " 'db_0905.ipynb',\n",
       " 'db_0906.ipynb',\n",
       " 'db_0907.ipynb',\n",
       " 'db_0908.ipynb',\n",
       " 'db_0911.ipynb',\n",
       " 'db_0913.ipynb',\n",
       " 'db_0915.ipynb',\n",
       " 'db_0918.ipynb',\n",
       " 'db_0925.ipynb',\n",
       " 'download',\n",
       " 'img6.jpg',\n",
       " 'sns.db',\n",
       " 'teacher',\n",
       " 'webtoon']"
      ]
     },
     "execution_count": 32,
     "metadata": {},
     "output_type": "execute_result"
    }
   ],
   "source": [
    "import os \n",
    "os.mkdir('./download')\n",
    "os.listdir()"
   ]
  },
  {
   "cell_type": "code",
   "execution_count": null,
   "metadata": {},
   "outputs": [],
   "source": []
  },
  {
   "cell_type": "code",
   "execution_count": 34,
   "metadata": {},
   "outputs": [
    {
     "name": "stdout",
     "output_type": "stream",
     "text": [
      "https://lms.sunde41.net//static/uploads/lectures/5/Database.pdf\n",
      "https://lms.sunde41.net//static/uploads/lectures/5/%E1%84%86%E1%85%A9%E1%84%83%E1%85%B3%E1%86%AB%20%E1%84%8F%E1%85%A5%E1%86%B7%E1%84%91%E1%85%B2%E1%84%90%E1%85%A5%20%E1%84%80%E1%85%AA%E1%84%92%E1%85%A1%E1%86%A8%E1%84%8C%E1%85%A1%E1%84%80%E1%85%A1%20%E1%84%8B%E1%85%A1%E1%86%AF%E1%84%8B%E1%85%A1%E1%84%8B%E1%85%A3%20%E1%84%92%E1%85%A1%E1%86%AF%20%E1%84%87%E1%85%AE%E1%84%83%E1%85%A9%E1%86%BC%20%E1%84%89%E1%85%A9%E1%84%89%E1%85%AE%E1%84%8C%E1%85%A5%E1%86%B7%E1%84%8B%E1%85%B4%20%E1%84%86%E1%85%A9%E1%84%83%E1%85%B3%E1%86%AB%E1%84%80%E1%85%A5%E1%86%BA.pdf\n",
      "https://lms.sunde41.net//static/uploads/lectures/5/SQLite.pdf\n",
      "https://lms.sunde41.net//static/uploads/lectures/5/0905.html\n",
      "https://lms.sunde41.net//static/uploads/lectures/5/ORM.pdf\n",
      "https://lms.sunde41.net//static/uploads/lectures/5/0906.html\n",
      "https://lms.sunde41.net//static/uploads/lectures/5/Functional%20Programming%20in%20Python.pdf\n",
      "https://lms.sunde41.net//static/uploads/lectures/5/0907.html\n",
      "https://lms.sunde41.net//static/uploads/lectures/5/AOP.pdf\n",
      "https://lms.sunde41.net//static/uploads/lectures/5/Mastering%20Python%20Decorators.pdf\n",
      "https://lms.sunde41.net//static/uploads/lectures/5/HTTP.pdf\n",
      "https://lms.sunde41.net//static/uploads/lectures/5/0908.html\n",
      "https://lms.sunde41.net//static/uploads/lectures/5/%E1%84%80%E1%85%A2%E1%86%A8%E1%84%8E%E1%85%A6%E1%84%8C%E1%85%B5%E1%84%92%E1%85%A3%E1%86%BC.pdf\n",
      "https://lms.sunde41.net//static/uploads/lectures/5/Regular%20Expression.pdf\n",
      "https://lms.sunde41.net//static/uploads/lectures/5/0911.html\n",
      "https://lms.sunde41.net//static/uploads/lectures/5/2018.png\n",
      "https://lms.sunde41.net//static/uploads/lectures/5/0912.html\n",
      "https://lms.sunde41.net//static/uploads/lectures/5/2021.png\n",
      "https://lms.sunde41.net//static/uploads/lectures/5/NumPy.pdf\n",
      "https://lms.sunde41.net//static/uploads/lectures/5/DOM.pdf\n",
      "https://lms.sunde41.net//static/uploads/lectures/5/0913.html\n",
      "https://lms.sunde41.net//static/uploads/lectures/5/Crawling.pdf\n",
      "https://lms.sunde41.net//static/uploads/lectures/5/0915.html\n",
      "https://lms.sunde41.net//static/uploads/lectures/5/Scraping.pdf\n",
      "https://lms.sunde41.net//static/uploads/lectures/5/Lecture3%20Modeling%20%26%20Big%20Data.pdf\n",
      "https://lms.sunde41.net//static/uploads/lectures/5/Lecture1%20Overview%20%26%20Data%20Munging.pdf\n",
      "https://lms.sunde41.net//static/uploads/lectures/5/Lecture2%20Statistical%20Analysis%20%26%20Visualizing%20Data.pdf\n",
      "https://lms.sunde41.net//static/uploads/lectures/5/DHTML.pdf\n",
      "https://lms.sunde41.net//static/uploads/lectures/5/0925.html\n"
     ]
    }
   ],
   "source": [
    "urls = []\n",
    "base = 'https://lms.sunde41.net/'\n",
    "for list in dom.select('.m-nav__item.course a'):\n",
    "    urls.append(base + list['href'])\n",
    "    print(base + list['href'])"
   ]
  },
  {
   "cell_type": "code",
   "execution_count": 36,
   "metadata": {},
   "outputs": [
    {
     "name": "stdout",
     "output_type": "stream",
     "text": [
      "Downloaded https://lms.sunde41.net//static/uploads/lectures/5/Database.pdf to download\\1.pdf\n",
      "Downloaded https://lms.sunde41.net//static/uploads/lectures/5/%E1%84%86%E1%85%A9%E1%84%83%E1%85%B3%E1%86%AB%20%E1%84%8F%E1%85%A5%E1%86%B7%E1%84%91%E1%85%B2%E1%84%90%E1%85%A5%20%E1%84%80%E1%85%AA%E1%84%92%E1%85%A1%E1%86%A8%E1%84%8C%E1%85%A1%E1%84%80%E1%85%A1%20%E1%84%8B%E1%85%A1%E1%86%AF%E1%84%8B%E1%85%A1%E1%84%8B%E1%85%A3%20%E1%84%92%E1%85%A1%E1%86%AF%20%E1%84%87%E1%85%AE%E1%84%83%E1%85%A9%E1%86%BC%20%E1%84%89%E1%85%A9%E1%84%89%E1%85%AE%E1%84%8C%E1%85%A5%E1%86%B7%E1%84%8B%E1%85%B4%20%E1%84%86%E1%85%A9%E1%84%83%E1%85%B3%E1%86%AB%E1%84%80%E1%85%A5%E1%86%BA.pdf to download\\2.pdf\n",
      "Downloaded https://lms.sunde41.net//static/uploads/lectures/5/SQLite.pdf to download\\3.pdf\n",
      "Downloaded https://lms.sunde41.net//static/uploads/lectures/5/0905.html to download\\4.html\n",
      "Downloaded https://lms.sunde41.net//static/uploads/lectures/5/ORM.pdf to download\\5.pdf\n",
      "Downloaded https://lms.sunde41.net//static/uploads/lectures/5/0906.html to download\\6.html\n",
      "Downloaded https://lms.sunde41.net//static/uploads/lectures/5/Functional%20Programming%20in%20Python.pdf to download\\7.pdf\n",
      "Downloaded https://lms.sunde41.net//static/uploads/lectures/5/0907.html to download\\8.html\n",
      "Downloaded https://lms.sunde41.net//static/uploads/lectures/5/AOP.pdf to download\\9.pdf\n",
      "Downloaded https://lms.sunde41.net//static/uploads/lectures/5/Mastering%20Python%20Decorators.pdf to download\\10.pdf\n",
      "Downloaded https://lms.sunde41.net//static/uploads/lectures/5/HTTP.pdf to download\\11.pdf\n",
      "Downloaded https://lms.sunde41.net//static/uploads/lectures/5/0908.html to download\\12.html\n",
      "Downloaded https://lms.sunde41.net//static/uploads/lectures/5/%E1%84%80%E1%85%A2%E1%86%A8%E1%84%8E%E1%85%A6%E1%84%8C%E1%85%B5%E1%84%92%E1%85%A3%E1%86%BC.pdf to download\\13.pdf\n",
      "Downloaded https://lms.sunde41.net//static/uploads/lectures/5/Regular%20Expression.pdf to download\\14.pdf\n",
      "Downloaded https://lms.sunde41.net//static/uploads/lectures/5/0911.html to download\\15.html\n",
      "Downloaded https://lms.sunde41.net//static/uploads/lectures/5/2018.png to download\\16.png\n",
      "Downloaded https://lms.sunde41.net//static/uploads/lectures/5/0912.html to download\\17.html\n",
      "Downloaded https://lms.sunde41.net//static/uploads/lectures/5/2021.png to download\\18.png\n",
      "Downloaded https://lms.sunde41.net//static/uploads/lectures/5/NumPy.pdf to download\\19.pdf\n",
      "Downloaded https://lms.sunde41.net//static/uploads/lectures/5/DOM.pdf to download\\20.pdf\n",
      "Downloaded https://lms.sunde41.net//static/uploads/lectures/5/0913.html to download\\21.html\n",
      "Downloaded https://lms.sunde41.net//static/uploads/lectures/5/Crawling.pdf to download\\22.pdf\n",
      "Downloaded https://lms.sunde41.net//static/uploads/lectures/5/0915.html to download\\23.html\n",
      "Downloaded https://lms.sunde41.net//static/uploads/lectures/5/Scraping.pdf to download\\24.pdf\n",
      "Downloaded https://lms.sunde41.net//static/uploads/lectures/5/Lecture3%20Modeling%20%26%20Big%20Data.pdf to download\\25.pdf\n",
      "Downloaded https://lms.sunde41.net//static/uploads/lectures/5/Lecture1%20Overview%20%26%20Data%20Munging.pdf to download\\26.pdf\n",
      "Downloaded https://lms.sunde41.net//static/uploads/lectures/5/Lecture2%20Statistical%20Analysis%20%26%20Visualizing%20Data.pdf to download\\27.pdf\n",
      "Downloaded https://lms.sunde41.net//static/uploads/lectures/5/DHTML.pdf to download\\28.pdf\n",
      "Downloaded https://lms.sunde41.net//static/uploads/lectures/5/0925.html to download\\29.html\n"
     ]
    }
   ],
   "source": [
    "import requests\n",
    "\n",
    "counter = 1  # 파일명을 결정하는데 사용할 카운터\n",
    "for url in urls:\n",
    "    response = requests.get(url, stream=True)\n",
    "\n",
    "    # 파일 확장자 추출 (예: .pdf, .html 등)\n",
    "    file_extension = os.path.splitext(url)[-1]\n",
    "    filename = os.path.join('download', f\"{counter}{file_extension}\")  # 다운로드 폴더에 저장할 파일명 설정\n",
    "\n",
    "    with open(filename, 'wb') as f:\n",
    "        for chunk in response.iter_content(chunk_size=8192):\n",
    "            f.write(chunk)\n",
    "\n",
    "    print(f\"Downloaded {url} to {filename}\")\n",
    "\n",
    "    counter += 1  # 카운터 값을 1 증가"
   ]
  },
  {
   "cell_type": "code",
   "execution_count": null,
   "metadata": {},
   "outputs": [],
   "source": []
  }
 ],
 "metadata": {
  "kernelspec": {
   "display_name": "Python 3",
   "language": "python",
   "name": "python3"
  },
  "language_info": {
   "codemirror_mode": {
    "name": "ipython",
    "version": 3
   },
   "file_extension": ".py",
   "mimetype": "text/x-python",
   "name": "python",
   "nbconvert_exporter": "python",
   "pygments_lexer": "ipython3",
   "version": "3.11.1"
  },
  "orig_nbformat": 4
 },
 "nbformat": 4,
 "nbformat_minor": 2
}
