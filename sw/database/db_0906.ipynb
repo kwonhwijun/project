{
 "cells": [
  {
   "cell_type": "markdown",
   "metadata": {},
   "source": [
    "### sqlalchemy 라이브러리 호출"
   ]
  },
  {
   "cell_type": "code",
   "execution_count": null,
   "metadata": {},
   "outputs": [],
   "source": [
    "import sqlalchemy"
   ]
  },
  {
   "cell_type": "code",
   "execution_count": null,
   "metadata": {},
   "outputs": [],
   "source": [
    "sqlalchemy.__version__\n",
    "#!pip install sqlalchemy --upgrade"
   ]
  },
  {
   "cell_type": "code",
   "execution_count": null,
   "metadata": {},
   "outputs": [],
   "source": [
    "from sqlalchemy import create_engine, MetaData\n",
    "from sqlalchemy.schema import Table, Column, ForeignKey\n",
    "from sqlalchemy.types import Integer, Text\n",
    "from sqlalchemy.sql import select, insert, update, delete, join, func"
   ]
  },
  {
   "cell_type": "markdown",
   "metadata": {},
   "source": [
    "### 엔진 생성, 연결"
   ]
  },
  {
   "cell_type": "code",
   "execution_count": null,
   "metadata": {},
   "outputs": [],
   "source": [
    "engine = create_engine('sqlite:///:memory:', echo = True) # 데이터 베이스 연결 엔진을 생성"
   ]
  },
  {
   "cell_type": "code",
   "execution_count": null,
   "metadata": {},
   "outputs": [],
   "source": [
    "con = engine.connect()"
   ]
  },
  {
   "cell_type": "markdown",
   "metadata": {},
   "source": [
    "### 테이블 생성"
   ]
  },
  {
   "cell_type": "code",
   "execution_count": null,
   "metadata": {},
   "outputs": [],
   "source": [
    "meta = MetaData() #metadata 객체를 생성, 데이터 베이스의 스키마 생성 관리 가능"
   ]
  },
  {
   "cell_type": "code",
   "execution_count": null,
   "metadata": {},
   "outputs": [],
   "source": [
    "Table('USER', meta, \n",
    "      Column('PK', Integer, primary_key=True),\n",
    "      Column('NAME', Text, nullable = False))"
   ]
  },
  {
   "cell_type": "code",
   "execution_count": null,
   "metadata": {},
   "outputs": [],
   "source": [
    "User = meta.tables['USER'] # user라는 테이블의 인스턴스"
   ]
  },
  {
   "cell_type": "code",
   "execution_count": null,
   "metadata": {},
   "outputs": [],
   "source": [
    "print(User)\n",
    "print(User.insert())"
   ]
  },
  {
   "cell_type": "code",
   "execution_count": null,
   "metadata": {},
   "outputs": [],
   "source": [
    "meta.create_all(engine)"
   ]
  },
  {
   "cell_type": "code",
   "execution_count": null,
   "metadata": {},
   "outputs": [],
   "source": [
    "meta.drop_all(engine) # 테이블 삭제"
   ]
  },
  {
   "cell_type": "code",
   "execution_count": null,
   "metadata": {},
   "outputs": [],
   "source": [
    "meta.remove(User)\n",
    "meta.tables"
   ]
  },
  {
   "cell_type": "code",
   "execution_count": null,
   "metadata": {},
   "outputs": [],
   "source": [
    "meta.reflect(engine)\n",
    "meta.tables #데이터 베이스 내의 모든 테이블 출력"
   ]
  },
  {
   "cell_type": "code",
   "execution_count": null,
   "metadata": {},
   "outputs": [],
   "source": [
    "print(User.insert())\n",
    "print(User.insert().values(PK= 1, NAME =\"아무개\")) # 프린트를 해보면 value를 지정하지 않은것도 똑같이 출력되는 것처럼 보인다.\n",
    "print(User.insert().values(PK= 1, NAME =\"아무개\").compile().params) # 내가 지정한 파리미터 확인법"
   ]
  },
  {
   "cell_type": "code",
   "execution_count": null,
   "metadata": {},
   "outputs": [],
   "source": [
    "con.execute(User.insert().values(PK= 1, NAME =\"아무개\"))"
   ]
  },
  {
   "cell_type": "code",
   "execution_count": null,
   "metadata": {},
   "outputs": [],
   "source": [
    "con.execute(User.select()).fetchall()"
   ]
  },
  {
   "cell_type": "code",
   "execution_count": null,
   "metadata": {},
   "outputs": [],
   "source": [
    "# 테이블 생성\n",
    "Table('ADDRESS', meta,\n",
    "      Column('PK', Integer, primary_key= True),\n",
    "      Column('NAME', Text),\n",
    "      Column('FK', Integer, ForeignKey('USER.PK')))"
   ]
  },
  {
   "cell_type": "code",
   "execution_count": null,
   "metadata": {},
   "outputs": [],
   "source": [
    "Table('TEMP', meta,\n",
    "      Column('PK', Integer, primary_key= True),\n",
    "      Column('NAME', Text),\n",
    "      Column('FK', Integer, nullable=False))"
   ]
  },
  {
   "cell_type": "code",
   "execution_count": null,
   "metadata": {},
   "outputs": [],
   "source": [
    "User.columns['PK']"
   ]
  },
  {
   "cell_type": "code",
   "execution_count": null,
   "metadata": {},
   "outputs": [],
   "source": [
    "meta.create_all(engine)"
   ]
  },
  {
   "cell_type": "code",
   "execution_count": null,
   "metadata": {},
   "outputs": [],
   "source": [
    "con.execute(\n",
    "    meta.tables['ADDRESS'].insert().values(PK=1, NAME ='주소', FK=1))"
   ]
  },
  {
   "cell_type": "code",
   "execution_count": null,
   "metadata": {},
   "outputs": [],
   "source": [
    "con.execute(\n",
    "    meta.tables['TEMP'].insert().values(PK=1, NAME ='가짜', FK=1)) # 위테이블과의 차이는 FK를 주었냐 안주었냐의 차이"
   ]
  },
  {
   "cell_type": "code",
   "execution_count": null,
   "metadata": {},
   "outputs": [],
   "source": [
    "con.execute(\n",
    "    select(meta.tables['USER'],\n",
    "                   meta.tables[\"ADDRESS\"],\n",
    "                   meta.tables['TEMP'])\n",
    "                   ).fetchall()"
   ]
  },
  {
   "cell_type": "code",
   "execution_count": null,
   "metadata": {},
   "outputs": [],
   "source": [
    "con.execute(\n",
    "    select(\n",
    "        meta.tables['USER'].columns['PK'],\n",
    "        meta.tables[\"ADDRESS\"].c.NAME,\n",
    "        meta.tables['TEMP'].c.PK\n",
    "        )).fetchall()"
   ]
  },
  {
   "cell_type": "code",
   "execution_count": null,
   "metadata": {},
   "outputs": [],
   "source": [
    "USER = meta.tables['USER']\n",
    "ADDR = meta.tables['ADDRESS']\n",
    "TEMP = meta.tables['TEMP']"
   ]
  },
  {
   "cell_type": "code",
   "execution_count": null,
   "metadata": {},
   "outputs": [],
   "source": [
    "print(USER.select().where(USER.c.PK == 1))\n",
    "print(USER.c.PK == TEMP.c.FK)\n",
    "print(USER.join(ADDR))\n",
    "print(USER.join(TEMP, USER.c.PK == TEMP.c.FK))"
   ]
  },
  {
   "cell_type": "markdown",
   "metadata": {},
   "source": [
    "1030~"
   ]
  },
  {
   "cell_type": "code",
   "execution_count": null,
   "metadata": {},
   "outputs": [],
   "source": [
    "from sqlalchemy.sql import or_, and_, between"
   ]
  },
  {
   "cell_type": "code",
   "execution_count": null,
   "metadata": {},
   "outputs": [],
   "source": [
    "print(or_(USER.c.PK==1, USER.c.PK ==2))"
   ]
  },
  {
   "cell_type": "code",
   "execution_count": null,
   "metadata": {},
   "outputs": [],
   "source": [
    "print(USER.c.NAME.like(\"%어쩌고%\"))"
   ]
  },
  {
   "cell_type": "code",
   "execution_count": null,
   "metadata": {},
   "outputs": [],
   "source": [
    "print(USER.select().where(USER.c.NAME.like('%어쩌고%')).\\\n",
    "    group_by(USER.c.PK).\n",
    "    order_by(USER.c.PK))"
   ]
  },
  {
   "cell_type": "code",
   "execution_count": null,
   "metadata": {},
   "outputs": [],
   "source": [
    "# and, or 를 사용하는 법\n",
    "print((USER.c.NAME == \"abcd\") & (USER.c.PK == 1) | (USER.c.PK == 2)) "
   ]
  },
  {
   "cell_type": "code",
   "execution_count": null,
   "metadata": {},
   "outputs": [],
   "source": [
    "#테이블 간 join\n",
    "print(USER.join(ADDR))"
   ]
  },
  {
   "cell_type": "code",
   "execution_count": null,
   "metadata": {},
   "outputs": [],
   "source": [
    "# select_from을 사용해서 join => join한 테이블을 다시 사용할 떄 유리\n",
    "print(select().select_from(USER.join(ADDR)))"
   ]
  },
  {
   "cell_type": "markdown",
   "metadata": {},
   "source": [
    "### 예제"
   ]
  },
  {
   "cell_type": "markdown",
   "metadata": {},
   "source": [
    "좋아하는 노래, 앨범, 가수, 장르에 관한 ER 모델\n",
    "- Artist\n",
    "- Album\n",
    "- Genre\n",
    "- Track"
   ]
  },
  {
   "cell_type": "code",
   "execution_count": null,
   "metadata": {},
   "outputs": [],
   "source": []
  },
  {
   "cell_type": "code",
   "execution_count": null,
   "metadata": {},
   "outputs": [],
   "source": [
    "meta.clear()"
   ]
  },
  {
   "cell_type": "code",
   "execution_count": null,
   "metadata": {},
   "outputs": [],
   "source": [
    "engine = create_engine('sqlite:///:memory:', echo = True)"
   ]
  },
  {
   "cell_type": "code",
   "execution_count": null,
   "metadata": {},
   "outputs": [],
   "source": [
    "con = engine.connect()"
   ]
  },
  {
   "cell_type": "code",
   "execution_count": null,
   "metadata": {},
   "outputs": [],
   "source": [
    "meta = MetaData()"
   ]
  },
  {
   "cell_type": "code",
   "execution_count": null,
   "metadata": {},
   "outputs": [],
   "source": [
    "# 4개의 테이블 만들기\n",
    "# A: 노래\n",
    "Table('T_A', meta,\n",
    "        Column('PK', Integer, primary_key =True),\n",
    "        Column('NAME', Text, nullable =False))\n",
    "# B : 앨범\n",
    "Table('T_B', meta,\n",
    "        Column('PK', Integer, primary_key =True),\n",
    "        Column('NAME', Text, nullable =False),\n",
    "        Column('FK', None, ForeignKey('T_A.PK')))\n",
    "# C : 가수\n",
    "Table('T_C', meta,\n",
    "        Column('PK', Integer, primary_key =True),\n",
    "        Column('NAME', Text, nullable =False))\n",
    "# D :곡\n",
    "Table('T_D', meta,\n",
    "    Column('PK', Integer, primary_key =True),\n",
    "    Column('NAME', Text, nullable =False),\n",
    "    Column('FK_1', None, ForeignKey('T_B.PK')),\n",
    "    Column('FK_2', Integer, nullable =False))\n"
   ]
  },
  {
   "cell_type": "code",
   "execution_count": null,
   "metadata": {},
   "outputs": [],
   "source": [
    "len(meta.tables)"
   ]
  },
  {
   "cell_type": "code",
   "execution_count": null,
   "metadata": {},
   "outputs": [],
   "source": [
    "meta.create_all(engine)"
   ]
  },
  {
   "cell_type": "code",
   "execution_count": null,
   "metadata": {},
   "outputs": [],
   "source": [
    "# 가수 4명을 테이블 A에 넣기\n",
    "for name in ['가수1', '가수2', '가수3', '가수4']:\n",
    "    con.execute(meta.tables['T_A'].insert().values(NAME=name))"
   ]
  },
  {
   "cell_type": "code",
   "execution_count": null,
   "metadata": {},
   "outputs": [],
   "source": [
    "# 테이블 이름 다시 지정\n",
    "A = meta.tables['T_A']\n",
    "B = meta.tables['T_B']\n",
    "C = meta.tables['T_C']\n",
    "D = meta.tables['T_D']"
   ]
  },
  {
   "cell_type": "code",
   "execution_count": null,
   "metadata": {},
   "outputs": [],
   "source": [
    "for key in [\"1\", \"2\", \"3\", \"4\"]:\n",
    "    for name in ['앨범1', '앨범2']:\n",
    "        fk = con.execute(select(A.c.PK).where(\n",
    "            A.c.NAME.like('%' + key))).fetchone()[0]\n",
    "        con.execute(B.insert().values(\n",
    "            NAME=f'가수{key}_{name}', FK=fk))"
   ]
  },
  {
   "cell_type": "code",
   "execution_count": null,
   "metadata": {},
   "outputs": [],
   "source": [
    " con.execute(select(A.c.NAME, B.c.NAME).join(B)).fetchall()"
   ]
  },
  {
   "cell_type": "code",
   "execution_count": null,
   "metadata": {},
   "outputs": [],
   "source": [
    "for name in ['장르1', '장르2', '장르3', '장르4']:\n",
    "    con.execute(meta.tables['T_C'].insert().values(NAME=name))"
   ]
  },
  {
   "cell_type": "code",
   "execution_count": null,
   "metadata": {},
   "outputs": [],
   "source": [
    "# 앨범 별로 곡을 네 곡 씩 넣기\n",
    "\n",
    "for row in con.execute(select(B.c.PK)).fetchall():\n",
    "    for key in [\"1\", \"2\", \"3\", \"4\"]:\n",
    "        for name in ['노래1', '노래2', '노래3', '노래4']:\n",
    "         fk = con.execute(select(C.c.PK).where(\n",
    "            A.c.NAME.like('%' + key))).fetchone()[0]\n",
    "         con.execute(D.insert().values(\n",
    "            NAME=f'{row[0]}앨범_장르{key}_{name}', \n",
    "            FK_1= row[0],\n",
    "            FK_2=fk))"
   ]
  },
  {
   "cell_type": "code",
   "execution_count": null,
   "metadata": {},
   "outputs": [],
   "source": [
    " con.execute(select(D.c.NAME)).fetchall()"
   ]
  },
  {
   "cell_type": "code",
   "execution_count": null,
   "metadata": {},
   "outputs": [],
   "source": [
    "# sql의 function\n",
    "# func.count, func.upper 등 func. 뒤에 함수를 불러올 수 있다."
   ]
  },
  {
   "cell_type": "code",
   "execution_count": null,
   "metadata": {},
   "outputs": [],
   "source": [
    "con.execute(select(func.CURRENT_TIMESTAMP())) #현재 시간 출력"
   ]
  },
  {
   "cell_type": "code",
   "execution_count": null,
   "metadata": {},
   "outputs": [],
   "source": [
    "con.execute(select(func.sum(A.c.PK))).fetchall()"
   ]
  },
  {
   "cell_type": "code",
   "execution_count": null,
   "metadata": {},
   "outputs": [],
   "source": [
    "# 각 테이블에 몇개가 있는지 확인 가능 \n",
    "con.execute(select(func.count(A.c.PK))).fetchall(),\\ \n",
    "con.execute(select(func.count(B.c.PK))).fetchall(),\\\n",
    "con.execute(select(func.count(C.c.PK))).fetchall(),\\\n",
    "con.execute(select(func.count(D.c.PK))).fetchall()\n",
    "\n",
    "#,\\을 사용하면 출력 한번에"
   ]
  },
  {
   "cell_type": "code",
   "execution_count": null,
   "metadata": {},
   "outputs": [],
   "source": [
    "print(select(A.c.NAME, B.c.NAME).where(A.c.PK == B.c.FK))\n",
    "con.execute(select(A.c.NAME, B.c.NAME).where(A.c.PK == B.c.FK)).fetchall()"
   ]
  },
  {
   "cell_type": "code",
   "execution_count": null,
   "metadata": {},
   "outputs": [],
   "source": [
    "print(select(A.c.NAME, B.c.NAME).join(B))\n",
    "print(select(A.c.NAME, B.c.NAME).join(B, A.c.PK == B.c.FK))\n",
    "con.execute(select(A.c.NAME, B.c.NAME).join(B, A.c.PK == B.c.FK)).fetchall()\n"
   ]
  },
  {
   "cell_type": "code",
   "execution_count": null,
   "metadata": {},
   "outputs": [],
   "source": [
    "print(select(A.c.NAME, B.c.NAME).select_from(A.join(B)))\n",
    "con.execute(select(A.c.NAME, B.c.NAME).select_from(A.join(B))).fetchall()"
   ]
  },
  {
   "cell_type": "markdown",
   "metadata": {},
   "source": [
    "### 1140"
   ]
  },
  {
   "cell_type": "code",
   "execution_count": null,
   "metadata": {},
   "outputs": [],
   "source": [
    "### 가수-앨범-노래\n",
    "print(select(A.c.NAME, B.c.NAME, D.c.NAME).select_from(B.join(D)))\n",
    "con.execute(select(A.c.NAME, B.c.NAME, D.c.NAME).\\\n",
    "            select_from(A.join(B.join(D)))).fetchall()"
   ]
  },
  {
   "cell_type": "code",
   "execution_count": null,
   "metadata": {},
   "outputs": [],
   "source": [
    "# 앨범을 기준으로 그룹하여 노래 개수 찾기.\n",
    "con.execute(select(A.c.NAME, B.c.NAME, func.count(D.c.NAME)).\\\n",
    "    select_from(A.join(B.join(D))).\\\n",
    "        group_by(B.c.PK)).fetchall()"
   ]
  },
  {
   "cell_type": "code",
   "execution_count": null,
   "metadata": {},
   "outputs": [],
   "source": [
    "#가수 이름에 3이 들어간 가수의 앨범과 곡의 개수 찾기\n",
    "con.execute(select(A.c.NAME, B.c.NAME, func.count(D.c.NAME)).\\\n",
    "    select_from(A.join(B.join(D))).\\\n",
    "    where(A.c.NAME.like('%3')).\\\n",
    "    group_by(B.c.PK)).fetchall()\n"
   ]
  },
  {
   "cell_type": "markdown",
   "metadata": {},
   "source": [
    "일을 시킬 대상을 구별하라(?)"
   ]
  },
  {
   "cell_type": "markdown",
   "metadata": {},
   "source": [
    "존재하는 테이블을 덮어씌우는 옵션\n",
    "- Table(~, extend_existing = True)"
   ]
  },
  {
   "cell_type": "code",
   "execution_count": null,
   "metadata": {},
   "outputs": [],
   "source": [
    "# A에 입력\n",
    "con.execute(\n",
    "    insert(A).values(\n",
    "        [{'NAME' : '아무개1'}, {'NAME' : '아무개2'}]\n",
    "    )\n",
    ")"
   ]
  },
  {
   "cell_type": "code",
   "execution_count": null,
   "metadata": {},
   "outputs": [],
   "source": [
    "# A, B, C, D 테이블 모두 섞기\n",
    "print(select(A.c.NAME, B.c.NAME, C.c.NAME, D.c.NAME).\\\n",
    "    select_from(A.join(B).join(D).join(C, C.c.PK==D.c.FK_2)))"
   ]
  },
  {
   "cell_type": "code",
   "execution_count": null,
   "metadata": {},
   "outputs": [],
   "source": [
    "con.execute(select(D.c.NAME).select_from(D)).fetchall()"
   ]
  },
  {
   "cell_type": "code",
   "execution_count": null,
   "metadata": {},
   "outputs": [],
   "source": [
    "con.execute(\n",
    "    select(A.c.NAME, B.c.NAME, C.c.NAME, D.c.NAME).\\\n",
    "    select_from(A.join(B).join(D).join(C, C.c.PK==D.c.FK_2))).fetchall()"
   ]
  },
  {
   "cell_type": "markdown",
   "metadata": {},
   "source": [
    "## 어제 했던거 해보기"
   ]
  },
  {
   "cell_type": "code",
   "execution_count": null,
   "metadata": {},
   "outputs": [],
   "source": [
    "engine = create_engine('sqlite:///:memory:', echo = True)"
   ]
  },
  {
   "cell_type": "code",
   "execution_count": null,
   "metadata": {},
   "outputs": [],
   "source": [
    "con = engine.connect()"
   ]
  },
  {
   "cell_type": "code",
   "execution_count": null,
   "metadata": {},
   "outputs": [],
   "source": [
    "meta= MetaData()"
   ]
  },
  {
   "cell_type": "code",
   "execution_count": null,
   "metadata": {},
   "outputs": [],
   "source": [
    "meta.create_all(engine)"
   ]
  },
  {
   "cell_type": "code",
   "execution_count": null,
   "metadata": {},
   "outputs": [],
   "source": [
    "meta.tables"
   ]
  },
  {
   "cell_type": "code",
   "execution_count": null,
   "metadata": {},
   "outputs": [],
   "source": [
    "Table('POST', meta,\n",
    "    Column('PK', Integer, Primary_key = True),\n",
    "    Column('CONTENT', Text),\n",
    "    extend_existing = True\n",
    "    )\n",
    "\n",
    "Table('HASHTAG', meta,\n",
    "    Column('PK', Integer, Primary_key = True),\n",
    "    Column('NAME', Text, nullable = False),\n",
    "    Column('COUNT', Integer, server_default = '0'),\n",
    "    extend_existing = True\n",
    "    )\n",
    "\n",
    "Table('POSTTAG', meta,\n",
    "    Column('PK', Integer, Primary_key = True),\n",
    "    Column('PFK', None, ForeignKey('POST.PK')),\n",
    "    Column('HFK', Integer, ForeignKey('HASHTAG.PK')),\n",
    "    extend_existing = True\n",
    "    )"
   ]
  },
  {
   "cell_type": "code",
   "execution_count": null,
   "metadata": {},
   "outputs": [],
   "source": [
    "meta.create_all(engine)"
   ]
  },
  {
   "cell_type": "code",
   "execution_count": null,
   "metadata": {},
   "outputs": [],
   "source": [
    "A = meta.tables['POST']\n",
    "B = meta.tables['HASHTAG']\n",
    "C = meta.tables['POSTTAG']"
   ]
  },
  {
   "cell_type": "code",
   "execution_count": null,
   "metadata": {},
   "outputs": [],
   "source": [
    "con.execute(B.insert().values(NAME = 'A'))"
   ]
  },
  {
   "cell_type": "code",
   "execution_count": null,
   "metadata": {},
   "outputs": [],
   "source": [
    "print(B.select().where(B.c.NAME == 'ORM'))\n",
    "len(con.execute(B.select().where(B.c.NAME == 'ORM')).fetchall())"
   ]
  },
  {
   "cell_type": "code",
   "execution_count": null,
   "metadata": {},
   "outputs": [],
   "source": [
    "key = 'ORM'\n",
    "size = con.execute(select(func.count(B.c.PK)).where(B.c.NAME == key)).fetchone()[0]\n",
    "\n",
    "if size == 0 :\n",
    "    con.execute(B.insert().values(NAME =key))\n",
    "\n",
    "con.execute(select(B.c.PK).where(B.c.NAME==key)).fetchone()[0]"
   ]
  },
  {
   "cell_type": "markdown",
   "metadata": {},
   "source": [
    "직접 만들기 (?)\n",
    "1. POST에 본문 INSERT\n",
    "2. INSERT된 PK\n",
    "3. 위 코드를 이용해 해쉬태그 PK 가져오기\n",
    "4. POSTTAG에 POST.PK와 HASHTAG.PK를 insert\n",
    "5. HASHTAG COUNT +1, PK = HASHTAG"
   ]
  },
  {
   "cell_type": "code",
   "execution_count": null,
   "metadata": {},
   "outputs": [],
   "source": [
    "#1\n",
    "con.execute(A.insert().values(PK =1, CONTENT = \"data\")).fetchall()"
   ]
  }
 ],
 "metadata": {
  "kernelspec": {
   "display_name": "Python 3",
   "language": "python",
   "name": "python3"
  },
  "language_info": {
   "codemirror_mode": {
    "name": "ipython",
    "version": 3
   },
   "file_extension": ".py",
   "mimetype": "text/x-python",
   "name": "python",
   "nbconvert_exporter": "python",
   "pygments_lexer": "ipython3",
   "version": "3.11.1"
  },
  "orig_nbformat": 4
 },
 "nbformat": 4,
 "nbformat_minor": 2
}
