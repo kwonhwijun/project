{
 "cells": [
  {
   "cell_type": "markdown",
   "metadata": {},
   "source": [
    "### ...의 용법"
   ]
  },
  {
   "cell_type": "code",
   "execution_count": null,
   "metadata": {},
   "outputs": [],
   "source": [
    "# ...\n",
    "print(...) #....__str__()가 Ellipss\n",
    "type(...) # 파이썬에서 미리 정의된 클래스는 카멜 방식 X, 모두 소문자 -> 하나의 값이다\n",
    "\n"
   ]
  },
  {
   "cell_type": "code",
   "execution_count": null,
   "metadata": {},
   "outputs": [],
   "source": [
    "# 부모 찾는 방법 (2)\n",
    "type(...).__bases__ # \n",
    "type(...).mro() #"
   ]
  },
  {
   "cell_type": "code",
   "execution_count": null,
   "metadata": {},
   "outputs": [],
   "source": [
    "# ...는 T/F 뭘까? 파이썬은 존재론적으로 보기\n",
    "if ...:\n",
    "    print('a')\n",
    "else :\n",
    "    print('b')"
   ]
  },
  {
   "cell_type": "code",
   "execution_count": null,
   "metadata": {},
   "outputs": [],
   "source": [
    "# pass의 용법 : 함수의 구문이 없을 때 pass를 쓴다\n",
    "def x():\n",
    "    pass\n",
    "\n",
    "def y():\n",
    "    ...\n",
    "\n",
    "a = y()\n",
    "a\n",
    "\n",
    "# pass 대신 ...을 쓸 수 있다."
   ]
  },
  {
   "cell_type": "code",
   "execution_count": null,
   "metadata": {},
   "outputs": [],
   "source": [
    "a = None\n",
    "b = ..."
   ]
  },
  {
   "cell_type": "code",
   "execution_count": null,
   "metadata": {},
   "outputs": [],
   "source": [
    "None == False # None은 아무것도 없는 것, False는 0을 의미한다"
   ]
  },
  {
   "cell_type": "code",
   "execution_count": null,
   "metadata": {},
   "outputs": [],
   "source": [
    "if 0 == False:\n",
    "    print(\" False의 값은 0이다\")\n",
    "\n",
    "if None: pass\n",
    "else : print(\"None은 False를 의미한다\")"
   ]
  },
  {
   "cell_type": "code",
   "execution_count": null,
   "metadata": {},
   "outputs": [],
   "source": [
    "import numpy as np\n",
    "x = np.array([[1,2,3], [4, 5, 6]])"
   ]
  },
  {
   "cell_type": "code",
   "execution_count": null,
   "metadata": {},
   "outputs": [],
   "source": [
    "x[0], x[[0]]"
   ]
  },
  {
   "cell_type": "code",
   "execution_count": null,
   "metadata": {},
   "outputs": [],
   "source": [
    "# 이차원은 2가지 값을 넣어야 한다.\n",
    "print(x[0][:])  #\n",
    "print(x[0, :])  # 다르게 표현한 것\n",
    "print(x[0]) # 두번째 값을 생략한 것"
   ]
  },
  {
   "cell_type": "code",
   "execution_count": null,
   "metadata": {},
   "outputs": [],
   "source": [
    "print(x[:, :]) # 모든 행과 모든 열\n",
    "print(x[...]) # ...으로 해결할 수 있다."
   ]
  },
  {
   "cell_type": "code",
   "execution_count": null,
   "metadata": {},
   "outputs": [],
   "source": [
    "xx = np.arange(24).reshape(2, 3, 4)"
   ]
  },
  {
   "cell_type": "code",
   "execution_count": null,
   "metadata": {},
   "outputs": [],
   "source": [
    "# 4567을 뽑기\n",
    "print(xx[0, 1, :])\n",
    "print(xx[0 , 1]) # :을 생락햘 수 있다\n",
    "# 1 ~ 11 모두 뽑기\n",
    "print(xx[0])\n",
    "print(xx[0, ...]) # ...으로 :을 생략 가능\n",
    "\n",
    "# 첫번째 열만 뽑기 \n",
    "xx[:, :, 0]\n",
    "xx[..., 0]"
   ]
  },
  {
   "cell_type": "code",
   "execution_count": null,
   "metadata": {},
   "outputs": [],
   "source": [
    "# ... 과 혼동 되는 None\n",
    "\n",
    "x[None] # 범위에 없는 것을 출력하면 IndexError가 나온다..\n",
    "x[1:100] # Slice에서는 범위에 없어도 에러가 없다. -> 100까지 slicing 해도 에러가 안나옴."
   ]
  },
  {
   "cell_type": "code",
   "execution_count": null,
   "metadata": {},
   "outputs": [],
   "source": [
    "y = [1, 2, 3, 4]\n",
    "y[None] # 오류\n"
   ]
  },
  {
   "cell_type": "code",
   "execution_count": 55,
   "metadata": {},
   "outputs": [
    {
     "data": {
      "text/plain": [
       "array([[[[ 0,  1,  2,  3],\n",
       "         [ 4,  5,  6,  7],\n",
       "         [ 8,  9, 10, 11]],\n",
       "\n",
       "        [[12, 13, 14, 15],\n",
       "         [16, 17, 18, 19],\n",
       "         [20, 21, 22, 23]]]])"
      ]
     },
     "execution_count": 55,
     "metadata": {},
     "output_type": "execute_result"
    }
   ],
   "source": [
    "xx[None]  # 차원이 늘어난다"
   ]
  },
  {
   "cell_type": "code",
   "execution_count": 59,
   "metadata": {},
   "outputs": [
    {
     "name": "stdout",
     "output_type": "stream",
     "text": [
      "[[[[ 0  1  2  3]\n",
      "   [ 4  5  6  7]\n",
      "   [ 8  9 10 11]]\n",
      "\n",
      "  [[12 13 14 15]\n",
      "   [16 17 18 19]\n",
      "   [20 21 22 23]]]]\n",
      "_____________\n",
      "[[[[ 0  1  2  3]\n",
      "   [ 4  5  6  7]\n",
      "   [ 8  9 10 11]]]\n",
      "\n",
      "\n",
      " [[[12 13 14 15]\n",
      "   [16 17 18 19]\n",
      "   [20 21 22 23]]]]\n",
      "_____________\n",
      "[[[[ 0]\n",
      "   [ 1]\n",
      "   [ 2]\n",
      "   [ 3]]\n",
      "\n",
      "  [[ 4]\n",
      "   [ 5]\n",
      "   [ 6]\n",
      "   [ 7]]\n",
      "\n",
      "  [[ 8]\n",
      "   [ 9]\n",
      "   [10]\n",
      "   [11]]]\n",
      "\n",
      "\n",
      " [[[12]\n",
      "   [13]\n",
      "   [14]\n",
      "   [15]]\n",
      "\n",
      "  [[16]\n",
      "   [17]\n",
      "   [18]\n",
      "   [19]]\n",
      "\n",
      "  [[20]\n",
      "   [21]\n",
      "   [22]\n",
      "   [23]]]]\n"
     ]
    }
   ],
   "source": [
    "# 2차원을 3차원으로 바꾸는 방법은 세가지가 존재 한다\n",
    "\n",
    "print(xx[None, ...])\n",
    "print(\"_____________\")\n",
    "print(xx[:, None, :])\n",
    "print(\"_____________\")\n",
    "print(xx[..., None])"
   ]
  },
  {
   "cell_type": "code",
   "execution_count": 63,
   "metadata": {},
   "outputs": [
    {
     "data": {
      "text/plain": [
       "array([[[1, 2, 3],\n",
       "        [4, 5, 6]]])"
      ]
     },
     "execution_count": 63,
     "metadata": {},
     "output_type": "execute_result"
    }
   ],
   "source": [
    "# np.newaxis\n",
    "\n",
    "np.newaxis == None \n",
    "\n",
    "x[np.newaxis] # np.newaxis == None 이기 때문에 np.newaxis를 넣어도 차원을 늘려준다. "
   ]
  },
  {
   "cell_type": "code",
   "execution_count": 75,
   "metadata": {},
   "outputs": [
    {
     "name": "stdout",
     "output_type": "stream",
     "text": [
      "(2, 3)\n",
      "(1, 2, 3)\n",
      "(1, 2, 3)\n",
      "(2, 1, 3)\n",
      "(2, 1, 3)\n",
      "(2, 3, 1)\n",
      "(2, 3, 1)\n"
     ]
    }
   ],
   "source": [
    "print(x.shape)\n",
    "# 처음에 차원 추가 : 1, 2, 3\n",
    "print(x[None].shape)\n",
    "print(x[None, :].shape)\n",
    "# 2, 1, 3\n",
    "print(x[:, None].shape)\n",
    "print(x[:, None, :].shape)\n",
    "# 2, 3, 1\n",
    "print(x[..., None].shape)\n",
    "print(x[:, : , None].shape)\n",
    "\n",
    "\n",
    "# 기본 메모리 공간은 float32"
   ]
  },
  {
   "cell_type": "code",
   "execution_count": 86,
   "metadata": {},
   "outputs": [
    {
     "name": "stdout",
     "output_type": "stream",
     "text": [
      "[2, 3]\n",
      "[1, 2, 3]\n"
     ]
    },
    {
     "data": {
      "text/plain": [
       "(object,)"
      ]
     },
     "execution_count": 86,
     "metadata": {},
     "output_type": "execute_result"
    }
   ],
   "source": [
    "# 연산자에 대응하는 메소드가 있다\n",
    "\n",
    "y = [1, 2, 3, 4]\n",
    "\n",
    "print(y[1:3])\n",
    "print(y[slice(3)])\n"
   ]
  },
  {
   "cell_type": "code",
   "execution_count": null,
   "metadata": {},
   "outputs": [],
   "source": []
  },
  {
   "cell_type": "code",
   "execution_count": 92,
   "metadata": {},
   "outputs": [
    {
     "name": "stdout",
     "output_type": "stream",
     "text": [
      "(2, 3, 4)\n",
      "[[ 0  1  2  3]\n",
      " [ 4  5  6  7]\n",
      " [ 8  9 10 11]] _\n",
      "[[12 13 14 15]\n",
      " [16 17 18 19]\n",
      " [20 21 22 23]] _\n"
     ]
    }
   ],
   "source": [
    "'__iter__' in dir(xx) # array에 __iter__가 있으므로 for 문에 넣을 수 있다(duck typing)\n",
    "print(xx.shape)\n",
    "for i in xx :\n",
    "    print(i, \"_\") # 가장 앞에 있는 차원을 기준으로 돌린다 (2, 3, 4) -> (3, 4) 사이즈로 2번"
   ]
  },
  {
   "cell_type": "code",
   "execution_count": 97,
   "metadata": {},
   "outputs": [
    {
     "data": {
      "text/plain": [
       "[(0, 'a'), (1, 'b'), (2, 'c'), (3, 'd')]"
      ]
     },
     "execution_count": 97,
     "metadata": {},
     "output_type": "execute_result"
    }
   ],
   "source": [
    "x = enumerate([ 'a', 'b','c', 'd'])\n",
    "list(x)"
   ]
  },
  {
   "cell_type": "code",
   "execution_count": 129,
   "metadata": {},
   "outputs": [
    {
     "name": "stdout",
     "output_type": "stream",
     "text": [
      "((0, 0, 0), 0) =\n",
      "((0, 0, 1), 1) =\n",
      "((0, 0, 2), 2) =\n",
      "((0, 0, 3), 3) =\n",
      "((0, 1, 0), 4) =\n",
      "((0, 1, 1), 5) =\n",
      "((0, 1, 2), 6) =\n",
      "((0, 1, 3), 7) =\n",
      "((0, 2, 0), 8) =\n",
      "((0, 2, 1), 9) =\n",
      "((0, 2, 2), 10) =\n",
      "((0, 2, 3), 11) =\n",
      "((1, 0, 0), 12) =\n",
      "((1, 0, 1), 13) =\n",
      "((1, 0, 2), 14) =\n",
      "((1, 0, 3), 15) =\n",
      "((1, 1, 0), 16) =\n",
      "((1, 1, 1), 17) =\n",
      "((1, 1, 2), 18) =\n",
      "((1, 1, 3), 19) =\n",
      "((1, 2, 0), 20) =\n",
      "((1, 2, 1), 21) =\n",
      "((1, 2, 2), 22) =\n",
      "((1, 2, 3), 23) =\n"
     ]
    }
   ],
   "source": [
    "# 값을 하나씩 뽑아서 돌리기 -> np.ndenumerate (multi dimensional index iterator)\n",
    "for i in np.ndenumerate(xx):\n",
    "    print(i, '=')\n",
    "\n",
    "# 컴퓨터에는 실제로 값이 일렬로 저장되어 있다"
   ]
  },
  {
   "cell_type": "code",
   "execution_count": 133,
   "metadata": {},
   "outputs": [
    {
     "data": {
      "text/plain": [
       "(12, 4)"
      ]
     },
     "execution_count": 133,
     "metadata": {},
     "output_type": "execute_result"
    }
   ],
   "source": [
    "# stride\n",
    "x = np.array([[1, 2, 3], [ 4, 5, 6]])\n",
    "x.strides # 메모리의 간격을 알려준다 \n",
    "# 12, 4 : 12만큼 전진하면 다음 행으로, 4만큼 더하면 다음 열로 이동할 수 있다. (실제 메모리에서의 구성)\n",
    "# axis의 개념으로 메모리의 거리로 접근하면 속도가 매우 빠르다"
   ]
  },
  {
   "cell_type": "code",
   "execution_count": 182,
   "metadata": {},
   "outputs": [
    {
     "name": "stdout",
     "output_type": "stream",
     "text": [
      "[[ 0  1  2  3  4  5]\n",
      " [ 6  7  8  9 10 11]\n",
      " [12 13 14 15 16 17]\n",
      " [18 19 20 21 22 23]]\n",
      "_______\n",
      "(4, 6)\n",
      "_______\n",
      "[36 40 44 48 52 56]\n",
      "_______\n",
      "[ 15  51  87 123]\n"
     ]
    }
   ],
   "source": [
    "a = np.arange(24).reshape(4, 6)\n",
    "a.sum() # 모든 값의 합\n",
    " # axis = 0의 의미 => 첫번째 차원을 제거하고 나머지 차원으로만 표현하라.\n",
    "print(a)\n",
    "print(\"_______\")\n",
    "print(a.shape)\n",
    "print(\"_______\")\n",
    "print(a.sum(axis = 0)) # 첫번째 차원을 제거하고 더한다\n",
    "print(\"_______\")\n",
    "print(a.sum(axis = 1)) # 두번째 차원을 제거하고 더한다 "
   ]
  },
  {
   "cell_type": "code",
   "execution_count": 156,
   "metadata": {},
   "outputs": [
    {
     "name": "stdout",
     "output_type": "stream",
     "text": [
      "[[70 80]\n",
      " [80 90]\n",
      " [95 50]]\n",
      "[245 220]\n",
      "[150 170 145]\n"
     ]
    }
   ],
   "source": [
    "test = np.array([[70,80], [80, 90], [95, 50]])\n",
    "print(test)\n",
    "print(test.sum(axis= 0)) # array([245, 220])\n",
    "print(test.sum(axis= 1)) # array([150, 170, 145])\n"
   ]
  },
  {
   "cell_type": "code",
   "execution_count": 170,
   "metadata": {},
   "outputs": [
    {
     "data": {
      "text/plain": [
       "4"
      ]
     },
     "execution_count": 170,
     "metadata": {},
     "output_type": "execute_result"
    }
   ],
   "source": [
    "a[0][4]"
   ]
  },
  {
   "cell_type": "code",
   "execution_count": 162,
   "metadata": {},
   "outputs": [
    {
     "name": "stdout",
     "output_type": "stream",
     "text": [
      "[[ 0  1  2  3  4  5]\n",
      " [ 6  7  8  9 10 11]\n",
      " [12 13 14 15 16 17]\n",
      " [18 19 20 21 22 23]]\n",
      "_______________\n",
      "(4, 6)\n",
      "_______________\n",
      "[36 40 44 48 52 56]\n",
      "_______________\n",
      "[ 15  51  87 123]\n"
     ]
    },
    {
     "ename": "IndexError",
     "evalue": "index 4 is out of bounds for axis 0 with size 4",
     "output_type": "error",
     "traceback": [
      "\u001b[1;31m---------------------------------------------------------------------------\u001b[0m",
      "\u001b[1;31mIndexError\u001b[0m                                Traceback (most recent call last)",
      "\u001b[1;32mc:\\Users\\HwijunKwon\\Desktop\\project\\sw\\programming\\pg_0915.ipynb Cell 29\u001b[0m line \u001b[0;36m1\n\u001b[0;32m      <a href='vscode-notebook-cell:/c%3A/Users/HwijunKwon/Desktop/project/sw/programming/pg_0915.ipynb#X43sZmlsZQ%3D%3D?line=6'>7</a>\u001b[0m \u001b[39mprint\u001b[39m(\u001b[39m\"\u001b[39m\u001b[39m_______________\u001b[39m\u001b[39m\"\u001b[39m)\n\u001b[0;32m      <a href='vscode-notebook-cell:/c%3A/Users/HwijunKwon/Desktop/project/sw/programming/pg_0915.ipynb#X43sZmlsZQ%3D%3D?line=7'>8</a>\u001b[0m \u001b[39mprint\u001b[39m(a\u001b[39m.\u001b[39msum(axis \u001b[39m=\u001b[39m \u001b[39m1\u001b[39m))\n\u001b[1;32m---> <a href='vscode-notebook-cell:/c%3A/Users/HwijunKwon/Desktop/project/sw/programming/pg_0915.ipynb#X43sZmlsZQ%3D%3D?line=9'>10</a>\u001b[0m a[\u001b[39m4\u001b[39;49m, \u001b[39m0\u001b[39;49m]\n",
      "\u001b[1;31mIndexError\u001b[0m: index 4 is out of bounds for axis 0 with size 4"
     ]
    }
   ],
   "source": [
    "a = np.arange(24).reshape(4, 6)\n",
    "print(a)\n",
    "print(\"_______________\")\n",
    "print(a.shape)\n",
    "print(\"_______________\")\n",
    "print(a.sum(axis = 0))\n",
    "print(\"_______________\")\n",
    "print(a.sum(axis = 1))\n",
    "\n"
   ]
  },
  {
   "cell_type": "code",
   "execution_count": 177,
   "metadata": {},
   "outputs": [
    {
     "name": "stdout",
     "output_type": "stream",
     "text": [
      "[[[ 0  1  2  3]\n",
      "  [ 4  5  6  7]\n",
      "  [ 8  9 10 11]]\n",
      "\n",
      " [[12 13 14 15]\n",
      "  [16 17 18 19]\n",
      "  [20 21 22 23]]]\n"
     ]
    },
    {
     "data": {
      "text/plain": [
       "(2, 3, 4)"
      ]
     },
     "execution_count": 177,
     "metadata": {},
     "output_type": "execute_result"
    }
   ],
   "source": [
    "print(xx)\n",
    "xx.shape"
   ]
  },
  {
   "cell_type": "code",
   "execution_count": 175,
   "metadata": {},
   "outputs": [
    {
     "data": {
      "text/plain": [
       "array([[ 6.,  7.,  8.,  9.],\n",
       "       [10., 11., 12., 13.],\n",
       "       [14., 15., 16., 17.]])"
      ]
     },
     "execution_count": 175,
     "metadata": {},
     "output_type": "execute_result"
    }
   ],
   "source": [
    "xx.mean(axis = 0)"
   ]
  },
  {
   "cell_type": "code",
   "execution_count": 172,
   "metadata": {},
   "outputs": [
    {
     "data": {
      "text/plain": [
       "array([[ 4.,  5.,  6.,  7.],\n",
       "       [16., 17., 18., 19.]])"
      ]
     },
     "execution_count": 172,
     "metadata": {},
     "output_type": "execute_result"
    }
   ],
   "source": [
    "xx.mean(axis = 1)"
   ]
  },
  {
   "cell_type": "code",
   "execution_count": 176,
   "metadata": {},
   "outputs": [
    {
     "data": {
      "text/plain": [
       "array([[ 1.5,  5.5,  9.5],\n",
       "       [13.5, 17.5, 21.5]])"
      ]
     },
     "execution_count": 176,
     "metadata": {},
     "output_type": "execute_result"
    }
   ],
   "source": [
    "xx.mean(axis = 2)"
   ]
  },
  {
   "cell_type": "code",
   "execution_count": 195,
   "metadata": {},
   "outputs": [],
   "source": [
    "# nditer\n",
    "t = np.nditer(xx) # n차원 iterator로 변환하기\n",
    "b = xx.flat\n"
   ]
  },
  {
   "cell_type": "code",
   "execution_count": 204,
   "metadata": {},
   "outputs": [
    {
     "data": {
      "text/plain": [
       "array(5)"
      ]
     },
     "execution_count": 204,
     "metadata": {},
     "output_type": "execute_result"
    }
   ],
   "source": [
    "next(t) # array의 순서를 출력한다. array가 붙어서 나와서 잘 사용안한다. "
   ]
  },
  {
   "cell_type": "code",
   "execution_count": 202,
   "metadata": {},
   "outputs": [
    {
     "data": {
      "text/plain": [
       "6"
      ]
     },
     "execution_count": 202,
     "metadata": {},
     "output_type": "execute_result"
    }
   ],
   "source": [
    "next(b) # data.flat -> 순서를 바로 출력"
   ]
  },
  {
   "cell_type": "code",
   "execution_count": 205,
   "metadata": {},
   "outputs": [
    {
     "data": {
      "text/plain": [
       "array([ 0,  1,  2,  3,  4,  5,  6,  7,  8,  9, 10, 11, 12, 13, 14, 15, 16,\n",
       "       17, 18, 19, 20, 21, 22, 23])"
      ]
     },
     "execution_count": 205,
     "metadata": {},
     "output_type": "execute_result"
    }
   ],
   "source": [
    "xx.flatten() # n차의 데이터를 1차로 바꾼다. "
   ]
  },
  {
   "cell_type": "code",
   "execution_count": 206,
   "metadata": {},
   "outputs": [
    {
     "data": {
      "text/plain": [
       "array([ 0,  1,  2,  3,  4,  5,  6,  7,  8,  9, 10, 11, 12, 13, 14, 15, 16,\n",
       "       17, 18, 19, 20, 21, 22, 23])"
      ]
     },
     "execution_count": 206,
     "metadata": {},
     "output_type": "execute_result"
    }
   ],
   "source": [
    "xx.ravel()"
   ]
  },
  {
   "cell_type": "code",
   "execution_count": 210,
   "metadata": {},
   "outputs": [
    {
     "data": {
      "text/plain": [
       "array([[ 0,  1,  2,  3,  4,  5,  6,  7],\n",
       "       [ 8,  9, 10, 11, 12, 13, 14, 15],\n",
       "       [16, 17, 18, 19, 20, 21, 22, 23]])"
      ]
     },
     "execution_count": 210,
     "metadata": {},
     "output_type": "execute_result"
    }
   ],
   "source": [
    "a = xx.flatten()\n",
    "a.reshape(3, 8)\n",
    "a.reshape((3, 8)) # 원래는 shape에 하나의 튜플을 입력해야 하지만, 오류가 많아서 괄호를 생략해도 괜찮게 함"
   ]
  },
  {
   "cell_type": "code",
   "execution_count": 215,
   "metadata": {},
   "outputs": [
    {
     "data": {
      "text/plain": [
       "array([[ 0,  1,  2,  3,  4,  5,  6,  7],\n",
       "       [ 8,  9, 10, 11, 12, 13, 14, 15],\n",
       "       [16, 17, 18, 19, 20, 21, 22, 23]])"
      ]
     },
     "execution_count": 215,
     "metadata": {},
     "output_type": "execute_result"
    }
   ],
   "source": [
    "a.reshape((3, 8), order = 'C') # "
   ]
  },
  {
   "cell_type": "code",
   "execution_count": 216,
   "metadata": {},
   "outputs": [
    {
     "data": {
      "text/plain": [
       "array([[ 0,  3,  6,  9, 12, 15, 18, 21],\n",
       "       [ 1,  4,  7, 10, 13, 16, 19, 22],\n",
       "       [ 2,  5,  8, 11, 14, 17, 20, 23]])"
      ]
     },
     "execution_count": 216,
     "metadata": {},
     "output_type": "execute_result"
    }
   ],
   "source": [
    "a.reshape((3, 8), order = 'F')"
   ]
  },
  {
   "cell_type": "code",
   "execution_count": 217,
   "metadata": {},
   "outputs": [
    {
     "data": {
      "text/plain": [
       "array([[ 0,  1,  2,  3,  4,  5],\n",
       "       [ 6,  7,  8,  9, 10, 11],\n",
       "       [12, 13, 14, 15, 16, 17],\n",
       "       [18, 19, 20, 21, 22, 23]])"
      ]
     },
     "execution_count": 217,
     "metadata": {},
     "output_type": "execute_result"
    }
   ],
   "source": [
    "a.reshape(4, -1) # 첫번째 차원을 결정하면 두번째는 -1을 넣으면 알아서 계산해준다. \n",
    "# resh"
   ]
  },
  {
   "cell_type": "code",
   "execution_count": 218,
   "metadata": {},
   "outputs": [
    {
     "data": {
      "text/plain": [
       "array([ 0,  1,  2,  3,  4,  5,  6,  7,  8,  9, 10, 11, 12, 13, 14, 15, 16,\n",
       "       17, 18, 19, 20, 21, 22, 23])"
      ]
     },
     "execution_count": 218,
     "metadata": {},
     "output_type": "execute_result"
    }
   ],
   "source": [
    "a"
   ]
  },
  {
   "cell_type": "code",
   "execution_count": 219,
   "metadata": {},
   "outputs": [],
   "source": [
    "a.resize(4, 5, refcheck= False) #4*5로 만들고 남는 값은 잘라버림"
   ]
  },
  {
   "cell_type": "code",
   "execution_count": 223,
   "metadata": {},
   "outputs": [
    {
     "data": {
      "text/plain": [
       "4"
      ]
     },
     "execution_count": 223,
     "metadata": {},
     "output_type": "execute_result"
    }
   ],
   "source": [
    "x = np.array([1, 2, 3, 4])\n",
    "x.size"
   ]
  },
  {
   "cell_type": "code",
   "execution_count": 221,
   "metadata": {},
   "outputs": [
    {
     "data": {
      "text/plain": [
       "20"
      ]
     },
     "execution_count": 221,
     "metadata": {},
     "output_type": "execute_result"
    }
   ],
   "source": [
    "a.size\n"
   ]
  },
  {
   "cell_type": "markdown",
   "metadata": {},
   "source": [
    "### 1700"
   ]
  },
  {
   "cell_type": "code",
   "execution_count": 232,
   "metadata": {},
   "outputs": [
    {
     "name": "stdout",
     "output_type": "stream",
     "text": [
      "[[1 2]\n",
      " [3 4]]\n",
      "__________\n",
      "[[1 2]\n",
      " [3 4]]\n",
      "__________\n",
      "[[1 2]\n",
      " [3 4]\n",
      " [1 2]\n",
      " [3 4]]\n",
      "__________\n",
      "[[1 2 1 2]\n",
      " [3 4 3 4]]\n"
     ]
    }
   ],
   "source": [
    "a = np.array([[1,2] , [3, 4]])\n",
    "b = np.array([[1,2] , [3, 4]])\n",
    "\n",
    "print(a), \n",
    "print(\"__________\")\n",
    "print(b)\n",
    "print(\"__________\")\n",
    "print(np.concatenate((a, b))) # defalut는 행을 붙이기\n",
    "print(\"__________\")\n",
    "print(np.concatenate((a, b), 1)) # default는 열로 붙이기"
   ]
  },
  {
   "cell_type": "code",
   "execution_count": 233,
   "metadata": {},
   "outputs": [
    {
     "data": {
      "text/plain": [
       "array([[1, 2, 1, 2],\n",
       "       [3, 4, 3, 4]])"
      ]
     },
     "execution_count": 233,
     "metadata": {},
     "output_type": "execute_result"
    }
   ],
   "source": [
    "np.column_stack((a, b))"
   ]
  },
  {
   "cell_type": "code",
   "execution_count": 239,
   "metadata": {},
   "outputs": [
    {
     "name": "stdout",
     "output_type": "stream",
     "text": [
      "[[1 2 1 2]\n",
      " [3 4 3 4]]\n",
      "_______\n",
      "[[1 2]\n",
      " [3 4]\n",
      " [1 2]\n",
      " [3 4]]\n"
     ]
    }
   ],
   "source": [
    " # 대괄호 : indexer (pandas에서 또 나옴)\n",
    "print(np.c_[a, b]) # column끼리 붙이기\n",
    "print(\"_______\")\n",
    "print(np.r_[a, b]) # row 끼리 붙이기 "
   ]
  },
  {
   "cell_type": "code",
   "execution_count": 247,
   "metadata": {},
   "outputs": [
    {
     "name": "stdout",
     "output_type": "stream",
     "text": [
      "[[1 2]\n",
      " [3 4]\n",
      " [1 2]\n",
      " [3 4]]\n",
      "__________\n",
      "(4, 2)\n",
      "__________\n",
      "[[[1 2]\n",
      "  [3 4]]\n",
      "\n",
      " [[1 2]\n",
      "  [3 4]]]\n",
      "__________\n"
     ]
    },
    {
     "data": {
      "text/plain": [
       "(2, 2, 2)"
      ]
     },
     "execution_count": 247,
     "metadata": {},
     "output_type": "execute_result"
    }
   ],
   "source": [
    "print(np.r_[a,b ])\n",
    "print(\"__________\")\n",
    "print(np.r_[a,b ].shape)\n",
    "print(\"__________\")\n",
    "print(np.stack((a,b)))\n",
    "print(\"__________\")\n",
    "np.stack((a,b)).shape"
   ]
  },
  {
   "cell_type": "code",
   "execution_count": 249,
   "metadata": {},
   "outputs": [
    {
     "name": "stdout",
     "output_type": "stream",
     "text": [
      "[[1 2]\n",
      " [3 4]]\n",
      "[[1 2]\n",
      " [3 4]]\n"
     ]
    }
   ],
   "source": [
    "\n",
    "print(a)\n",
    "print(np.stack(a))"
   ]
  },
  {
   "cell_type": "code",
   "execution_count": null,
   "metadata": {},
   "outputs": [],
   "source": [
    "func_list = [\"dstack\"]"
   ]
  },
  {
   "cell_type": "code",
   "execution_count": 255,
   "metadata": {},
   "outputs": [
    {
     "name": "stdout",
     "output_type": "stream",
     "text": [
      "[[1 2 1 2]\n",
      " [3 4 3 4]]\n",
      "(2, 4)\n"
     ]
    }
   ],
   "source": [
    "x = np.hstack((a,b))\n",
    "print(x)\n",
    "print(x.shape)"
   ]
  },
  {
   "cell_type": "code",
   "execution_count": 253,
   "metadata": {},
   "outputs": [
    {
     "name": "stdout",
     "output_type": "stream",
     "text": [
      "[[1 2]\n",
      " [3 4]\n",
      " [1 2]\n",
      " [3 4]]\n",
      "(4, 2)\n"
     ]
    }
   ],
   "source": [
    "x = np.vstack((a,b))\n",
    "print(x)\n",
    "print(x.shape)"
   ]
  },
  {
   "cell_type": "code",
   "execution_count": 256,
   "metadata": {},
   "outputs": [
    {
     "name": "stdout",
     "output_type": "stream",
     "text": [
      "[[[1 1]\n",
      "  [2 2]]\n",
      "\n",
      " [[3 3]\n",
      "  [4 4]]]\n",
      "(2, 2, 2)\n"
     ]
    }
   ],
   "source": [
    "x = np.dstack((a,b))\n",
    "print(x)\n",
    "print(x.shape)"
   ]
  },
  {
   "cell_type": "code",
   "execution_count": 264,
   "metadata": {},
   "outputs": [
    {
     "name": "stdout",
     "output_type": "stream",
     "text": [
      "[[[ 0  1  2  3]\n",
      "  [ 4  5  6  7]\n",
      "  [ 8  9 10 11]]\n",
      "\n",
      " [[12 13 14 15]\n",
      "  [16 17 18 19]\n",
      "  [20 21 22 23]]]\n",
      "_________\n",
      "[[[ 0 12]\n",
      "  [ 4 16]\n",
      "  [ 8 20]]\n",
      "\n",
      " [[ 1 13]\n",
      "  [ 5 17]\n",
      "  [ 9 21]]\n",
      "\n",
      " [[ 2 14]\n",
      "  [ 6 18]\n",
      "  [10 22]]\n",
      "\n",
      " [[ 3 15]\n",
      "  [ 7 19]\n",
      "  [11 23]]]\n"
     ]
    },
    {
     "data": {
      "text/plain": [
       "(4, 3, 2)"
      ]
     },
     "execution_count": 264,
     "metadata": {},
     "output_type": "execute_result"
    }
   ],
   "source": [
    "data = np.arange(24).reshape((2, 3, 4))\n",
    "print(data)\n",
    "print('_________')\n",
    "print(data.T)\n",
    "data.T.shape"
   ]
  },
  {
   "cell_type": "code",
   "execution_count": 266,
   "metadata": {},
   "outputs": [
    {
     "data": {
      "text/plain": [
       "array([[[ 0,  4,  8],\n",
       "        [12, 16, 20]],\n",
       "\n",
       "       [[ 1,  5,  9],\n",
       "        [13, 17, 21]],\n",
       "\n",
       "       [[ 2,  6, 10],\n",
       "        [14, 18, 22]],\n",
       "\n",
       "       [[ 3,  7, 11],\n",
       "        [15, 19, 23]]])"
      ]
     },
     "execution_count": 266,
     "metadata": {},
     "output_type": "execute_result"
    }
   ],
   "source": [
    "np.transpose(data, [2, 0 , 1])"
   ]
  },
  {
   "cell_type": "code",
   "execution_count": 270,
   "metadata": {},
   "outputs": [
    {
     "name": "stdout",
     "output_type": "stream",
     "text": [
      "[[[ 0  1  2  3]\n",
      "  [ 4  5  6  7]\n",
      "  [ 8  9 10 11]]\n",
      "\n",
      " [[12 13 14 15]\n",
      "  [16 17 18 19]\n",
      "  [20 21 22 23]]]\n",
      "(2, 3, 4)\n",
      "_____________\n",
      "[[[ 0 12]\n",
      "  [ 4 16]\n",
      "  [ 8 20]]\n",
      "\n",
      " [[ 1 13]\n",
      "  [ 5 17]\n",
      "  [ 9 21]]\n",
      "\n",
      " [[ 2 14]\n",
      "  [ 6 18]\n",
      "  [10 22]]\n",
      "\n",
      " [[ 3 15]\n",
      "  [ 7 19]\n",
      "  [11 23]]]\n",
      "(4, 3, 2)\n"
     ]
    }
   ],
   "source": [
    "x = np.swapaxes(data, 0, 2) # 0과 2번째 axis를 전환한다. \n",
    "print(data)\n",
    "print(data.shape)\n",
    "print(\"_____________\")\n",
    "print(x)\n",
    "print(x.shape) # "
   ]
  },
  {
   "cell_type": "code",
   "execution_count": 269,
   "metadata": {},
   "outputs": [
    {
     "name": "stdout",
     "output_type": "stream",
     "text": [
      "[[[ 0  1  2  3]\n",
      "  [ 4  5  6  7]\n",
      "  [ 8  9 10 11]]\n",
      "\n",
      " [[12 13 14 15]\n",
      "  [16 17 18 19]\n",
      "  [20 21 22 23]]]\n",
      "(2, 3, 4)\n",
      "_____________\n",
      "[[[ 0 12]\n",
      "  [ 1 13]\n",
      "  [ 2 14]\n",
      "  [ 3 15]]\n",
      "\n",
      " [[ 4 16]\n",
      "  [ 5 17]\n",
      "  [ 6 18]\n",
      "  [ 7 19]]\n",
      "\n",
      " [[ 8 20]\n",
      "  [ 9 21]\n",
      "  [10 22]\n",
      "  [11 23]]]\n",
      "(3, 4, 2)\n"
     ]
    }
   ],
   "source": [
    "x = np.moveaxis(data, 0, 2) # 첫번째 축을 3번째 축으로 보내기 \n",
    "print(data)\n",
    "print(data.shape)\n",
    "print(\"_____________\")\n",
    "print(x)\n",
    "print(x.shape) # 3 * 340 * 340 -> 340 * 3 * 3으로 옮기고 싶을 떄 "
   ]
  },
  {
   "cell_type": "code",
   "execution_count": null,
   "metadata": {},
   "outputs": [],
   "source": [
    "np.swapaxis(data, 0, 2)\n",
    "\n"
   ]
  }
 ],
 "metadata": {
  "kernelspec": {
   "display_name": "Python 3",
   "language": "python",
   "name": "python3"
  },
  "language_info": {
   "codemirror_mode": {
    "name": "ipython",
    "version": 3
   },
   "file_extension": ".py",
   "mimetype": "text/x-python",
   "name": "python",
   "nbconvert_exporter": "python",
   "pygments_lexer": "ipython3",
   "version": "3.11.1"
  },
  "orig_nbformat": 4
 },
 "nbformat": 4,
 "nbformat_minor": 2
}
