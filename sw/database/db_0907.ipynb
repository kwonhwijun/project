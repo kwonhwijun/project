{
 "cells": [
  {
   "cell_type": "markdown",
   "metadata": {},
   "source": [
    "0907 목요일"
   ]
  },
  {
   "cell_type": "code",
   "execution_count": 1,
   "metadata": {},
   "outputs": [
    {
     "data": {
      "text/plain": [
       "<sqlalchemy.orm.decl_api.registry at 0x2037d580f10>"
      ]
     },
     "execution_count": 1,
     "metadata": {},
     "output_type": "execute_result"
    }
   ],
   "source": [
    "from sqlalchemy.orm import declarative_base\n",
    "# declarative_base는 SQLAlchemy ORM에서 제공하는 함수로, 데이터베이스 테이블과 Python 클래스를 매핑해주는 기반 클래스를 생성\n",
    "base = declarative_base() #base 인스턴스를 생성\n",
    "base.metadata.tables # <- Core Table 객체-RDMBS \n",
    "#.tables는 이 메타데이터 내의 모든 테이블에 대한 정보를 담고 있는 딕셔너리\n",
    "base.registry # <- Object 등록 \n",
    "#registry는 base에 등록된 모든 클래스에 대한 정보를 담고 있는 곳"
   ]
  },
  {
   "cell_type": "code",
   "execution_count": 3,
   "metadata": {},
   "outputs": [],
   "source": [
    "from sqlalchemy.schema import Table, Column, ForeignKey\n",
    "from sqlalchemy.types import Integer, Text\n",
    "\n",
    "base.metadata.tables\n",
    "#'USER'라는 이름의 테이블을 메타데이터에서 제거하는 코드\n",
    "base.registry.dispose() # base에 등록된 모든 클래스 정보를 제거합니다."
   ]
  },
  {
   "cell_type": "code",
   "execution_count": 4,
   "metadata": {},
   "outputs": [],
   "source": [
    "class User(base):\n",
    "    __tablename__ = 'USER'\n",
    "    # obj->테이블이름   => DBMS 사용될 Table이름\n",
    "    pk = Column('PK', Integer, primary_key=True)\n",
    "    # obj->pk        => DBMS 해당 Table 사용되는 Column\n",
    "    name = Column('NAME', Text)\n",
    "    \n",
    "    def __repr__(self):\n",
    "        return f'PK:{self.pk}, NAME:{self.name}'"
   ]
  },
  {
   "cell_type": "code",
   "execution_count": 6,
   "metadata": {},
   "outputs": [
    {
     "data": {
      "text/plain": [
       "(__main__.User, sqlalchemy.sql.schema.Table)"
      ]
     },
     "execution_count": 6,
     "metadata": {},
     "output_type": "execute_result"
    }
   ],
   "source": [
    "user1 = User(name='아무거나')\n",
    "type(user1), type(base.metadata.tables['USER'])"
   ]
  },
  {
   "cell_type": "code",
   "execution_count": 7,
   "metadata": {},
   "outputs": [
    {
     "name": "stdout",
     "output_type": "stream",
     "text": [
      "2023-09-10 14:14:25,965 INFO sqlalchemy.engine.Engine BEGIN (implicit)\n",
      "2023-09-10 14:14:25,966 INFO sqlalchemy.engine.Engine PRAGMA main.table_info(\"USER\")\n",
      "2023-09-10 14:14:25,967 INFO sqlalchemy.engine.Engine [raw sql] ()\n",
      "2023-09-10 14:14:25,968 INFO sqlalchemy.engine.Engine PRAGMA temp.table_info(\"USER\")\n",
      "2023-09-10 14:14:25,969 INFO sqlalchemy.engine.Engine [raw sql] ()\n",
      "2023-09-10 14:14:25,971 INFO sqlalchemy.engine.Engine \n",
      "CREATE TABLE \"USER\" (\n",
      "\t\"PK\" INTEGER NOT NULL, \n",
      "\t\"NAME\" TEXT, \n",
      "\tPRIMARY KEY (\"PK\")\n",
      ")\n",
      "\n",
      "\n",
      "2023-09-10 14:14:25,973 INFO sqlalchemy.engine.Engine [no key 0.00166s] ()\n",
      "2023-09-10 14:14:25,975 INFO sqlalchemy.engine.Engine COMMIT\n"
     ]
    }
   ],
   "source": [
    "from sqlalchemy import create_engine\n",
    "engine = create_engine('sqlite:///:memory:', echo=True)\n",
    "base.metadata.create_all(engine)"
   ]
  },
  {
   "cell_type": "code",
   "execution_count": 8,
   "metadata": {},
   "outputs": [
    {
     "data": {
      "text/plain": [
       "PK:None, NAME:아무거나"
      ]
     },
     "execution_count": 8,
     "metadata": {},
     "output_type": "execute_result"
    }
   ],
   "source": [
    "# session => engine.connect().execute() => DBMS\n",
    "from sqlalchemy.orm import sessionmaker\n",
    "Session = sessionmaker(engine)\n",
    "sess = Session()\n",
    "sess.add(user1)\n",
    "user1"
   ]
  },
  {
   "cell_type": "code",
   "execution_count": 9,
   "metadata": {},
   "outputs": [
    {
     "name": "stdout",
     "output_type": "stream",
     "text": [
      "2023-09-10 14:15:08,393 INFO sqlalchemy.engine.Engine BEGIN (implicit)\n",
      "2023-09-10 14:15:08,399 INFO sqlalchemy.engine.Engine INSERT INTO \"USER\" (\"NAME\") VALUES (?)\n",
      "2023-09-10 14:15:08,400 INFO sqlalchemy.engine.Engine [generated in 0.00152s] ('아무거나',)\n",
      "2023-09-10 14:15:08,403 INFO sqlalchemy.engine.Engine COMMIT\n",
      "2023-09-10 14:15:08,408 INFO sqlalchemy.engine.Engine BEGIN (implicit)\n",
      "2023-09-10 14:15:08,415 INFO sqlalchemy.engine.Engine SELECT \"USER\".\"PK\" AS \"USER_PK\", \"USER\".\"NAME\" AS \"USER_NAME\" \n",
      "FROM \"USER\" \n",
      "WHERE \"USER\".\"PK\" = ?\n",
      "2023-09-10 14:15:08,416 INFO sqlalchemy.engine.Engine [generated in 0.00127s] (1,)\n"
     ]
    },
    {
     "data": {
      "text/plain": [
       "PK:1, NAME:아무거나"
      ]
     },
     "execution_count": 9,
     "metadata": {},
     "output_type": "execute_result"
    }
   ],
   "source": [
    "sess.commit()\n",
    "user1"
   ]
  },
  {
   "cell_type": "code",
   "execution_count": 10,
   "metadata": {},
   "outputs": [
    {
     "data": {
      "text/plain": [
       "False"
      ]
     },
     "execution_count": 10,
     "metadata": {},
     "output_type": "execute_result"
    }
   ],
   "source": [
    "sess.is_modified(user1)"
   ]
  },
  {
   "cell_type": "code",
   "execution_count": 11,
   "metadata": {},
   "outputs": [
    {
     "data": {
      "text/plain": [
       "IdentitySet([])"
      ]
     },
     "execution_count": 11,
     "metadata": {},
     "output_type": "execute_result"
    }
   ],
   "source": [
    "sess.dirty"
   ]
  },
  {
   "cell_type": "code",
   "execution_count": 12,
   "metadata": {},
   "outputs": [
    {
     "data": {
      "text/plain": [
       "PK:1, NAME:다른값"
      ]
     },
     "execution_count": 12,
     "metadata": {},
     "output_type": "execute_result"
    }
   ],
   "source": [
    "user1.name = '다른값'\n",
    "user1"
   ]
  },
  {
   "cell_type": "code",
   "execution_count": 13,
   "metadata": {},
   "outputs": [
    {
     "data": {
      "text/plain": [
       "IdentitySet([PK:1, NAME:다른값])"
      ]
     },
     "execution_count": 13,
     "metadata": {},
     "output_type": "execute_result"
    }
   ],
   "source": [
    "sess.dirty"
   ]
  },
  {
   "cell_type": "code",
   "execution_count": 14,
   "metadata": {},
   "outputs": [
    {
     "data": {
      "text/plain": [
       "True"
      ]
     },
     "execution_count": 14,
     "metadata": {},
     "output_type": "execute_result"
    }
   ],
   "source": [
    "sess.is_modified(user1)"
   ]
  },
  {
   "cell_type": "code",
   "execution_count": 15,
   "metadata": {},
   "outputs": [
    {
     "name": "stdout",
     "output_type": "stream",
     "text": [
      "2023-09-10 14:15:46,906 INFO sqlalchemy.engine.Engine UPDATE \"USER\" SET \"NAME\"=? WHERE \"USER\".\"PK\" = ?\n",
      "2023-09-10 14:15:46,907 INFO sqlalchemy.engine.Engine [generated in 0.00114s] ('다른값', 1)\n",
      "2023-09-10 14:15:46,909 INFO sqlalchemy.engine.Engine COMMIT\n"
     ]
    }
   ],
   "source": [
    "sess.commit()"
   ]
  },
  {
   "cell_type": "code",
   "execution_count": 16,
   "metadata": {},
   "outputs": [
    {
     "name": "stdout",
     "output_type": "stream",
     "text": [
      "2023-09-10 14:15:53,148 INFO sqlalchemy.engine.Engine BEGIN (implicit)\n",
      "2023-09-10 14:15:53,149 INFO sqlalchemy.engine.Engine SELECT \"USER\".\"PK\" AS \"USER_PK\", \"USER\".\"NAME\" AS \"USER_NAME\" \n",
      "FROM \"USER\" \n",
      "WHERE \"USER\".\"PK\" = ?\n",
      "2023-09-10 14:15:53,150 INFO sqlalchemy.engine.Engine [cached since 44.74s ago] (1,)\n"
     ]
    },
    {
     "data": {
      "text/plain": [
       "PK:1, NAME:다른값"
      ]
     },
     "execution_count": 16,
     "metadata": {},
     "output_type": "execute_result"
    }
   ],
   "source": [
    "user1"
   ]
  },
  {
   "cell_type": "code",
   "execution_count": 17,
   "metadata": {},
   "outputs": [
    {
     "name": "stdout",
     "output_type": "stream",
     "text": [
      "2023-09-10 14:16:17,565 INFO sqlalchemy.engine.Engine INSERT INTO \"USER\" (\"NAME\") VALUES (?) RETURNING \"PK\"\n",
      "2023-09-10 14:16:17,568 INFO sqlalchemy.engine.Engine [generated in 0.00033s (insertmanyvalues) 1/2 (ordered; batch not supported)] ('2',)\n",
      "2023-09-10 14:16:17,570 INFO sqlalchemy.engine.Engine INSERT INTO \"USER\" (\"NAME\") VALUES (?) RETURNING \"PK\"\n",
      "2023-09-10 14:16:17,572 INFO sqlalchemy.engine.Engine [insertmanyvalues 2/2 (ordered; batch not supported)] ('3',)\n",
      "2023-09-10 14:16:17,574 INFO sqlalchemy.engine.Engine COMMIT\n"
     ]
    }
   ],
   "source": [
    "sess.add_all([User(name='2'), User(name='3')])\n",
    "sess.commit()"
   ]
  },
  {
   "cell_type": "code",
   "execution_count": null,
   "metadata": {},
   "outputs": [],
   "source": [
    "userList = sess.query(User).all()\n",
    "len(userList)\n",
    "user1 is userList[0]\n",
    "userList[1].name = '다른값2'\n",
    "sess.dirty\n",
    "sess.commit()\n",
    "userList[1]"
   ]
  },
  {
   "cell_type": "code",
   "execution_count": null,
   "metadata": {},
   "outputs": [],
   "source": [
    "[user for user in userList if user.name == '3'][0] is userList[2]\n",
    "sess.query(User).where(User.name == '3').one() is userList[2]\n",
    "\n",
    "class Address(base):\n",
    "    __tablename__ = 'ADDRESS'\n",
    "    \n",
    "    pk = Column('PK', Integer, primary_key=True)\n",
    "    name = Column('NAME', Text)\n",
    "    fk = Column('FK', None, ForeignKey('USER.PK'))\n",
    "    \n",
    "    def __repr__(self):\n",
    "        return f'PK:{self.pk}, NAME:{self.name}, FK:{self.fk}'"
   ]
  }
 ],
 "metadata": {
  "kernelspec": {
   "display_name": "Python 3",
   "language": "python",
   "name": "python3"
  },
  "language_info": {
   "codemirror_mode": {
    "name": "ipython",
    "version": 3
   },
   "file_extension": ".py",
   "mimetype": "text/x-python",
   "name": "python",
   "nbconvert_exporter": "python",
   "pygments_lexer": "ipython3",
   "version": "3.11.1"
  },
  "orig_nbformat": 4
 },
 "nbformat": 4,
 "nbformat_minor": 2
}
