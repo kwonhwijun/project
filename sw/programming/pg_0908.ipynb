{
 "cells": [
  {
   "cell_type": "markdown",
   "metadata": {},
   "source": [
    "### 복습"
   ]
  },
  {
   "cell_type": "code",
   "execution_count": 1,
   "metadata": {},
   "outputs": [
    {
     "data": {
      "text/plain": [
       "(9, 9)"
      ]
     },
     "execution_count": 1,
     "metadata": {},
     "output_type": "execute_result"
    }
   ],
   "source": [
    "adders = []\n",
    "for n in range(5) :\n",
    "    adders.append(lambda m : m + n)\n",
    "\n",
    "adders[0](5), adders[1](5)\n",
    "# 다 똑같은 이유. 스택영역에 들어가기 때문이다. 함수는 이름을 본다. \n",
    "# 매개변수가 한개인 익명함수이 이기 때문에 마지막 람다 함수로 덮어씌어진다\n",
    "# 이름이 없으니 계속 재할당 되는 것."
   ]
  },
  {
   "cell_type": "code",
   "execution_count": null,
   "metadata": {},
   "outputs": [],
   "source": [
    "a = 1\n",
    "a = 2\n",
    "def a():\n",
    "    return 10\n",
    "\n",
    "print(a, a()) # a는 재할당 된다. "
   ]
  },
  {
   "cell_type": "code",
   "execution_count": null,
   "metadata": {},
   "outputs": [],
   "source": [
    "def get_primes():\n",
    "\t\"Simple lazy Sieve of Eratosthenes\"\n",
    "\tcandidate = 2\n",
    "\tfound = []\n",
    "\twhile True:\n",
    "\t    if all(candidate % prime != 0 for prime in found):\n",
    "\t\t\tyield candidate\n",
    "\t\t\tfound.append(candidate)\n",
    "\t\t    candidate += 1\n",
    "primes = get_primes()"
   ]
  },
  {
   "cell_type": "code",
   "execution_count": null,
   "metadata": {},
   "outputs": [],
   "source": [
    "3"
   ]
  },
  {
   "cell_type": "code",
   "execution_count": null,
   "metadata": {},
   "outputs": [],
   "source": [
    "_"
   ]
  },
  {
   "cell_type": "code",
   "execution_count": null,
   "metadata": {},
   "outputs": [],
   "source": [
    "class A:\n",
    "    __x = 1\n",
    "\n",
    "dir(A)\n",
    "#맹글링, 내부적으로 이름을 바꿔준다. => 쉽게 변수를 감추고 싶을 때 (간단한 접근 제한자)\n",
    "A._A__x"
   ]
  },
  {
   "cell_type": "code",
   "execution_count": null,
   "metadata": {},
   "outputs": [],
   "source": []
  },
  {
   "cell_type": "code",
   "execution_count": null,
   "metadata": {},
   "outputs": [],
   "source": [
    "f# magic, special, double underbar = dunder ?"
   ]
  },
  {
   "cell_type": "code",
   "execution_count": null,
   "metadata": {},
   "outputs": [],
   "source": [
    "from functools import singledispatch\n",
    "@singledispatch #한개를 타입에 따라서 전파한다. (multiple dispatch는 파이썬에서 지원하지 않는다. 라이브러리를 이용.)\n",
    "def x(t):\n",
    "\tprint(t)\n",
    "\n",
    "@x.register(int)\n",
    "def _(t):\n",
    "\tprint('int')\n",
    "\n",
    "@x.register(str)\n",
    "def _(t): # 원래는 이름이 같으면 안되지만 가능하게 만듦\n",
    "\tprint('str')"
   ]
  },
  {
   "cell_type": "code",
   "execution_count": null,
   "metadata": {},
   "outputs": [],
   "source": [
    "x(3), x('hi')"
   ]
  },
  {
   "cell_type": "code",
   "execution_count": null,
   "metadata": {},
   "outputs": [],
   "source": [
    "class A:\n",
    "    pass"
   ]
  },
  {
   "cell_type": "code",
   "execution_count": null,
   "metadata": {},
   "outputs": [],
   "source": [
    "# 인스턴스화\n",
    "A()\n",
    "# 괄호를 붙이면 __init__가 실행된다\n",
    "class A:\n",
    "    def __init__(self):\n",
    "        print('A')\n",
    "\n",
    "A()\n",
    "# 파이썬에서 __init__에 return을 넣을 수 없다. "
   ]
  },
  {
   "cell_type": "code",
   "execution_count": null,
   "metadata": {},
   "outputs": [],
   "source": [
    "class A:\n",
    "    def __new__(self):\n",
    "        print('new')\n",
    "    def __init__(self):\n",
    "        print('init')\n",
    "\n",
    "A() # 괄호를 붙이면 init의 값이 나와한ㄷ. 그런데 init가 나왔음. => init보다 new가 먼저 실행된다. "
   ]
  },
  {
   "cell_type": "code",
   "execution_count": null,
   "metadata": {},
   "outputs": [],
   "source": [
    "# __new__의 용법\n",
    "class A:\n",
    "    def __new__(cls):\n",
    "        print('new')\n",
    "        return super().__new__(cls) # return super()를 넣으면 두가지가 모두 생성된다. \n",
    "    def __init__(self):\n",
    "        print('init') # init에는 리턴은 없지만, 내부적으로  super를 이용해서 가능하게 만들 수 있다. \n",
    "\n",
    "A()"
   ]
  },
  {
   "cell_type": "code",
   "execution_count": null,
   "metadata": {},
   "outputs": [],
   "source": [
    "class A(object, metaclass = type) :\n",
    "    pass\n",
    "\n",
    "# A를 상속하는 B\n",
    "class B(A):\n",
    "    pass\n",
    "#말도 안되는건 파이썬에서 생성이 안됨(consistent method resolution)\n",
    "class C(B, A): \n",
    "    pass\n"
   ]
  },
  {
   "cell_type": "code",
   "execution_count": null,
   "metadata": {},
   "outputs": [],
   "source": [
    "c = C()\n",
    "type(c), c.__class__\n",
    "C.__bases__\n",
    "C.__base__ # 부모는 클래스 관점\n",
    "isinstance(c, C) #c는 C의 인스턴스\n",
    "issubclass(C, A) #C는 A의 subclass\n",
    "issubclass(bool, int) #True : bool은 int의 subclass, int를 상속 받은 것. \n"
   ]
  },
  {
   "cell_type": "code",
   "execution_count": null,
   "metadata": {},
   "outputs": [],
   "source": [
    "class A:\n",
    "    def method_from_a(self):\n",
    "        print(\"Method from class A\")\n",
    "\n",
    "class B:\n",
    "    def method_from_b(self):\n",
    "        print(\"Method from class B\")\n",
    "\n",
    "class C(A, B):\n",
    "    pass\n",
    "\n",
    "c = C()\n",
    "c.method_from_a()  # 출력: Method from class A\n",
    "c.method_from_b()  # 출력: Method from class B\n",
    "\n",
    "C.mro()\n",
    "dir(C) #metaclass"
   ]
  },
  {
   "cell_type": "code",
   "execution_count": 60,
   "metadata": {},
   "outputs": [
    {
     "ename": "ModuleNotFoundError",
     "evalue": "No module named 'tensorflow'",
     "output_type": "error",
     "traceback": [
      "\u001b[1;31m---------------------------------------------------------------------------\u001b[0m",
      "\u001b[1;31mModuleNotFoundError\u001b[0m                       Traceback (most recent call last)",
      "Cell \u001b[1;32mIn[60], line 1\u001b[0m\n\u001b[1;32m----> 1\u001b[0m \u001b[39mimport\u001b[39;00m \u001b[39mtensorflow\u001b[39;00m \u001b[39mas\u001b[39;00m \u001b[39mtf\u001b[39;00m\n",
      "\u001b[1;31mModuleNotFoundError\u001b[0m: No module named 'tensorflow'"
     ]
    }
   ],
   "source": [
    "import tensorflow as tf"
   ]
  },
  {
   "cell_type": "code",
   "execution_count": 71,
   "metadata": {},
   "outputs": [
    {
     "data": {
      "text/plain": [
       "(140722743665448, 140722743665448)"
      ]
     },
     "execution_count": 71,
     "metadata": {},
     "output_type": "execute_result"
    }
   ],
   "source": [
    "class A:\n",
    "    x = 1\n",
    "class B(A):\n",
    "    y = 2\n",
    "\n",
    "id(B.x) , id(A.x) # A와 B의 메모리가 같다 => B에 없으면 A에 물어본다 (위임(delgate))"
   ]
  },
  {
   "cell_type": "code",
   "execution_count": 72,
   "metadata": {},
   "outputs": [
    {
     "data": {
      "text/plain": [
       "(140722743665480, 140722743665448)"
      ]
     },
     "execution_count": 72,
     "metadata": {},
     "output_type": "execute_result"
    }
   ],
   "source": [
    "class A:\n",
    "    x = 1\n",
    "class B(A):\n",
    "    x = 2\n",
    "\n",
    "id(B.x) , id(A.x) # A와 B의 메모리가 다르다. B가 x를 다시 지정하면서 override를 했음"
   ]
  },
  {
   "cell_type": "code",
   "execution_count": 76,
   "metadata": {},
   "outputs": [
    {
     "name": "stdout",
     "output_type": "stream",
     "text": [
      "xx\n",
      "xx\n",
      "yy\n"
     ]
    },
    {
     "data": {
      "text/plain": [
       "(None, None)"
      ]
     },
     "execution_count": 76,
     "metadata": {},
     "output_type": "execute_result"
    }
   ],
   "source": [
    "## 일부변경과 완전 변경\n",
    "class A:\n",
    "    def xx(self):\n",
    "        print(\"xx\")\n",
    "\n",
    "#B에서는 yy도 출력하고 싶다. \n",
    "# (1) override => 비효율 적이다\n",
    "# \n",
    "class B(A):\n",
    "    def xx(self):\n",
    "        A.xx(self)\n",
    "        print('yy')\n",
    "\n",
    "A.xx(a), B.xx(a)"
   ]
  },
  {
   "cell_type": "code",
   "execution_count": 89,
   "metadata": {},
   "outputs": [
    {
     "name": "stdout",
     "output_type": "stream",
     "text": [
      "A\n",
      "B\n",
      "A\n",
      "C\n",
      "D\n"
     ]
    },
    {
     "data": {
      "text/plain": [
       "[__main__.D, __main__.B, __main__.C, __main__.A, object]"
      ]
     },
     "execution_count": 89,
     "metadata": {},
     "output_type": "execute_result"
    }
   ],
   "source": [
    "# (2)\n",
    "class A:\n",
    "    def __init__(self):\n",
    "        print('A')\n",
    "\n",
    "class B(A):\n",
    "    def __init__(self):\n",
    "        A.__init__(self)\n",
    "        print('B')\n",
    "\n",
    "\n",
    "class C(A):\n",
    "    def __init__(self):\n",
    "        A.__init__(self)\n",
    "        print('C')\n",
    "\n",
    "#다중상속\n",
    "class D(B,C):\n",
    "    def __init__(self):\n",
    "        B.__init__(self)\n",
    "        C.__init__(self)\n",
    "        print('D')\n",
    "\n",
    "D()\n",
    "D.mro()"
   ]
  },
  {
   "cell_type": "code",
   "execution_count": 90,
   "metadata": {},
   "outputs": [
    {
     "name": "stdout",
     "output_type": "stream",
     "text": [
      "A\n",
      "C\n",
      "B\n",
      "D\n",
      "<__main__.D object at 0x000001FE1D227710>\n"
     ]
    },
    {
     "data": {
      "text/plain": [
       "[__main__.D, __main__.B, __main__.C, __main__.A, object]"
      ]
     },
     "execution_count": 90,
     "metadata": {},
     "output_type": "execute_result"
    }
   ],
   "source": [
    "# super를 제공해준다.\n",
    "class A:\n",
    "    def __init__(self):\n",
    "        print('A')\n",
    "\n",
    "class B(A):\n",
    "    def __init__(self):\n",
    "        super(B, self).__init__() #super()로 생략해서 사용 가능하다. 항상 B, self는 똑같으므로\n",
    "        print('B')\n",
    "\n",
    "class C(A):\n",
    "    def __init__(self):\n",
    "        super(C, self).__init__()\n",
    "        print('C')\n",
    "\n",
    "#다중상속\n",
    "class D(B,C):\n",
    "    def __init__(self):\n",
    "        super(D, self).__init__() # super에서는 메서드의 중복을 제거해준다. 앞에 나온걸 제거\n",
    "        print('D')\n",
    "d= D()\n",
    "print(d) \n",
    "D.mro()\n",
    "\n",
    "# super -> 다중 상속에서 중복을 제거해서 실행시켜줄 수 있다. \n"
   ]
  },
  {
   "cell_type": "markdown",
   "metadata": {},
   "source": []
  }
 ],
 "metadata": {
  "kernelspec": {
   "display_name": "Python 3",
   "language": "python",
   "name": "python3"
  },
  "language_info": {
   "codemirror_mode": {
    "name": "ipython",
    "version": 3
   },
   "file_extension": ".py",
   "mimetype": "text/x-python",
   "name": "python",
   "nbconvert_exporter": "python",
   "pygments_lexer": "ipython3",
   "version": "3.11.1"
  },
  "orig_nbformat": 4
 },
 "nbformat": 4,
 "nbformat_minor": 2
}
