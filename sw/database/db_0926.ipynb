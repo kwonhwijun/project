{
 "cells": [
  {
   "cell_type": "code",
   "execution_count": null,
   "id": "33c76399",
   "metadata": {},
   "outputs": [],
   "source": [
    "# 어제 우리는...\n",
    "\n",
    "DHTML <- AJAX <= JS XHR\n",
    "\n",
    "1. 다이나믹 HTML에서 data를 어디서, 어떻게 가져올 것인가\n",
    "- 브라우저 network history에서 (XHR/JS)가 사용된 부분을 찾는 연습(API,)\n",
    "\n",
    "2. 로그인: server 기능\n",
    "- 서버가 내 정보를 기억하고 있다가, 재방문시 나임을 식별하는 서비스\n",
    "- 임시로 기억해야 하는 주체에 따라 (1)쿠키 (2)세션\n",
    "\n",
    "3. 쿠키\n",
    "- '''name=value'''; 도메인, path, 시간... ...\n",
    "- request headers['Cookies']항목 -> 서버로 전달될 쿠키\n",
    "- Response Headers['Set-cookie'] -> 서버 쿠키를 클라이언트에 기록\n",
    "- 로그인 -> 쿠키 생성(예제), 이미 로그인된 쿠키 활용(예제, LMS)"
   ]
  },
  {
   "cell_type": "code",
   "execution_count": null,
   "id": "0a5c9c80",
   "metadata": {},
   "outputs": [],
   "source": [
    "# 오늘 할 것\n",
    "\n",
    "1. 네이버 로그인\n",
    "2. SNS 로그인(meta-인스타그램)"
   ]
  },
  {
   "cell_type": "markdown",
   "id": "fad7ffa9",
   "metadata": {},
   "source": [
    "# 네이버"
   ]
  },
  {
   "cell_type": "code",
   "execution_count": null,
   "id": "c6a76103",
   "metadata": {},
   "outputs": [],
   "source": [
    "from requests import request, get, post\n",
    "from requests.sessions import Session\n",
    "from requests.compat import *"
   ]
  },
  {
   "cell_type": "code",
   "execution_count": null,
   "id": "fedbdee2",
   "metadata": {},
   "outputs": [],
   "source": [
    "# get으로 네이버 방문\n",
    "\n",
    "get('https://www.naver.com').text\n",
    "\n",
    "# \"https://nid.naver.com/nidlogin.login\" 로그인창"
   ]
  },
  {
   "cell_type": "code",
   "execution_count": null,
   "id": "781d9e36",
   "metadata": {},
   "outputs": [],
   "source": [
    "# form 확인\n",
    "\n",
    "from bs4 import BeautifulSoup\n",
    "\n",
    "dom = BeautifulSoup(get(\"https://nid.naver.com/nidlogin.login\").text, 'lxml')"
   ]
  },
  {
   "cell_type": "code",
   "execution_count": null,
   "id": "65624af9",
   "metadata": {},
   "outputs": [],
   "source": [
    "dom"
   ]
  },
  {
   "cell_type": "code",
   "execution_count": null,
   "id": "6717ff7c",
   "metadata": {},
   "outputs": [],
   "source": [
    "form = dom.select('form')[0]"
   ]
  },
  {
   "cell_type": "code",
   "execution_count": null,
   "id": "deedbd3d",
   "metadata": {},
   "outputs": [],
   "source": [
    "form.attrs"
   ]
  },
  {
   "cell_type": "code",
   "execution_count": null,
   "id": "94524acc",
   "metadata": {},
   "outputs": [],
   "source": [
    "# input 태그\n",
    "\n",
    "form.select('input[name]')"
   ]
  },
  {
   "cell_type": "code",
   "execution_count": null,
   "id": "7bfa6ae0",
   "metadata": {},
   "outputs": [],
   "source": [
    "for tag in form.select('input[name]'):\n",
    "    print(f'{tag.attrs[\"name\"]}={tag.attrs[\"value\"]}')"
   ]
  },
  {
   "cell_type": "code",
   "execution_count": null,
   "id": "3e68efaf",
   "metadata": {},
   "outputs": [],
   "source": [
    "params = {}\n",
    "\n",
    "for tag in form.select('input[name]'):\n",
    "    params[tag.attrs[\"name\"]] = tag.attrs[\"value\"] if tag.has_attr('value') else ''"
   ]
  },
  {
   "cell_type": "code",
   "execution_count": null,
   "id": "1dac2119",
   "metadata": {},
   "outputs": [],
   "source": [
    "params['id'] = 'huijun96'\n",
    "params['pw'] = '96@dugwjd@73'"
   ]
  },
  {
   "cell_type": "code",
   "execution_count": null,
   "id": "9301e7bc",
   "metadata": {},
   "outputs": [],
   "source": [
    "resp = post(form.attrs['action'], params)"
   ]
  },
  {
   "cell_type": "code",
   "execution_count": null,
   "id": "783164b6",
   "metadata": {},
   "outputs": [],
   "source": [
    "params"
   ]
  },
  {
   "cell_type": "code",
   "execution_count": null,
   "id": "3de017d2",
   "metadata": {},
   "outputs": [],
   "source": [
    "# 기존 쿠키값 활용해 로그인\n",
    "\n",
    "c = '''\n",
    "NID_SES\tAAABysT+mH/kOZMYcI4dfUmRhv59yYF8+prsOoxIC/b+JyyA1CQalWFIMWtQ6w/XrkyHVtxWwzHGJ+UfFLfmwrB9fnjx1h9oh44mpiPujcQfEVdLgaMmt1Z5GwbXGoN/XSrfBotQGHw+Xmg213uWgUmLbNeuUODapx3sAWnhTq2pFe5et7cCpJVbC+07R62f/E073jyGCplhpBWkF4rdl3bsEhx4bOsd3xlfiIgNn7ivQdCmXGAQUFbH5uVc3cMzT58wAiyovCtLq89Mmuahrn1digxwsOAnUA4yxdKs+yn/piX/HSNvBeW3MGPP86O/wzjNhrYanRhNHRtvAu5wBG/oLL2wMaWM6hTI4aiU7+zlQDXK7QXUDJa2xAI2go1VBJeK5q794u9PP5jdAYPbYuuNfFwFXf3Yh2c+bbE74qkcEF+YVjeNuhYSTpv7z2O0p1DbR/NuQG3kwWuG8gd4FY38RfwylSbFJydAlnKOIn1yKtrms9jKR2YgI77HZiRUqhQNojXMbEMzy6slhY2zQPBR2i1yv/EQYGNsrO9VcH3MnMOCB9NCk3p3louwDjEYAGJszuIjWON4Lv9LITJTRiCIrBWIkeRcPUmJtVieAr6hnvKF\t.naver.com\t/\t2023-10-26T00:46:19.004Z\t631\t\t\t\t\tMedium\t\n",
    "NMUSER\tYrKmFAEwaqbsaA2qFA2w1HkG1Nk5axMsKxMlFAErFAE/Fon9KxUmaqgsaqRJaqtXKxgZFAnDKogs6xRaaZnla9vs6xRVadUsadUsaqROW9e7EoRpadUsawlGW430DVdq74lR74lC+4kZ74FTWLm/axgmaXF0Mre5pzJZDL9GW430DVdq74lR74lC+4kZ74FTWLm/axgmam==\tmail.naver.com\t/\tSession\t210\t\t\t\t\tMedium\t\n",
    "NID_AUT\t94JV+5c6Xpa+qp4/EXxsfoY5A6nX5xjxVyU5gAwBAb3r0TB2vEZtsmKGyAZUwRq8\t.naver.com\t/\t2024-10-17T00:23:07.082Z\t71\t✓\t\t\t\tMedium\t\n",
    "nid_inf\t-1536222845\t.naver.com\t/\t2023-10-13T00:23:07.082Z\t18\t\t\t\t\tMedium\t\n",
    "recent_card_list\t10269,3456,10267,3578\t.naver.com\t/\t2024-08-08T10:06:23.625Z\t37\t\t\t\t\tMedium\t\n",
    "NV_WETR_LOCATION_RGN_M\t\"MDk0NDAxMDg=\"\t.naver.com\t/\t2024-09-13T02:31:24.363Z\t36\t\t\t\t\tMedium\t\n",
    "NID_JKL\t+GNoXJtdM7jJzWiMLrvar6IYs8vH4rNFZeokRtkkqlk=\t.naver.com\t/\t2024-10-17T00:23:07.082Z\t51\t\t✓\t\t\tMedium\t\n",
    "_ga\tGA1.2.448057907.1681773213\t.naver.com\t/\t2024-05-22T05:26:03.779Z\t29\t\t\t\t\tMedium\t\n",
    "nx_ssl\t2\t.naver.com\t/\t2023-10-07T09:40:01.442Z\t7\t\t\t\t\tMedium\t\n",
    "m_loc\t47afef01e70c35b986fa70a0c0afee70890951ae95669b0f1aacd1d48f8e873c\t.naver.com\t/\t2024-06-07T05:51:34.940Z\t69\t\t\t\t\tMedium\t\n",
    "NV_WETR_LAST_ACCESS_RGN_M\t\"MDk0NDAxMDg=\"\t.naver.com\t/\t2024-09-13T02:31:24.363Z\t39\t\t\t\t\tMedium\t\n",
    "NNB\tJH2ECBSTIUUGI\t.naver.com\t/\t2024-10-30T00:46:18.649Z\t16\t\t✓\tNone\t\tMedium\t\n",
    "ASID\t77c0caeb000001874\n",
    "'''\n",
    "\n",
    "nc = dict()\n",
    "\n",
    "for l in c.splitlines()[1:]:\n",
    "    nc[l.split()[0]] = l.split()[1]"
   ]
  },
  {
   "cell_type": "code",
   "execution_count": null,
   "id": "a79e9f32",
   "metadata": {},
   "outputs": [],
   "source": [
    "nc.keys()\n",
    "\n",
    "# NID가 있어야함"
   ]
  },
  {
   "cell_type": "code",
   "execution_count": null,
   "id": "9661de92",
   "metadata": {
    "collapsed": true
   },
   "outputs": [],
   "source": [
    "get('https://mail.naver.com').text\n",
    "\n",
    "# <title>네이버 : 로그인</title> 로그인 하라고 뜸"
   ]
  },
  {
   "cell_type": "code",
   "execution_count": null,
   "id": "d935809a",
   "metadata": {},
   "outputs": [],
   "source": [
    "# 메일 접속\n",
    "url = 'https://mail.naver.com'\n",
    "get('https://mail.naver.com', cookies = nc).text"
   ]
  },
  {
   "cell_type": "code",
   "execution_count": null,
   "id": "fba7f63a",
   "metadata": {},
   "outputs": [],
   "source": [
    "resp = post(url, params , cookies = nc)\n",
    "resp.request.url"
   ]
  },
  {
   "cell_type": "code",
   "execution_count": null,
   "id": "f5d5ddd6",
   "metadata": {},
   "outputs": [],
   "source": [
    "resp.json()['mailData']"
   ]
  },
  {
   "cell_type": "code",
   "execution_count": null,
   "id": "f911e194",
   "metadata": {},
   "outputs": [],
   "source": [
    "for mail in resp.json()['mailData']:\n",
    "    print(mail['subject'])"
   ]
  },
  {
   "cell_type": "code",
   "execution_count": null,
   "id": "07a5af84",
   "metadata": {},
   "outputs": [],
   "source": [
    "f"
   ]
  },
  {
   "cell_type": "markdown",
   "id": "7aa7dea6",
   "metadata": {},
   "source": [
    "### LMS"
   ]
  },
  {
   "cell_type": "code",
   "execution_count": null,
   "id": "c875b81f",
   "metadata": {},
   "outputs": [],
   "source": [
    "# LMS 쿠키\n",
    "\n",
    "cookies = '''\n",
    "remember_token\t1996-07-03|303bdc8ac4d8331554acba93a67dd258b2847e29231bb5daf7c9dd18b45a980a3ca5fc64707c946f7a67d8d53d37e8eaf72cf46e3f52608eb55d139afe0fea89\tlms.sunde41.net\t/\t2024-09-03T00:06:50.215Z\t153\t✓\t\t\t\tMedium\t\n",
    "session\teyJfZnJlc2giOmZhbH\n",
    "'''\n",
    "\n",
    "LMS = {}\n",
    "for l in cookies.splitlines()[1:]:\n",
    "   LMS[l.split()[0]] = l.split()[1]"
   ]
  },
  {
   "cell_type": "code",
   "execution_count": 35,
   "id": "e17f18a5",
   "metadata": {},
   "outputs": [
    {
     "data": {
      "text/plain": [
       "<!DOCTYPE html>\n",
       "<html lang=\"ko\">\n",
       "<head>\n",
       "<title> 질문과 답변 (09월 18일 (월) 오전수업 코드 올려주세요!) : 고려대학교 지능정보SW아카데미</title>\n",
       "<meta charset=\"utf-8\"/>\n",
       "<meta content=\"IE=edge,chrome=1\" http-equiv=\"X-UA-Compatible\"/>\n",
       "<meta content=\"width=device-width, initial-scale=1, maximum-scale=1, shrink-to-fit=no\" name=\"viewport\"/>\n",
       "<meta content=\"noindex,nofollow\" name=\"robots\"/>\n",
       "<link href=\"/static/vendors/bootstrap.css?v=1.4\" rel=\"stylesheet\"/>\n",
       "<link href=\"/static/vendors/main.css?v=1.8\" rel=\"stylesheet\"/>\n",
       "<link href=\"/static/vendors/icon.css?v=1.0\" rel=\"stylesheet\"/>\n",
       "<link href=\"/static/vendors/form.css?v=1.0\" rel=\"stylesheet\"/>\n",
       "<link href=\"/static/vendors/style.css?v=2.10\" rel=\"stylesheet\"/>\n",
       "<script src=\"/static/vendors/ckeditor/ckeditor.js\"></script>\n",
       "<link href=\"/static/favicon/favicon.ico\" rel=\"shortcut icon\" type=\"image/x-icon\"/>\n",
       "<link href=\"/static/favicon/favicon.ico\" rel=\"icon\" type=\"image/x-icon\"/>\n",
       "</head>\n",
       "<body class=\"m-page--fluid m-content--skin-light2 m-header--fixed m-header--fixed-mobile m-aside-left--enabled m-aside-left--skin-dark m-aside-left--fixed m-aside-left--offcanvas m-footer--push m-aside--offcanvas-default\">\n",
       "<div class=\"m-grid m-grid--hor m-grid--root m-page\">\n",
       "<header class=\"m-grid__item m-header\" id=\"m_header\" m-minimize-mobile-offset=\"200\" m-minimize-offset=\"200\">\n",
       "<div class=\"m-container m-container--fluid m-container--full-height\">\n",
       "<div class=\"m-stack m-stack--ver m-stack--desktop\">\n",
       "<div class=\"m-stack__item m-brand m-brand--skin-dark\">\n",
       "<div class=\"m-stack m-stack--ver m-stack--general\">\n",
       "<div class=\"m-stack__item m-stack__item--middle m-brand__logo\">\n",
       "<img alt=\"\" src=\"/static/img/logo.png\" style=\"width:195px;height:50px;\"/>\n",
       "</div>\n",
       "<div class=\"m-stack__item m-stack__item--middle m-brand__tools\">\n",
       "<a class=\"m-brand__icon m-brand__toggler m-brand__toggler--left m--visible-desktop-inline-block m-brand__toggler--active\" href=\"javascript:;\" id=\"m_aside_left_minimize_toggle\">\n",
       "<span></span>\n",
       "</a>\n",
       "<a class=\"m-brand__icon m-brand__toggler m-brand__toggler--left m--visible-tablet-and-mobile-inline-block\" href=\"javascript:;\" id=\"m_aside_left_offcanvas_toggle\">\n",
       "<span></span>\n",
       "</a>\n",
       "<a class=\"m-brand__icon m--visible-tablet-and-mobile-inline-block\" href=\"javascript:;\" id=\"m_aside_header_topbar_mobile_toggle\">\n",
       "<i class=\"flaticon-more\"></i>\n",
       "</a>\n",
       "</div>\n",
       "</div>\n",
       "</div>\n",
       "<div class=\"m-stack__item m-stack__item--fluid m-header-head\" id=\"m_header_nav\">\n",
       "<div class=\"m-header-menu m-aside-header-menu-mobile m-aside-header-menu-mobile--offcanvas m-header-menu--skin-light m-header-menu--submenu-skin-light m-aside-header-menu-mobile--skin-dark m-aside-header-menu-mobile--submenu-skin-dark\" id=\"m_header_menu\">\n",
       "<div class=\"m-subheader\" style=\"padding: 15px 30px 0 30px;\">\n",
       "<ul class=\"m-subheader__breadcrumbs m-nav m-nav--inline\">\n",
       "<li class=\"m-nav__item m-nav__item--home\"><i class=\"m-nav__link-icon fa fa-home\"></i></li>\n",
       "<li class=\"m-nav__separator\"><i class=\"m-menu__ver-arrow la la-angle-right\"></i> </li>\n",
       "<h3 class=\"m-subheader__title m-subheader__title--separator\">\n",
       "\t\t\t\t\t\t\t질문과 답변\n",
       "\t\t\t\t\t\t</h3>\n",
       "</ul>\n",
       "</div>\n",
       "</div>\n",
       "<div class=\"m-topbar m-stack m-stack--ver m-stack--general m-stack--fluid\" id=\"m_header_topbar\">\n",
       "<div class=\"m-stack__item m-topbar__nav-wrapper\">\n",
       "<ul class=\"m-topbar__nav m-nav m-nav--inline\">\n",
       "<a class=\"m-brand__icon m-brand__toggler m-brand__toggler--left m--visible-desktop-inline-block m-brand__toggler--active\" href=\"javascript:;\" id=\"m_aside_left_minimize_toggle\"><span></span></a>\n",
       "<li class=\"m-nav__item\">\n",
       "<a class=\"m-nav__link m-dropdown__toggle\" href=\"#\" onclick=\"toggleFullScreen();\">\n",
       "<span class=\"m-nav__link-icon\"><i class=\"flaticon-arrows\"></i></span></a>\n",
       "</li>\n",
       "<li class=\"m-nav__item m-topbar__user-profile m-topbar__user-profile--img\">\n",
       "<a href=\"/dashboard/mypage\">\n",
       "<span class=\"m-topbar__userpic\">\n",
       "<img class=\"user_pic_top\" onerror=\"if (this.src != '/static/img/default_avatar.jpeg') this.src = '/static/img/default_avatar.jpeg';\" src=\"/static/uploads/avatars/avatar_452.png\"/>\n",
       "</span>\n",
       "</a>\n",
       "</li>\n",
       "<li class=\"m-nav__item m-list-search m-list-search--skin-light\">\n",
       "<a class=\"m-nav__link\" href=\"/auth/logout\">\n",
       "<span class=\"m-nav__link-icon\"><i class=\"flaticon-logout\"></i></span>\n",
       "</a>\n",
       "</li>\n",
       "</ul>\n",
       "</div>\n",
       "</div>\n",
       "</div>\n",
       "</div>\n",
       "</div>\n",
       "</header>\n",
       "<div class=\"m-grid__item m-grid__item--fluid m-grid m-grid--ver-desktop m-grid--desktop m-body\">\n",
       "<div class=\"m-grid__item m-aside-left m-aside-left--skin-dark\" id=\"m_aside_left\"><div class=\"m-aside-menu m-aside-menu--skin-dark m-aside-menu--submenu-skin-dark\" id=\"m_ver_menu\" m-menu-dropdown-timeout=\"500\" m-menu-scrollable=\"1\" m-menu-vertical=\"1\">\n",
       "<ul class=\"m-menu__nav\">\n",
       "<li aria-haspopup=\"true\" class=\"m-menu__item\"><a class=\"m-menu__link\" href=\"/dashboard\"><span class=\"m-menu__item-here\"></span><i class=\"m-menu__link-icon flaticon-home-1\"></i><span class=\"m-menu__link-text\">대시 보드</span></a></li>\n",
       "<li aria-haspopup=\"true\" class=\"m-menu__item\"><a class=\"m-menu__link\" href=\"/dashboard/faq\"><span class=\"m-menu__item-here\"></span><i class=\"m-menu__link-icon flaticon-interface-3\"></i><span class=\"m-menu__link-text\">규정</span></a></li>\n",
       "<li aria-haspopup=\"true\" class=\"m-menu__item m-menu__item--submenu m-menu__item--open m-menu__item--open m-menu__item--expanded\" m-menu-submenu-toggle=\"hover\"><a class=\"m-menu__link m-menu__toggle\" href=\"javascript:;\"><span class=\"m-menu__item-here\"></span><i class=\"m-menu__link-icon flaticon-presentation\"></i>\n",
       "<span class=\"m-menu__link-title\">\n",
       "<span class=\"m-menu__link-wrap\">\n",
       "<span class=\"m-menu__link-text\" style=\"font-weight:700;\">지능정보SW아카데미 3기\n",
       "                            </span>\n",
       "</span>\n",
       "</span>\n",
       "<i class=\"m-menu__ver-arrow la la-angle-right\"></i></a>\n",
       "<div class=\"m-menu__submenu\"><span class=\"m-menu__arrow\"></span>\n",
       "<ul class=\"m-menu__subnav\">\n",
       "<li aria-haspopup=\"true\" class=\"m-menu__item\"><a class=\"m-menu__link\" href=\"/course/5\">\n",
       "<i class=\"m-menu__link-bullet m-menu__link-bullet--line\"><span></span></i><span class=\"m-menu__link-text\">수업 게시판</span></a></li>\n",
       "<li aria-haspopup=\"true\" class=\"m-menu__item\"><a class=\"m-menu__link\" href=\"/course/assignment/list/5\"><i class=\"m-menu__link-bullet m-menu__link-bullet--line\"><span></span></i><span class=\"m-menu__link-text\">과제/제출 게시판</span>\n",
       "</a></li>\n",
       "<li aria-haspopup=\"true\" class=\"m-menu__item m-menu__item--active\"><a class=\"m-menu__link\" href=\"/qna/list/course/5\"><i class=\"m-menu__link-bullet m-menu__link-bullet--line\"><span></span></i><span class=\"m-menu__link-text\">질문/신청 게시판</span>\n",
       "<span class=\"m-badge m-badge--orange strong float-right\" style=\"margin-top:10px;\">\n",
       "                                                new</span>\n",
       "</a></li>\n",
       "</ul>\n",
       "</div>\n",
       "</li>\n",
       "<li aria-haspopup=\"true\" class=\"m-menu__item\"><a class=\"m-menu__link\" href=\"/dashboard/mypage\"><span class=\"m-menu__item-here\"></span><i class=\"m-menu__link-icon flaticon-customer\"></i><span class=\"m-menu__link-text\">나의 정보 / 출석 확인</span></a></li>\n",
       "</ul>\n",
       "</div></div>\n",
       "<div class=\"m-grid__item m-grid__item--fluid m-wrapper\">\n",
       "<div class=\"m-content\">\n",
       "<div class=\"row\">\n",
       "<div class=\"col-xl-6 col-sm-12\">\n",
       "<div class=\"m-portlet m-portlet--full-height\" m-portlet=\"true\">\n",
       "<div class=\"m-portlet__head\">\n",
       "<div class=\"m-portlet__head-caption\">\n",
       "<div class=\"m-portlet__head-title\">\n",
       "<span class=\"m-portlet__head-icon\">\n",
       "<i class=\"flaticon-questions-circular-button\"></i>\n",
       "</span>\n",
       "<h3 class=\"m-portlet__head-text\">\n",
       "                       09월 18일 (월) 오전수업 코드 올려주세요!\n",
       "                    </h3>\n",
       "</div>\n",
       "</div>\n",
       "<div class=\"m-portlet__head-tools\">\n",
       "<a class=\"btn btn-sm m-btn--pill btn-info m--margin-left-10 text-white font-weight-bold\" href=\"/qna/edit/63\">질문 수정하기</a>\n",
       "<div class=\"nav-item m-tabs__item\" style=\"margin-left:10px;\">\n",
       "<a class=\"btn btn-success btn-sm m-btn m-btn--icon m-btn--icon-only m-btn--custom m-btn--pill\" href=\"#\" m-portlet-tool=\"fullscreen\"><i class=\"la la-expand\"></i></a>\n",
       "</div>\n",
       "</div>\n",
       "</div>\n",
       "<div class=\"m-portlet__body zoom\">\n",
       "<div class=\"m-section__content box-padding20\">\n",
       "<p>09월 18일 (월) 오전수업 코드가 업로드 되어 있지 않은데, 올려주시면 감사하겠습니다!</p>\n",
       "</div>\n",
       "</div>\n",
       "</div>\n",
       "</div>\n",
       "<div class=\"col-xl-6 col-sm-12\">\n",
       "<div class=\"m-portlet m-portlet--full-height\" m-portlet=\"true\">\n",
       "<div class=\"m-portlet__head\">\n",
       "<div class=\"m-portlet__head-caption\">\n",
       "<div class=\"m-portlet__head-title\">\n",
       "<span class=\"m-portlet__head-icon\">\n",
       "<i class=\"flaticon-comment\"></i>\n",
       "</span>\n",
       "<h3 class=\"m-portlet__head-text\">\n",
       "\t\t\t답변\n",
       "\t\t    </h3>\n",
       "</div>\n",
       "</div>\n",
       "<div class=\"m-portlet__head-tools\">\n",
       "<div class=\"nav-item m-tabs__item\" style=\"margin-left:10px;\">\n",
       "<a class=\"btn btn-success btn-sm m-btn m-btn--icon m-btn--icon-only m-btn--custom m-btn--pill\" href=\"#\" m-portlet-tool=\"fullscreen\"><i class=\"la la-expand\"></i></a>\n",
       "</div>\n",
       "</div>\n",
       "</div>\n",
       "<div class=\"m-portlet__body zoom\">\n",
       "<div class=\"m-section__content box-padding10\">\n",
       "<table class=\"table table-no-bordered\">\n",
       "<thead>\n",
       "<tr></tr>\n",
       "</thead>\n",
       "<tbody>\n",
       "<tr>\n",
       "<td><i class=\"fa fa-clock text-info\"></i> <span class=\"flask-moment\" data-function=\"calendar\" data-refresh=\"60000\" data-timestamp=\"2023-09-26T01:03:06Z\" style=\"display: none\">2023-09-26T01:03:06Z</span>\n",
       "</td>\n",
       "<td>\n",
       "</td>\n",
       "</tr>\n",
       "<tr>\n",
       "<td colspan=\"2\">\n",
       "\t\t\t\t꺄아아ㅏ아아아아아\n",
       "\t\t\t    </td>\n",
       "</tr>\n",
       "</tbody>\n",
       "</table>\n",
       "</div>\n",
       "<div class=\"m-section__content box-padding10\">\n",
       "<table class=\"table table-no-bordered\">\n",
       "<thead>\n",
       "<tr></tr>\n",
       "</thead>\n",
       "<tbody>\n",
       "<tr>\n",
       "<td><i class=\"fa fa-clock text-info\"></i> <span class=\"flask-moment\" data-function=\"calendar\" data-refresh=\"60000\" data-timestamp=\"2023-09-26T01:03:31Z\" style=\"display: none\">2023-09-26T01:03:31Z</span>\n",
       "</td>\n",
       "<td>\n",
       "</td>\n",
       "</tr>\n",
       "<tr>\n",
       "<td colspan=\"2\">\n",
       "<p>ㄹㄹㄹㄹㄹ</p>\n",
       "</td>\n",
       "</tr>\n",
       "</tbody>\n",
       "</table>\n",
       "</div>\n",
       "<div class=\"m-section__content box-padding10\">\n",
       "<table class=\"table table-no-bordered\">\n",
       "<thead>\n",
       "<tr></tr>\n",
       "</thead>\n",
       "<tbody>\n",
       "<tr>\n",
       "<td><i class=\"fa fa-clock text-info\"></i> <span class=\"flask-moment\" data-function=\"calendar\" data-refresh=\"60000\" data-timestamp=\"2023-09-26T01:07:46Z\" style=\"display: none\">2023-09-26T01:07:46Z</span>\n",
       "</td>\n",
       "<td>\n",
       "</td>\n",
       "</tr>\n",
       "<tr>\n",
       "<td colspan=\"2\">\n",
       "\t\t\t\t연습용 답변\n",
       "\t\t\t    </td>\n",
       "</tr>\n",
       "</tbody>\n",
       "</table>\n",
       "</div>\n",
       "<div class=\"m-section__content box-padding10\">\n",
       "<table class=\"table table-no-bordered\">\n",
       "<thead>\n",
       "<tr></tr>\n",
       "</thead>\n",
       "<tbody>\n",
       "<tr>\n",
       "<td><i class=\"fa fa-clock text-info\"></i> <span class=\"flask-moment\" data-function=\"calendar\" data-refresh=\"60000\" data-timestamp=\"2023-09-26T01:15:50Z\" style=\"display: none\">2023-09-26T01:15:50Z</span>\n",
       "</td>\n",
       "<td>\n",
       "<a class=\"btn btn-danger m-btn m-btn--icon btn-sm m-btn--icon-only m-btn--pill deleteComment\" href=\"/qna/detail/63/comments/delete/77\" style=\"float: right;\"><i class=\"fa fa-times\"></i></a>\n",
       "<button class=\"btn btn-success m-btn m-btn--icon btn-sm m-btn--icon-only m-btn--pill modifyComment\" style=\"float: right; margin-right: 3px;\"><i class=\"fa fa-pencil-alt\"></i></button>\n",
       "<form action=\"/qna/detail/63/comments/edit/77\" class=\"comment-modification\" method=\"post\">\n",
       "</form>\n",
       "</td>\n",
       "</tr>\n",
       "<tr>\n",
       "<td colspan=\"2\">\n",
       "\t\t\t\t류기곤 답변\n",
       "\t\t\t    </td>\n",
       "</tr>\n",
       "</tbody>\n",
       "</table>\n",
       "</div>\n",
       "<div class=\"m-section__content box-padding10\">\n",
       "<table class=\"table table-no-bordered\">\n",
       "<thead>\n",
       "<tr></tr>\n",
       "</thead>\n",
       "<tbody>\n",
       "<tr>\n",
       "<td><i class=\"fa fa-clock text-info\"></i> <span class=\"flask-moment\" data-function=\"calendar\" data-refresh=\"60000\" data-timestamp=\"2023-09-26T01:16:59Z\" style=\"display: none\">2023-09-26T01:16:59Z</span>\n",
       "</td>\n",
       "<td>\n",
       "</td>\n",
       "</tr>\n",
       "<tr>\n",
       "<td colspan=\"2\">\n",
       "<p>ddd</p>\n",
       "</td>\n",
       "</tr>\n",
       "</tbody>\n",
       "</table>\n",
       "</div>\n",
       "<form action=\"/qna/detail/63\" class=\"comment_form\" method=\"post\">\n",
       "<div id=\"comment_editor\">\n",
       "<textarea class=\"ckeditor\" id=\"description\" name=\"description\" required=\"\">\n",
       "</textarea>\n",
       "</div>\n",
       "<button class=\"btn btn-primary\" type=\"submit\">답변\n",
       "\t\t</button>\n",
       "</form>\n",
       "</div>\n",
       "</div>\n",
       "</div>\n",
       "</div>\n",
       "</div>\n",
       "</div>\n",
       "</div>\n",
       "</div>\n",
       "<div class=\"m-scroll-top\" id=\"m_scroll_top\">\n",
       "<i class=\"la la-arrow-up\"></i>\n",
       "</div>\n",
       "<script src=\"https://ajax.googleapis.com/ajax/libs/jquery/3.3.1/jquery.min.js\"></script>\n",
       "<script>\n",
       "    if (!window.jQuery) {\n",
       "        document.write('<script src=/static/vendors/jquery.js><\\/script>');\n",
       "    }\n",
       "</script>\n",
       "<script crossorigin=\"anonymous\" integrity=\"sha384-wHAiFfRlMFy6i5SRaxvfOCifBUQy1xHdJ/yoi7FRNXMRBu5WHdZYu1hA6ZOblgut\" src=\"https://cdnjs.cloudflare.com/ajax/libs/popper.js/1.14.6/umd/popper.min.js\"></script>\n",
       "<script crossorigin=\"anonymous\" src=\"https://stackpath.bootstrapcdn.com/bootstrap/4.1.3/js/bootstrap.min.js\"></script>\n",
       "<script src=\"/static/vendors/basic.js?v=1.7\"></script><script src=\"/static/vendors/scripts.bundle.js?v=1.3\"></script>\n",
       "<script>\n",
       "\twindow.addEventListener('load', function () {\n",
       "\t\tLightense('.zoom img');\n",
       "\t}, false);\n",
       "</script>\n",
       "<script>\n",
       "    $('.modifyComment').on('click', function () {\n",
       "        $('.comment_form').addClass('display-none');\n",
       "        $('.modi_form').remove();\n",
       "        $('#cke' + '_coms').remove();\n",
       "        var textArea = $('<div class=\"media-body modi_form\"><hr style=\"margin-top:0\"><textArea id=\"coms\"/><button class=\"btn btn-primary comment-modi\">수정</button>&nbsp;<button class=\"btn btn-primary comment-cancle\">취소</button><hr style=\"margin-bottom:20px\"></div>');\n",
       "        var next = $(this).closest(\".m-section__content\");\n",
       "        var test = $(next).find(\".mod-des\");\n",
       "        test.addClass('modification');\n",
       "        textArea.insertAfter(next);\n",
       "        window.modi = next\n",
       "        window.editor = CKEDITOR.replace(\"coms\", {\n",
       "            customConfig: '/static/ckeditor/config.js',\n",
       "        });\n",
       "        window.editor.setData(test.html());\n",
       "    });\n",
       "    $(document).on('click', '.comment-modi', function () {\n",
       "        var field = '<input type=\"hidden\" name=\"description\" value=\"' + window.editor.getData() + '\"/>';\n",
       "        var test = $(window.modi).find('.comment-modification');\n",
       "        test.append(field).submit();\n",
       "    });\n",
       "    $(document).ready(function () {\n",
       "       $(\".zoom img\").css(\"cssText\", \"width:100% !important; height:auto !important;\");\n",
       "    });\n",
       "\n",
       "</script>\n",
       "</body>\n",
       "</html>"
      ]
     },
     "execution_count": 35,
     "metadata": {},
     "output_type": "execute_result"
    }
   ],
   "source": [
    "url = 'https://lms.sunde41.net/qna/detail/63'\n",
    "resp = get(url, cookies = LMS)\n",
    "dom = BeautifulSoup(resp.text, 'lxml')\n",
    "dom"
   ]
  },
  {
   "cell_type": "code",
   "execution_count": null,
   "id": "c6a06cd8",
   "metadata": {},
   "outputs": [],
   "source": [
    "params = {\n",
    "    'description' : '류기곤 답변'\n",
    "}\n",
    "\n",
    "post(url, params, cookies = LMS)"
   ]
  },
  {
   "cell_type": "code",
   "execution_count": 26,
   "id": "13703c19",
   "metadata": {},
   "outputs": [],
   "source": [
    "url_q = 'https://lms.sunde41.net/qna/new/5'\n",
    "\n",
    "resp = get(url_q, cookies = LMS)\n",
    "dom = BeautifulSoup(resp.text, 'lxml')\n"
   ]
  },
  {
   "cell_type": "code",
   "execution_count": 29,
   "id": "8c25b548",
   "metadata": {},
   "outputs": [
    {
     "data": {
      "text/plain": [
       "[<input class=\"form-control m-input\" id=\"title\" name=\"title\" placeholder=\"질문 제목을 입력하세요\" required=\"\" type=\"text\" value=\"\"/>]"
      ]
     },
     "execution_count": 29,
     "metadata": {},
     "output_type": "execute_result"
    }
   ],
   "source": [
    "dom.select('input')"
   ]
  },
  {
   "cell_type": "code",
   "execution_count": 37,
   "id": "da0ff2cd",
   "metadata": {},
   "outputs": [],
   "source": [
    "params = {\n",
    "    'title' : \"연습 질문\"\n",
    "}"
   ]
  },
  {
   "cell_type": "code",
   "execution_count": 38,
   "id": "c61c7130",
   "metadata": {},
   "outputs": [
    {
     "data": {
      "text/plain": [
       "<Response [200]>"
      ]
     },
     "execution_count": 38,
     "metadata": {},
     "output_type": "execute_result"
    }
   ],
   "source": [
    "post(url_q, params, cookies = LMS)"
   ]
  },
  {
   "cell_type": "markdown",
   "id": "58147a3e",
   "metadata": {},
   "source": [
    "### 인스타그램"
   ]
  },
  {
   "cell_type": "code",
   "execution_count": 74,
   "id": "70ae66bc",
   "metadata": {},
   "outputs": [],
   "source": [
    "sess = Session()"
   ]
  },
  {
   "cell_type": "code",
   "execution_count": 169,
   "id": "54f4bcdb",
   "metadata": {},
   "outputs": [],
   "source": [
    "from datetime import datetime\n",
    "\n",
    "url = 'https://www.instagram.com/api/v1/web/accounts/login/ajax/'\n",
    "\n",
    "params = {\n",
    "    'enc_password' : '',\n",
    "    'optIntoOneTap' : 'false', \n",
    "    'queryParams' : '{}',\n",
    "    'trustuedDeviceRecords' : '{}',\n",
    "    'username' : 'huijun96@korea.ac.kr'\n",
    "}\n",
    "t = int(datetime.now().timestamp())\n",
    "pw = 'inisw230926!'\n",
    "params['enc_password'] = f'#PWD_INSTAGRAM_BROWSER:0{t}:{pw}'\n",
    "\n",
    "resp = sess.post(url, params)"
   ]
  },
  {
   "cell_type": "code",
   "execution_count": 170,
   "id": "4d904a5b",
   "metadata": {},
   "outputs": [
    {
     "data": {
      "text/plain": [
       "(403,\n",
       " {'Content-Type': 'application/json; charset=utf-8', 'Date': 'Tue, 26 Sep 2023 02:37:51 GMT', 'Vary': 'Accept-Language, Cookie', 'Content-Language': 'en', 'Strict-Transport-Security': 'max-age=31536000', 'Cache-Control': 'private, no-cache, no-store, must-revalidate', 'Pragma': 'no-cache', 'Expires': 'Sat, 01 Jan 2000 00:00:00 GMT', 'X-Frame-Options': 'SAMEORIGIN', 'content-security-policy': \"report-uri https://www.instagram.com/security/csp_report/; default-src 'self' https://www.instagram.com; img-src data: blob: https://*.fbcdn.net https://*.instagram.com https://*.cdninstagram.com https://*.facebook.com https://*.fbsbx.com https://*.threads.net https://*.giphy.com; font-src data: https://*.fbcdn.net https://*.instagram.com https://*.cdninstagram.com; media-src 'self' blob: https://www.instagram.com https://*.cdninstagram.com https://*.fbcdn.net; manifest-src 'self' https://www.instagram.com; script-src 'self' https://instagram.com https://www.instagram.com https://*.www.instagram.com https://*.cdninstagram.com wss://www.instagram.com https://*.facebook.com https://*.fbcdn.net https://*.facebook.net 'unsafe-inline' 'unsafe-eval' blob:; style-src 'self' https://*.www.instagram.com https://www.instagram.com 'unsafe-inline'; connect-src 'self' https://instagram.com https://www.instagram.com https://*.www.instagram.com https://graph.instagram.com https://*.graph.instagram.com https://i.instagram.com/graphql_www https://graphql.instagram.com https://*.cdninstagram.com https://api.instagram.com https://i.instagram.com https://*.i.instagram.com https://*.od.instagram.com https://i.threads.net https://*.od.threads.net wss://www.instagram.com wss://edge-chat.instagram.com https://*.facebook.com https://*.fbcdn.net https://*.facebook.net chrome-extension://boadgeojelhgndaghljhdicfkmllpafd blob:; worker-src 'self' blob: https://www.instagram.com; frame-src 'self' https://instagram.com https://www.instagram.com https://*.instagram.com https://staticxx.facebook.com https://www.facebook.com https://web.facebook.com https://connect.facebook.net https://m.facebook.com https://*.fbsbx.com; object-src 'none'; upgrade-insecure-requests\", 'cross-origin-embedder-policy-report-only': 'require-corp;report-to=\"coep\"', 'report-to': '{\"group\": \"coep\", \"max_age\": 86400, \"endpoints\": [{\"url\": \"/security/coep_report/\"}]},{\"group\": \"coop\", \"max_age\": 86400, \"endpoints\": [{\"url\": \"/security/coop_report/\"}]}', 'cross-origin-resource-policy': 'cross-origin', 'origin-trial': 'AuqWincgAuXeuu3KypEMnrrFEJHySaesyJS3EaIH40zvafzrU0Irhb7+5QwZpOqMZrPTjgvFl7Z5jJgy1dNAcQMAAAB6eyJvcmlnaW4iOiJodHRwczovL2luc3RhZ3JhbS5jb206NDQzIiwiZmVhdHVyZSI6IkNyb3NzT3JpZ2luT3BlbmVyUG9saWN5UmVwb3J0aW5nIiwiZXhwaXJ5IjoxNjEzNDExNjYyLCJpc1N1YmRvbWFpbiI6dHJ1ZX0=', 'cross-origin-opener-policy': 'same-origin-allow-popups;report-to=\"coop\"', 'X-Content-Type-Options': 'nosniff', 'X-XSS-Protection': '0', 'x-ig-push-state': 'c2', 'x-ig-cache-control': 'no-cache', 'x-aed': '132', 'Access-Control-Expose-Headers': 'X-IG-Set-WWW-Claim', 'x-ig-request-elapsed-time-ms': '59', 'x-ig-peak-time': '1', 'Retry-After': '1', 'Set-Cookie': 'csrftoken=5yw1KMDDHjuk1JAxZ30WXByHggQl4PFD; Domain=.instagram.com; expires=Tue, 24-Sep-2024 02:37:51 GMT; Max-Age=31449600; Path=/; Secure, mid=ZRJD_wAEAAGEJ1TbHdmccQnL9la7; Domain=.instagram.com; expires=Wed, 30-Oct-2024 02:37:51 GMT; Max-Age=34560000; Path=/; Secure, ig_did=F0790941-B7D2-4DF9-BA19-23DE5CAFAB0D; Domain=.instagram.com; expires=Wed, 25-Sep-2024 02:37:51 GMT; HttpOnly; Max-Age=31536000; Path=/; Secure, ig_nrcb=1; Domain=.instagram.com; expires=Wed, 25-Sep-2024 02:37:51 GMT; Max-Age=31536000; Path=/; Secure', 'x-ig-origin-region': 'cco', 'Alt-Svc': 'h3=\":443\"; ma=86400', 'Connection': 'close', 'Content-Length': '61'},\n",
       " '{\"message\":\"CSRF token missing or incorrect\",\"status\":\"fail\"}')"
      ]
     },
     "execution_count": 170,
     "metadata": {},
     "output_type": "execute_result"
    }
   ],
   "source": [
    "resp.status_code, resp.headers, resp.text"
   ]
  },
  {
   "cell_type": "code",
   "execution_count": 171,
   "id": "d1dab187",
   "metadata": {},
   "outputs": [
    {
     "data": {
      "text/plain": [
       "{'x-csrftoken': 'oKRA7XbR4NuayLIsGPRLfMYQzgfvvSz9'}"
      ]
     },
     "execution_count": 171,
     "metadata": {},
     "output_type": "execute_result"
    }
   ],
   "source": [
    "import re\n",
    "url = 'https://www.instagram.com/'\n",
    "resp = get(url)\n",
    "\n",
    "token = re.search(r'csrf_token\\\\\":\\\\\"(.+?)\\\\\"', resp.text).group(1)\n",
    "\n",
    "{'x-csrftoken' : token}"
   ]
  },
  {
   "cell_type": "code",
   "execution_count": 185,
   "id": "b76171dc",
   "metadata": {},
   "outputs": [],
   "source": [
    "sess.cookies.clear()\n",
    "url = 'https://www.instagram.com/api/v1/web/accounts/login/ajax/'\n",
    "params = {\n",
    "    'enc_password' : '', \n",
    "    'optIntoOneTap' : 'false', \n",
    "    'queryParams' : '{}',\n",
    "    'trustuedDeviceRecords' : '{}',\n",
    "    'username' : 'huijun96@korea.ac.kr'\n",
    "}\n",
    "t = int(datetime.now().timestamp())\n",
    "pw = 'inisw230926!'\n",
    "params['enc_password'] = f'#PWD_INSTAGRAM_BROWSER:0:{t}:{pw}'\n",
    "resp = sess.post(url, params, headers = {'x-csrftoken' : token})"
   ]
  },
  {
   "cell_type": "code",
   "execution_count": 197,
   "id": "2128a601",
   "metadata": {},
   "outputs": [
    {
     "data": {
      "text/plain": [
       "'application/json; charset=utf-8'"
      ]
     },
     "execution_count": 197,
     "metadata": {},
     "output_type": "execute_result"
    }
   ],
   "source": [
    "resp.status_code, resp.headers\n",
    "resp.headers['Content-type']\n"
   ]
  },
  {
   "cell_type": "markdown",
   "id": "03e7234c",
   "metadata": {},
   "source": [
    "### 인스타그램 검색"
   ]
  },
  {
   "cell_type": "code",
   "execution_count": 198,
   "id": "bd4249fa",
   "metadata": {},
   "outputs": [],
   "source": [
    "url = 'https://www.instagram.com/api/graphql'\n"
   ]
  },
  {
   "cell_type": "code",
   "execution_count": null,
   "id": "3a80f488",
   "metadata": {},
   "outputs": [],
   "source": [
    "import json\n",
    "\n",
    "params['variables'] = json.dumps(data)\n",
    "resp = post(url, params, {'x-csrftoken' : sess.cookies.get('csrftoken')})\n",
    "print(resp.text)"
   ]
  },
  {
   "cell_type": "code",
   "execution_count": 202,
   "id": "d5e8f829",
   "metadata": {},
   "outputs": [],
   "source": [
    "url = \"https://www.instagram.com/api/v1/feed/user/katarinabluu/username/?count=12\"\n",
    "resp = sess.get(url ,headers = {'x-csrftoken' : sess.cookies.get('csrftoken')})"
   ]
  },
  {
   "cell_type": "code",
   "execution_count": 209,
   "id": "a4b6e432",
   "metadata": {},
   "outputs": [
    {
     "data": {
      "text/plain": [
       "400"
      ]
     },
     "execution_count": 209,
     "metadata": {},
     "output_type": "execute_result"
    }
   ],
   "source": [
    "resp.status_code # 실패~!"
   ]
  }
 ],
 "metadata": {
  "kernelspec": {
   "display_name": "Python 3 (ipykernel)",
   "language": "python",
   "name": "python3"
  },
  "language_info": {
   "codemirror_mode": {
    "name": "ipython",
    "version": 3
   },
   "file_extension": ".py",
   "mimetype": "text/x-python",
   "name": "python",
   "nbconvert_exporter": "python",
   "pygments_lexer": "ipython3",
   "version": "3.11.1"
  }
 },
 "nbformat": 4,
 "nbformat_minor": 5
}
