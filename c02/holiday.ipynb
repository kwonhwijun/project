{
 "cells": [
  {
   "cell_type": "code",
   "execution_count": 51,
   "metadata": {},
   "outputs": [],
   "source": [
    "import requests\n",
    "\n",
    "url = 'http://apis.data.go.kr/B090041/openapi/service/SpcdeInfoService/getAnniversaryInfo'\n",
    "key = 'ebl8Ut/J2dsO84047u5ZUjBH53zpBM3YTtMLdGH0FkE6Ukn1z8Hy9WN45TvTQ+bdBRQctFDMT7GBZHqttCA8yg=='\n",
    "params ={'serviceKey' : key, 'pageNo' : '1', 'numOfRows' : '100', 'solYear' : '2023' }\n",
    "\n",
    "resp = requests.get(url, params=params)"
   ]
  },
  {
   "cell_type": "code",
   "execution_count": 52,
   "metadata": {},
   "outputs": [
    {
     "name": "stdout",
     "output_type": "stream",
     "text": [
      "   dateKind        dateName isHoliday   locdate seq\n",
      "0        02   2·28 민주운동 기념일         N  20230228   1\n",
      "1        02          납세자의 날         N  20230303   1\n",
      "2        02     3·8민주의거 기념일         N  20230308   1\n",
      "3        02     3·15 의거 기념일         N  20230315   1\n",
      "4        02           상공의 날         N  20230315   2\n",
      "..      ...             ...       ...       ...  ..\n",
      "64       02       아동학대예방의 날         N  20231119   1\n",
      "65       02          소비자의 날         N  20231203   1\n",
      "66       02           무역의 날         N  20231205   1\n",
      "67       02        자원봉사자의 날         N  20231205   2\n",
      "68       02  원자력 안전 및 진흥의 날         N  20231227   1\n",
      "\n",
      "[69 rows x 5 columns]\n"
     ]
    },
    {
     "data": {
      "text/plain": [
       "0     N\n",
       "1     N\n",
       "2     N\n",
       "3     N\n",
       "4     N\n",
       "     ..\n",
       "64    N\n",
       "65    N\n",
       "66    N\n",
       "67    N\n",
       "68    N\n",
       "Name: isHoliday, Length: 69, dtype: object"
      ]
     },
     "execution_count": 52,
     "metadata": {},
     "output_type": "execute_result"
    }
   ],
   "source": [
    "import pandas as pd\n",
    "import xml.etree.ElementTree as ET\n",
    "\n",
    "root = ET.fromstring(resp.content)\n",
    "\n",
    "# item 태그에서 데이터 추출\n",
    "items_list = []\n",
    "for item in root.findall(\".//item\"):\n",
    "    items_dict = {}\n",
    "    for child in item:\n",
    "        items_dict[child.tag] = child.text\n",
    "    items_list.append(items_dict)\n",
    "\n",
    "# pandas DataFrame으로 변환\n",
    "df = pd.DataFrame(items_list)\n",
    "\n",
    "print(df)\n",
    "df[\"isHoliday\"]\n",
    "\n",
    "\n",
    "\n"
   ]
  },
  {
   "cell_type": "code",
   "execution_count": 54,
   "metadata": {},
   "outputs": [],
   "source": [
    "import requests\n",
    "\n",
    "url = 'http://apis.data.go.kr/B090041/openapi/service/SpcdeInfoService/getAnniversaryInfo'\n",
    "params ={\n",
    "    'ServiceKey' : 'ebl8Ut/J2dsO84047u5ZUjBH53zpBM3YTtMLdGH0FkE6Ukn1z8Hy9WN45TvTQ+bdBRQctFDMT7GBZHqttCA8yg==',\n",
    "    'pageNO' : '1',\n",
    "    'numOfRow' : '10',\n",
    "    'solYear' : '2019',\n",
    "    'solMonth' : '10'\n",
    "\n",
    "}\n",
    "\n",
    "resp = requests.get(url, params = params)\n"
   ]
  },
  {
   "cell_type": "code",
   "execution_count": 68,
   "metadata": {},
   "outputs": [],
   "source": [
    "import xml.etree.ElementTree as ET\n",
    "\n",
    "if resp.status_code == 200 :\n",
    "   if resp.headers['Content-Type'] == \"application/xml\":\n",
    "    items_list = []\n",
    "    for item in root.findall(\".//item\"):\n",
    "        items_dict = {}\n",
    "        for child in item:\n",
    "            items_dict[child.tag] = child.text\n",
    "        items_list.append(items_dict)\n",
    "    df = pd.DataFrame(items_list)\n",
    "   "
   ]
  },
  {
   "cell_type": "code",
   "execution_count": 71,
   "metadata": {},
   "outputs": [
    {
     "data": {
      "text/plain": [
       "0     N\n",
       "1     N\n",
       "2     N\n",
       "3     N\n",
       "4     N\n",
       "     ..\n",
       "64    N\n",
       "65    N\n",
       "66    N\n",
       "67    N\n",
       "68    N\n",
       "Name: isHoliday, Length: 69, dtype: object"
      ]
     },
     "execution_count": 71,
     "metadata": {},
     "output_type": "execute_result"
    }
   ],
   "source": [
    "\n",
    "df[\"isHoliday\" ]\n"
   ]
  }
 ],
 "metadata": {
  "kernelspec": {
   "display_name": "Python 3",
   "language": "python",
   "name": "python3"
  },
  "language_info": {
   "codemirror_mode": {
    "name": "ipython",
    "version": 3
   },
   "file_extension": ".py",
   "mimetype": "text/x-python",
   "name": "python",
   "nbconvert_exporter": "python",
   "pygments_lexer": "ipython3",
   "version": "3.11.1"
  },
  "orig_nbformat": 4
 },
 "nbformat": 4,
 "nbformat_minor": 2
}
