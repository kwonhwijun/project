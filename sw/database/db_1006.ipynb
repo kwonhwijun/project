{
 "cells": [
  {
   "cell_type": "code",
   "execution_count": 1,
   "metadata": {},
   "outputs": [
    {
     "ename": "FileNotFoundError",
     "evalue": "[Errno 2] No such file or directory: 'naver/0014250193.txt'",
     "output_type": "error",
     "traceback": [
      "\u001b[1;31m---------------------------------------------------------------------------\u001b[0m",
      "\u001b[1;31mFileNotFoundError\u001b[0m                         Traceback (most recent call last)",
      "\u001b[1;32mc:\\Users\\HwijunKwon\\Desktop\\project\\sw\\database\\db_1006.ipynb Cell 1\u001b[0m line \u001b[0;36m4\n\u001b[0;32m     <a href='vscode-notebook-cell:/c%3A/Users/HwijunKwon/Desktop/project/sw/database/db_1006.ipynb#W0sZmlsZQ%3D%3D?line=40'>41</a>\u001b[0m \u001b[39mif\u001b[39;00m news:\n\u001b[0;32m     <a href='vscode-notebook-cell:/c%3A/Users/HwijunKwon/Desktop/project/sw/database/db_1006.ipynb#W0sZmlsZQ%3D%3D?line=41'>42</a>\u001b[0m     file \u001b[39m=\u001b[39m re\u001b[39m.\u001b[39msearch(\u001b[39mr\u001b[39m\u001b[39m'\u001b[39m\u001b[39m(\u001b[39m\u001b[39m\\\u001b[39m\u001b[39md\u001b[39m\u001b[39m{10}\u001b[39;00m\u001b[39m)\u001b[39m\u001b[39m'\u001b[39m, url)\u001b[39m.\u001b[39mgroup(\u001b[39m1\u001b[39m)\n\u001b[1;32m---> <a href='vscode-notebook-cell:/c%3A/Users/HwijunKwon/Desktop/project/sw/database/db_1006.ipynb#W0sZmlsZQ%3D%3D?line=42'>43</a>\u001b[0m     \u001b[39mwith\u001b[39;00m \u001b[39mopen\u001b[39;49m(\u001b[39mf\u001b[39;49m\u001b[39m'\u001b[39;49m\u001b[39m{\u001b[39;49;00mpath\u001b[39m}\u001b[39;49;00m\u001b[39m{\u001b[39;49;00mfile\u001b[39m}\u001b[39;49;00m\u001b[39m.txt\u001b[39;49m\u001b[39m'\u001b[39;49m, \u001b[39m'\u001b[39;49m\u001b[39mw\u001b[39;49m\u001b[39m'\u001b[39;49m, encoding\u001b[39m=\u001b[39;49m\u001b[39m'\u001b[39;49m\u001b[39mutf-8\u001b[39;49m\u001b[39m'\u001b[39;49m) \u001b[39mas\u001b[39;00m fp:\n\u001b[0;32m     <a href='vscode-notebook-cell:/c%3A/Users/HwijunKwon/Desktop/project/sw/database/db_1006.ipynb#W0sZmlsZQ%3D%3D?line=43'>44</a>\u001b[0m         fp\u001b[39m.\u001b[39mwrite(news\u001b[39m.\u001b[39mtext)\n",
      "File \u001b[1;32m~\\AppData\\Roaming\\Python\\Python311\\site-packages\\IPython\\core\\interactiveshell.py:282\u001b[0m, in \u001b[0;36m_modified_open\u001b[1;34m(file, *args, **kwargs)\u001b[0m\n\u001b[0;32m    275\u001b[0m \u001b[39mif\u001b[39;00m file \u001b[39min\u001b[39;00m {\u001b[39m0\u001b[39m, \u001b[39m1\u001b[39m, \u001b[39m2\u001b[39m}:\n\u001b[0;32m    276\u001b[0m     \u001b[39mraise\u001b[39;00m \u001b[39mValueError\u001b[39;00m(\n\u001b[0;32m    277\u001b[0m         \u001b[39mf\u001b[39m\u001b[39m\"\u001b[39m\u001b[39mIPython won\u001b[39m\u001b[39m'\u001b[39m\u001b[39mt let you open fd=\u001b[39m\u001b[39m{\u001b[39;00mfile\u001b[39m}\u001b[39;00m\u001b[39m by default \u001b[39m\u001b[39m\"\u001b[39m\n\u001b[0;32m    278\u001b[0m         \u001b[39m\"\u001b[39m\u001b[39mas it is likely to crash IPython. If you know what you are doing, \u001b[39m\u001b[39m\"\u001b[39m\n\u001b[0;32m    279\u001b[0m         \u001b[39m\"\u001b[39m\u001b[39myou can use builtins\u001b[39m\u001b[39m'\u001b[39m\u001b[39m open.\u001b[39m\u001b[39m\"\u001b[39m\n\u001b[0;32m    280\u001b[0m     )\n\u001b[1;32m--> 282\u001b[0m \u001b[39mreturn\u001b[39;00m io_open(file, \u001b[39m*\u001b[39;49margs, \u001b[39m*\u001b[39;49m\u001b[39m*\u001b[39;49mkwargs)\n",
      "\u001b[1;31mFileNotFoundError\u001b[0m: [Errno 2] No such file or directory: 'naver/0014250193.txt'"
     ]
    }
   ],
   "source": [
    "# 네이버 뉴스 수집기 - Crawler\n",
    "from requests import get\n",
    "from bs4 import BeautifulSoup\n",
    "import re\n",
    "\n",
    "urls = list()\n",
    "seens = list()\n",
    "\n",
    "path = 'naver/'\n",
    "urls.append('https://news.naver.com/')\n",
    "\n",
    "headers = {'user-agent':'Mozilla/5.0 (Macintosh; Intel Mac OS X 10_15_7) AppleWebKit/537.36 (KHTML, like Gecko) Chrome/115.0.0.0 Safari/537.36'}\n",
    "\n",
    "while urls:\n",
    "    url = urls.pop(0)\n",
    "    seens.append(url)\n",
    "    \n",
    "    dom = BeautifulSoup(get(url,headers=headers).text, 'html.parser')\n",
    "    \n",
    "    # 메뉴\n",
    "    alist = dom.select('ul[role=menu] > li > a[href]')\n",
    "    for a in alist:\n",
    "        if re.search(r'sid1=\\d{3}$', a.attrs['href']):\n",
    "            if a.attrs['href'] not in urls and\\\n",
    "               a.attrs['href'] not in seens:\n",
    "                urls.append(a.attrs['href'])\n",
    "                \n",
    "    # 기사링크 => 정교하게\n",
    "    alist = dom.select('''\n",
    "                        .sh_text > a[href],\n",
    "                        .cluster_text > a[href],\n",
    "                        dt > a[href]\n",
    "                    ''')\n",
    "    for a in alist:\n",
    "        if a.attrs['href'] not in urls and\\\n",
    "           a.attrs['href'] not in seens:\n",
    "            urls.append(a.attrs['href'])\n",
    "            \n",
    "    # 본문\n",
    "    news = dom.select_one('#newsct_article')\n",
    "    if news:\n",
    "        file = re.search(r'(\\d{10})', url).group(1)\n",
    "        with open(f'{path}{file}.txt', 'w', encoding='utf-8') as fp:\n",
    "            fp.write(news.text)"
   ]
  }
 ],
 "metadata": {
  "kernelspec": {
   "display_name": "Python 3",
   "language": "python",
   "name": "python3"
  },
  "language_info": {
   "codemirror_mode": {
    "name": "ipython",
    "version": 3
   },
   "file_extension": ".py",
   "mimetype": "text/x-python",
   "name": "python",
   "nbconvert_exporter": "python",
   "pygments_lexer": "ipython3",
   "version": "3.11.1"
  },
  "orig_nbformat": 4
 },
 "nbformat": 4,
 "nbformat_minor": 2
}
