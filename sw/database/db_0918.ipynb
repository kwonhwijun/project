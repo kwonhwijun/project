{
 "cells": [
  {
   "cell_type": "markdown",
   "metadata": {},
   "source": [
    "0918 월요일\n",
    "- download 함수 가져와서 -> 다음 뉴스에 있는 URL, 이미지 다운받기\n",
    "\n",
    "1. URLs, seen 만들기"
   ]
  },
  {
   "cell_type": "code",
   "execution_count": null,
   "metadata": {},
   "outputs": [],
   "source": []
  },
  {
   "cell_type": "code",
   "execution_count": 7,
   "metadata": {},
   "outputs": [],
   "source": [
    "### 다운로드 함수 만들기\n",
    "from requests import request\n",
    "from requests.exceptions import HTTPError\n",
    "from time import sleep\n",
    "\n",
    "\n",
    "def download(url, params = {}, method =\"GET\", retries = 3):\n",
    "    resp = None \n",
    "    try :\n",
    "        resp = request(method, url, \n",
    "                       params = params if method == \"GET\" else {},\n",
    "                       data = params if method == \"POST\" else {},\n",
    "                       headers = {'user-agent': 'Mozilla/5.0 (iPhone; CPU iPhone OS 13_2_3 like Mac OS X) AppleWebKit/605.1.15 (KHTML, like Gecko) Version/13.0.3 Mobile/15E148 Safari/604.1'})\n",
    "        resp.raise_for_status()\n",
    "\n",
    "    \n",
    "    except HTTPError as e :\n",
    "        if e.response.status_code == 500 :\n",
    "            if retries > 0:\n",
    "                sleep(3)\n",
    "                resp = download(url, params = params, method = method , retries = retries - 1) \n",
    "            else : \n",
    "                print(\"재방문 횟수 초과\")\n",
    "        else : \n",
    "            print(\"Request\")\n",
    "            print(\"Response\")\n",
    "\n",
    "    return resp"
   ]
  },
  {
   "cell_type": "code",
   "execution_count": 46,
   "metadata": {},
   "outputs": [
    {
     "name": "stdout",
     "output_type": "stream",
     "text": [
      "None\n"
     ]
    }
   ],
   "source": [
    "import re\n",
    "from bs4 import BeautifulSoup\n",
    "\n",
    "url = 'https://news.daum.net/'\n",
    "URLs = []\n",
    "seen = []\n",
    "\n",
    "URLs.append((url, 0))\n",
    "\n",
    "while URLs:\n",
    "    seed = URLs.pop(0)\n",
    "    seen.append(seed)\n",
    "    resp = download(seed[0])\n",
    "    dom = BeautifulSoup(resp.text, 'html5lib')\n",
    "    print(dom.find('*[src]'))\n",
    "           \n",
    "    \n",
    "           \n",
    "\n",
    "\n",
    "\n",
    "\n",
    "# download 함수 만들기\n",
    "\n",
    "\n",
    "\n"
   ]
  },
  {
   "cell_type": "code",
   "execution_count": 36,
   "metadata": {},
   "outputs": [
    {
     "ename": "AttributeError",
     "evalue": "'NoneType' object has no attribute 'select'",
     "output_type": "error",
     "traceback": [
      "\u001b[1;31m---------------------------------------------------------------------------\u001b[0m",
      "\u001b[1;31mAttributeError\u001b[0m                            Traceback (most recent call last)",
      "\u001b[1;32mc:\\Users\\HwijunKwon\\Desktop\\project\\sw\\database\\db_0918.ipynb Cell 5\u001b[0m line \u001b[0;36m1\n\u001b[1;32m----> <a href='vscode-notebook-cell:/c%3A/Users/HwijunKwon/Desktop/project/sw/database/db_0918.ipynb#W6sZmlsZQ%3D%3D?line=0'>1</a>\u001b[0m dom\u001b[39m.\u001b[39;49mselect(\u001b[39m'\u001b[39m\u001b[39m*[href]\u001b[39m\u001b[39m'\u001b[39m)\n",
      "\u001b[1;31mAttributeError\u001b[0m: 'NoneType' object has no attribute 'select'"
     ]
    }
   ],
   "source": [
    "dom.select('*[href], *[src], *[action]')\n"
   ]
  },
  {
   "cell_type": "code",
   "execution_count": 40,
   "metadata": {},
   "outputs": [
    {
     "ename": "AttributeError",
     "evalue": "'NoneType' object has no attribute 'find'",
     "output_type": "error",
     "traceback": [
      "\u001b[1;31m---------------------------------------------------------------------------\u001b[0m",
      "\u001b[1;31mAttributeError\u001b[0m                            Traceback (most recent call last)",
      "\u001b[1;32mc:\\Users\\HwijunKwon\\Desktop\\project\\sw\\database\\db_0918.ipynb Cell 6\u001b[0m line \u001b[0;36m1\n\u001b[1;32m----> <a href='vscode-notebook-cell:/c%3A/Users/HwijunKwon/Desktop/project/sw/database/db_0918.ipynb#X10sZmlsZQ%3D%3D?line=0'>1</a>\u001b[0m dom\u001b[39m.\u001b[39;49mfind(\u001b[39m'\u001b[39m\u001b[39mdiv.content-article\u001b[39m\u001b[39m'\u001b[39m)\n",
      "\u001b[1;31mAttributeError\u001b[0m: 'NoneType' object has no attribute 'find'"
     ]
    }
   ],
   "source": [
    "dom.find('div.content-article')"
   ]
  }
 ],
 "metadata": {
  "kernelspec": {
   "display_name": "Python 3",
   "language": "python",
   "name": "python3"
  },
  "language_info": {
   "codemirror_mode": {
    "name": "ipython",
    "version": 3
   },
   "file_extension": ".py",
   "mimetype": "text/x-python",
   "name": "python",
   "nbconvert_exporter": "python",
   "pygments_lexer": "ipython3",
   "version": "3.11.1"
  },
  "orig_nbformat": 4
 },
 "nbformat": 4,
 "nbformat_minor": 2
}
