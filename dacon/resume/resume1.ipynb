{
 "cells": [
  {
   "cell_type": "markdown",
   "metadata": {},
   "source": [
    "### 파일 압축 풀기"
   ]
  },
  {
   "cell_type": "code",
   "execution_count": 1,
   "metadata": {},
   "outputs": [],
   "source": [
    "import zipfile\n",
    "\n",
    "filepath = r'C:\\Users\\kwon\\project\\project\\dacon\\resume\\data.zip'\n",
    "folder = r'C:\\Users\\kwon\\project\\project\\dacon\\resume\\data'\n",
    "\n",
    "with zipfile.ZipFile(filepath, 'r') as zip_ref :\n",
    "    zip_ref.extractall(folder)"
   ]
  },
  {
   "cell_type": "markdown",
   "metadata": {},
   "source": [
    "## EDA"
   ]
  },
  {
   "cell_type": "code",
   "execution_count": 2,
   "metadata": {},
   "outputs": [],
   "source": [
    "import pandas as pd\n",
    "import os\n",
    "\n",
    "data = {}\n",
    "data_path = r'C:\\Users\\kwon\\project\\project\\dacon\\resume\\data'\n",
    "for fname in os.listdir(data_path):\n",
    "    if fname.endswith('.csv'):\n",
    "        file_path = os.path.join(data_path, fname)\n",
    "        data[fname.rsplit('.', 1)[0]] = pd.read_csv(file_path)\n"
   ]
  },
  {
   "cell_type": "code",
   "execution_count": 3,
   "metadata": {},
   "outputs": [
    {
     "name": "stdout",
     "output_type": "stream",
     "text": [
      "apply_train\n",
      "<class 'pandas.core.frame.DataFrame'>\n",
      "RangeIndex: 57946 entries, 0 to 57945\n",
      "Data columns (total 2 columns):\n",
      " #   Column           Non-Null Count  Dtype \n",
      "---  ------           --------------  ----- \n",
      " 0   resume_seq       57946 non-null  object\n",
      " 1   recruitment_seq  57946 non-null  object\n",
      "dtypes: object(2)\n",
      "memory usage: 905.5+ KB\n",
      "None\n",
      "@@@@@@@@@@@@@@@@@@@@@\n",
      "company\n",
      "<class 'pandas.core.frame.DataFrame'>\n",
      "RangeIndex: 2377 entries, 0 to 2376\n",
      "Data columns (total 4 columns):\n",
      " #   Column            Non-Null Count  Dtype \n",
      "---  ------            --------------  ----- \n",
      " 0   recruitment_seq   2377 non-null   object\n",
      " 1   company_type_seq  2377 non-null   int64 \n",
      " 2   supply_kind       2377 non-null   int64 \n",
      " 3   employee          2377 non-null   int64 \n",
      "dtypes: int64(3), object(1)\n",
      "memory usage: 74.4+ KB\n",
      "None\n",
      "@@@@@@@@@@@@@@@@@@@@@\n",
      "recruitment\n",
      "<class 'pandas.core.frame.DataFrame'>\n",
      "RangeIndex: 6695 entries, 0 to 6694\n",
      "Data columns (total 11 columns):\n",
      " #   Column             Non-Null Count  Dtype  \n",
      "---  ------             --------------  -----  \n",
      " 0   recruitment_seq    6695 non-null   object \n",
      " 1   address_seq1       6694 non-null   float64\n",
      " 2   address_seq2       100 non-null    float64\n",
      " 3   address_seq3       9 non-null      float64\n",
      " 4   career_end         6695 non-null   int64  \n",
      " 5   career_start       6695 non-null   int64  \n",
      " 6   check_box_keyword  6695 non-null   object \n",
      " 7   education          6695 non-null   int64  \n",
      " 8   major_task         6695 non-null   int64  \n",
      " 9   qualifications     6695 non-null   int64  \n",
      " 10  text_keyword       707 non-null    object \n",
      "dtypes: float64(3), int64(5), object(3)\n",
      "memory usage: 575.5+ KB\n",
      "None\n",
      "@@@@@@@@@@@@@@@@@@@@@\n",
      "resume\n",
      "<class 'pandas.core.frame.DataFrame'>\n",
      "RangeIndex: 8482 entries, 0 to 8481\n",
      "Data columns (total 13 columns):\n",
      " #   Column           Non-Null Count  Dtype  \n",
      "---  ------           --------------  -----  \n",
      " 0   resume_seq       8482 non-null   object \n",
      " 1   reg_date         8482 non-null   object \n",
      " 2   updated_date     8482 non-null   object \n",
      " 3   degree           8482 non-null   int64  \n",
      " 4   graduate_date    8482 non-null   int64  \n",
      " 5   hope_salary      8482 non-null   float64\n",
      " 6   last_salary      8482 non-null   float64\n",
      " 7   text_keyword     8287 non-null   object \n",
      " 8   job_code_seq1    8482 non-null   object \n",
      " 9   job_code_seq2    500 non-null    object \n",
      " 10  job_code_seq3    187 non-null    object \n",
      " 11  career_month     8482 non-null   int64  \n",
      " 12  career_job_code  7724 non-null   object \n",
      "dtypes: float64(2), int64(3), object(8)\n",
      "memory usage: 861.6+ KB\n",
      "None\n",
      "@@@@@@@@@@@@@@@@@@@@@\n",
      "resume_certificate\n",
      "<class 'pandas.core.frame.DataFrame'>\n",
      "RangeIndex: 12975 entries, 0 to 12974\n",
      "Data columns (total 2 columns):\n",
      " #   Column                Non-Null Count  Dtype \n",
      "---  ------                --------------  ----- \n",
      " 0   resume_seq            12975 non-null  object\n",
      " 1   certificate_contents  12971 non-null  object\n",
      "dtypes: object(2)\n",
      "memory usage: 202.9+ KB\n",
      "None\n",
      "@@@@@@@@@@@@@@@@@@@@@\n",
      "resume_education\n",
      "<class 'pandas.core.frame.DataFrame'>\n",
      "RangeIndex: 8482 entries, 0 to 8481\n",
      "Data columns (total 14 columns):\n",
      " #   Column                 Non-Null Count  Dtype  \n",
      "---  ------                 --------------  -----  \n",
      " 0   resume_seq             8482 non-null   object \n",
      " 1   hischool_type_seq      8482 non-null   int64  \n",
      " 2   hischool_special_type  8482 non-null   object \n",
      " 3   hischool_nation        8482 non-null   object \n",
      " 4   hischool_gender        8482 non-null   object \n",
      " 5   hischool_location_seq  8482 non-null   int64  \n",
      " 6   univ_type_seq1         8482 non-null   int64  \n",
      " 7   univ_type_seq2         8482 non-null   int64  \n",
      " 8   univ_transfer          8482 non-null   int64  \n",
      " 9   univ_location          8482 non-null   int64  \n",
      " 10  univ_major             1795 non-null   object \n",
      " 11  univ_sub_major         416 non-null    object \n",
      " 12  univ_major_type        8482 non-null   int64  \n",
      " 13  univ_score             8482 non-null   float64\n",
      "dtypes: float64(1), int64(7), object(6)\n",
      "memory usage: 927.8+ KB\n",
      "None\n",
      "@@@@@@@@@@@@@@@@@@@@@\n",
      "resume_language\n",
      "<class 'pandas.core.frame.DataFrame'>\n",
      "RangeIndex: 869 entries, 0 to 868\n",
      "Data columns (total 4 columns):\n",
      " #   Column      Non-Null Count  Dtype  \n",
      "---  ------      --------------  -----  \n",
      " 0   resume_seq  869 non-null    object \n",
      " 1   language    869 non-null    int64  \n",
      " 2   exam_name   869 non-null    int64  \n",
      " 3   score       869 non-null    float64\n",
      "dtypes: float64(1), int64(2), object(1)\n",
      "memory usage: 27.3+ KB\n",
      "None\n",
      "@@@@@@@@@@@@@@@@@@@@@\n",
      "sample_submission\n",
      "<class 'pandas.core.frame.DataFrame'>\n",
      "RangeIndex: 42410 entries, 0 to 42409\n",
      "Data columns (total 2 columns):\n",
      " #   Column           Non-Null Count  Dtype \n",
      "---  ------           --------------  ----- \n",
      " 0   resume_seq       42410 non-null  object\n",
      " 1   recruitment_seq  42410 non-null  object\n",
      "dtypes: object(2)\n",
      "memory usage: 662.8+ KB\n",
      "None\n",
      "@@@@@@@@@@@@@@@@@@@@@\n"
     ]
    }
   ],
   "source": [
    "for key in data.keys():\n",
    "    print(key)\n",
    "    print(data[key].info())\n",
    "    print('@@@@@@@@@@@@@@@@@@@@@')"
   ]
  },
  {
   "cell_type": "code",
   "execution_count": 26,
   "metadata": {},
   "outputs": [
    {
     "data": {
      "text/plain": [
       "address_seq1\n",
       "3.0     6490\n",
       "5.0      174\n",
       "20.0      17\n",
       "11.0       5\n",
       "1.0        4\n",
       "13.0       2\n",
       "9.0        1\n",
       "2.0        1\n",
       "Name: count, dtype: int64"
      ]
     },
     "execution_count": 26,
     "metadata": {},
     "output_type": "execute_result"
    }
   ],
   "source": [
    "recru = data['recruitment']\n",
    "recru.recruitment_seq.unique().size #6695개의 고유한 원서\n",
    "\n",
    "recru.qualifications.unique()\n",
    "recru.address_seq1.value_counts()"
   ]
  },
  {
   "cell_type": "code",
   "execution_count": 31,
   "metadata": {},
   "outputs": [
    {
     "data": {
      "text/plain": [
       "5976"
      ]
     },
     "execution_count": 31,
     "metadata": {},
     "output_type": "execute_result"
    }
   ],
   "source": [
    "cert = data[\"resume_certificate\"]\n",
    "cert.certificate_contents.head(10)\n",
    "cert[\"resume_seq\"].unique().size # 5976명만 "
   ]
  },
  {
   "cell_type": "code",
   "execution_count": 38,
   "metadata": {},
   "outputs": [
    {
     "data": {
      "text/html": [
       "<div>\n",
       "<style scoped>\n",
       "    .dataframe tbody tr th:only-of-type {\n",
       "        vertical-align: middle;\n",
       "    }\n",
       "\n",
       "    .dataframe tbody tr th {\n",
       "        vertical-align: top;\n",
       "    }\n",
       "\n",
       "    .dataframe thead th {\n",
       "        text-align: right;\n",
       "    }\n",
       "</style>\n",
       "<table border=\"1\" class=\"dataframe\">\n",
       "  <thead>\n",
       "    <tr style=\"text-align: right;\">\n",
       "      <th></th>\n",
       "      <th>resume_seq</th>\n",
       "      <th>recruitment_seq</th>\n",
       "    </tr>\n",
       "  </thead>\n",
       "  <tbody>\n",
       "    <tr>\n",
       "      <th>740</th>\n",
       "      <td>U06784</td>\n",
       "      <td>R06400</td>\n",
       "    </tr>\n",
       "    <tr>\n",
       "      <th>2745</th>\n",
       "      <td>U06784</td>\n",
       "      <td>R03834</td>\n",
       "    </tr>\n",
       "    <tr>\n",
       "      <th>3322</th>\n",
       "      <td>U06784</td>\n",
       "      <td>R04936</td>\n",
       "    </tr>\n",
       "    <tr>\n",
       "      <th>12144</th>\n",
       "      <td>U06784</td>\n",
       "      <td>R05992</td>\n",
       "    </tr>\n",
       "    <tr>\n",
       "      <th>15658</th>\n",
       "      <td>U06784</td>\n",
       "      <td>R06484</td>\n",
       "    </tr>\n",
       "    <tr>\n",
       "      <th>15999</th>\n",
       "      <td>U06784</td>\n",
       "      <td>R03898</td>\n",
       "    </tr>\n",
       "    <tr>\n",
       "      <th>16241</th>\n",
       "      <td>U06784</td>\n",
       "      <td>R02359</td>\n",
       "    </tr>\n",
       "    <tr>\n",
       "      <th>19743</th>\n",
       "      <td>U06784</td>\n",
       "      <td>R05329</td>\n",
       "    </tr>\n",
       "    <tr>\n",
       "      <th>20405</th>\n",
       "      <td>U06784</td>\n",
       "      <td>R02600</td>\n",
       "    </tr>\n",
       "    <tr>\n",
       "      <th>25607</th>\n",
       "      <td>U06784</td>\n",
       "      <td>R02113</td>\n",
       "    </tr>\n",
       "    <tr>\n",
       "      <th>27028</th>\n",
       "      <td>U06784</td>\n",
       "      <td>R01982</td>\n",
       "    </tr>\n",
       "    <tr>\n",
       "      <th>30533</th>\n",
       "      <td>U06784</td>\n",
       "      <td>R02268</td>\n",
       "    </tr>\n",
       "    <tr>\n",
       "      <th>32891</th>\n",
       "      <td>U06784</td>\n",
       "      <td>R03821</td>\n",
       "    </tr>\n",
       "    <tr>\n",
       "      <th>34592</th>\n",
       "      <td>U06784</td>\n",
       "      <td>R01799</td>\n",
       "    </tr>\n",
       "    <tr>\n",
       "      <th>36468</th>\n",
       "      <td>U06784</td>\n",
       "      <td>R00342</td>\n",
       "    </tr>\n",
       "    <tr>\n",
       "      <th>37129</th>\n",
       "      <td>U06784</td>\n",
       "      <td>R03854</td>\n",
       "    </tr>\n",
       "    <tr>\n",
       "      <th>40216</th>\n",
       "      <td>U06784</td>\n",
       "      <td>R01355</td>\n",
       "    </tr>\n",
       "    <tr>\n",
       "      <th>46204</th>\n",
       "      <td>U06784</td>\n",
       "      <td>R01130</td>\n",
       "    </tr>\n",
       "    <tr>\n",
       "      <th>46524</th>\n",
       "      <td>U06784</td>\n",
       "      <td>R04476</td>\n",
       "    </tr>\n",
       "    <tr>\n",
       "      <th>48002</th>\n",
       "      <td>U06784</td>\n",
       "      <td>R06380</td>\n",
       "    </tr>\n",
       "    <tr>\n",
       "      <th>48832</th>\n",
       "      <td>U06784</td>\n",
       "      <td>R02504</td>\n",
       "    </tr>\n",
       "    <tr>\n",
       "      <th>51846</th>\n",
       "      <td>U06784</td>\n",
       "      <td>R04897</td>\n",
       "    </tr>\n",
       "    <tr>\n",
       "      <th>53097</th>\n",
       "      <td>U06784</td>\n",
       "      <td>R02266</td>\n",
       "    </tr>\n",
       "    <tr>\n",
       "      <th>56267</th>\n",
       "      <td>U06784</td>\n",
       "      <td>R05137</td>\n",
       "    </tr>\n",
       "  </tbody>\n",
       "</table>\n",
       "</div>"
      ],
      "text/plain": [
       "      resume_seq recruitment_seq\n",
       "740       U06784          R06400\n",
       "2745      U06784          R03834\n",
       "3322      U06784          R04936\n",
       "12144     U06784          R05992\n",
       "15658     U06784          R06484\n",
       "15999     U06784          R03898\n",
       "16241     U06784          R02359\n",
       "19743     U06784          R05329\n",
       "20405     U06784          R02600\n",
       "25607     U06784          R02113\n",
       "27028     U06784          R01982\n",
       "30533     U06784          R02268\n",
       "32891     U06784          R03821\n",
       "34592     U06784          R01799\n",
       "36468     U06784          R00342\n",
       "37129     U06784          R03854\n",
       "40216     U06784          R01355\n",
       "46204     U06784          R01130\n",
       "46524     U06784          R04476\n",
       "48002     U06784          R06380\n",
       "48832     U06784          R02504\n",
       "51846     U06784          R04897\n",
       "53097     U06784          R02266\n",
       "56267     U06784          R05137"
      ]
     },
     "execution_count": 38,
     "metadata": {},
     "output_type": "execute_result"
    }
   ],
   "source": [
    "from collections import Counter\n",
    "counter = Counter(cert[\"resume_seq\"])\n",
    "\n",
    "most_common_element, most_common_count = counter.most_common(1)[0]\n",
    "most_common_element, most_common_count \n",
    "\n",
    "cert[cert[\"resume_seq\"] == 'U06784']\n",
    "\n",
    "apply = data[\"apply_train\"]\n",
    "apply[apply[\"resume_seq\"] == 'U06784']"
   ]
  },
  {
   "cell_type": "markdown",
   "metadata": {},
   "source": [
    "## 협업 필터링"
   ]
  },
  {
   "cell_type": "code",
   "execution_count": 4,
   "metadata": {},
   "outputs": [],
   "source": []
  },
  {
   "cell_type": "code",
   "execution_count": 5,
   "metadata": {},
   "outputs": [],
   "source": []
  },
  {
   "cell_type": "code",
   "execution_count": 6,
   "metadata": {},
   "outputs": [],
   "source": [
    "import pandas as pd\n",
    "import numpy as np\n",
    "from sklearn.metrics.pairwise import cosine_similarity\n",
    "\n",
    "apply_train_df = data['apply_train']\n",
    "\n",
    "# 사용자-아이템 행렬 생성: 구직자가 해당 채용 공고에 지원했으면 1, 아니면 0으로 설정\n",
    "user_item_matrix = apply_train_df.groupby(['resume_seq', 'recruitment_seq']).size().unstack(fill_value=0)\n",
    "user_item_matrix[user_item_matrix > 1] = 1\n",
    "\n",
    "# 사용자 간의 유사성 계산\n",
    "user_similarity = cosine_similarity(user_item_matrix)\n",
    "\n",
    "# 추천 점수 계산\n",
    "user_predicted_scores = user_similarity.dot(user_item_matrix) / np.array([np.abs(user_similarity).sum(axis=1)]).T\n",
    "\n"
   ]
  },
  {
   "cell_type": "code",
   "execution_count": 7,
   "metadata": {},
   "outputs": [
    {
     "name": "stdout",
     "output_type": "stream",
     "text": [
      "<class 'pandas.core.frame.DataFrame'>\n",
      "<class 'pandas.core.frame.DataFrame'>\n",
      "Index: 8482 entries, U00001 to U08482\n",
      "Columns: 6695 entries, R00001 to R06695\n",
      "dtypes: int64(6695)\n",
      "memory usage: 433.3+ MB\n",
      "None\n",
      "56786990\n",
      "recruitment_seq  R00001  R00002  R00003  R00004  R00005  R00006  R00007  \\\n",
      "resume_seq                                                                \n",
      "U00001                0       0       0       0       0       0       0   \n",
      "U00002                0       0       0       0       0       0       0   \n",
      "U00003                0       0       0       0       0       0       0   \n",
      "U00004                0       0       0       1       0       0       0   \n",
      "U00005                0       0       0       0       0       0       0   \n",
      "...                 ...     ...     ...     ...     ...     ...     ...   \n",
      "U08478                0       0       0       0       0       0       0   \n",
      "U08479                0       0       0       0       0       0       0   \n",
      "U08480                0       0       0       0       0       0       0   \n",
      "U08481                0       0       0       0       0       0       0   \n",
      "U08482                0       0       0       0       0       0       0   \n",
      "\n",
      "recruitment_seq  R00008  R00009  R00010  ...  R06686  R06687  R06688  R06689  \\\n",
      "resume_seq                               ...                                   \n",
      "U00001                0       0       0  ...       0       0       0       0   \n",
      "U00002                0       0       0  ...       0       0       0       0   \n",
      "U00003                0       0       0  ...       0       0       0       0   \n",
      "U00004                0       0       0  ...       0       0       0       0   \n",
      "U00005                0       0       0  ...       0       0       0       0   \n",
      "...                 ...     ...     ...  ...     ...     ...     ...     ...   \n",
      "U08478                0       0       0  ...       0       0       0       0   \n",
      "U08479                0       0       0  ...       0       0       0       0   \n",
      "U08480                0       0       0  ...       0       0       0       0   \n",
      "U08481                0       0       0  ...       0       0       0       0   \n",
      "U08482                0       0       0  ...       0       0       0       0   \n",
      "\n",
      "recruitment_seq  R06690  R06691  R06692  R06693  R06694  R06695  \n",
      "resume_seq                                                       \n",
      "U00001                0       0       0       0       0       0  \n",
      "U00002                0       0       0       0       0       0  \n",
      "U00003                0       0       0       0       0       0  \n",
      "U00004                0       0       0       0       0       0  \n",
      "U00005                0       0       0       0       0       0  \n",
      "...                 ...     ...     ...     ...     ...     ...  \n",
      "U08478                0       0       0       0       0       0  \n",
      "U08479                0       0       0       0       0       0  \n",
      "U08480                0       0       0       0       0       0  \n",
      "U08481                0       0       0       0       0       0  \n",
      "U08482                0       0       0       0       0       0  \n",
      "\n",
      "[8482 rows x 6695 columns]\n"
     ]
    }
   ],
   "source": [
    "print(type(user_item_matrix))\n",
    "print(user_item_matrix.info())\n",
    "print(user_item_matrix.size)\n",
    "print(user_item_matrix)"
   ]
  },
  {
   "cell_type": "code",
   "execution_count": 8,
   "metadata": {},
   "outputs": [
    {
     "name": "stdout",
     "output_type": "stream",
     "text": [
      "[[1.         0.9860133 ]\n",
      " [0.97463185 0.99703746]]\n"
     ]
    }
   ],
   "source": [
    "from sklearn.metrics.pairwise import cosine_similarity\n",
    "import numpy as np\n",
    "\n",
    "# 예시 데이터\n",
    "X = np.array([[1, 2, 3],\n",
    "              [4, 5, 6]])\n",
    "Y = np.array([[1, 2, 3],\n",
    "              [4, 5, 7]])\n",
    "\n",
    "# 코사인 유사도 계산\n",
    "similarity_scores = cosine_similarity(X, Y)\n",
    "print(similarity_scores)"
   ]
  },
  {
   "cell_type": "markdown",
   "metadata": {},
   "source": [
    "### Prediction"
   ]
  },
  {
   "cell_type": "code",
   "execution_count": 9,
   "metadata": {},
   "outputs": [],
   "source": [
    "# 이미 지원한 채용 공고 제외하고 추천\n",
    "recommendations = []\n",
    "for idx, user in enumerate(user_item_matrix.index):\n",
    "    # 해당 사용자가 지원한 채용 공고\n",
    "    applied_jobs = set(user_item_matrix.loc[user][user_item_matrix.loc[user] == 1].index)\n",
    "    \n",
    "    # 해당 사용자의 추천 점수 (높은 점수부터 정렬)\n",
    "    sorted_job_indices = user_predicted_scores[idx].argsort()[::-1]\n",
    "    recommended_jobs = [job for job in user_item_matrix.columns[sorted_job_indices] if job not in applied_jobs][:5]\n",
    "    \n",
    "    for job in recommended_jobs:\n",
    "        recommendations.append([user, job])"
   ]
  },
  {
   "cell_type": "code",
   "execution_count": 11,
   "metadata": {},
   "outputs": [
    {
     "data": {
      "text/plain": [
       "array([0.59022969, 0.56060945, 0.37491422, 0.21520452, 0.10181875])"
      ]
     },
     "execution_count": 11,
     "metadata": {},
     "output_type": "execute_result"
    }
   ],
   "source": [
    "user_item_matrix.index\n",
    "user_item_matrix.loc['U00001'][user_item_matrix.loc['U00001'] == 1]\n",
    "\n",
    "sorted_job_indices = user_predicted_scores[1].argsort()[::-1]\n",
    "\n",
    "user_predicted_scores[2][user_predicted_scores[2].argsort()[::-1][:5]]"
   ]
  },
  {
   "cell_type": "markdown",
   "metadata": {},
   "source": [
    "### Submission"
   ]
  },
  {
   "cell_type": "code",
   "execution_count": 12,
   "metadata": {},
   "outputs": [],
   "source": [
    "# sample_submission.csv 형태로 DataFrame 생성\n",
    "top_recommendations = pd.DataFrame(recommendations, columns=['resume_seq', 'recruitment_seq'])\n",
    "\n",
    "top_recommendations.to_csv('./baseline_submit.csv', index=False)"
   ]
  },
  {
   "cell_type": "markdown",
   "metadata": {},
   "source": [
    "## 아이템 기반 "
   ]
  },
  {
   "cell_type": "markdown",
   "metadata": {},
   "source": [
    "### 데이터 합치기\n"
   ]
  },
  {
   "cell_type": "code",
   "execution_count": 30,
   "metadata": {},
   "outputs": [
    {
     "data": {
      "text/plain": [
       "dict_keys(['apply_train', 'company', 'recruitment', 'resume', 'resume_certificate', 'resume_education', 'resume_language', 'sample_submission'])"
      ]
     },
     "execution_count": 30,
     "metadata": {},
     "output_type": "execute_result"
    }
   ],
   "source": [
    "data.keys()"
   ]
  },
  {
   "cell_type": "code",
   "execution_count": 39,
   "metadata": {},
   "outputs": [
    {
     "name": "stdout",
     "output_type": "stream",
     "text": [
      "869\n"
     ]
    },
    {
     "data": {
      "text/plain": [
       "820"
      ]
     },
     "execution_count": 39,
     "metadata": {},
     "output_type": "execute_result"
    }
   ],
   "source": [
    "resume = data[\"resume\"]\n",
    "resume_lan = data[\"resume_language\"]\n",
    "print(len(resume_lan.resume_seq))\n",
    "len(resume_lan.resume_seq.unique()) # 어학이 두개이상인 사람이 있음"
   ]
  },
  {
   "cell_type": "markdown",
   "metadata": {},
   "source": [
    "##"
   ]
  },
  {
   "cell_type": "code",
   "execution_count": 54,
   "metadata": {},
   "outputs": [
    {
     "ename": "ModuleNotFoundError",
     "evalue": "No module named 'surprise'",
     "output_type": "error",
     "traceback": [
      "\u001b[1;31m---------------------------------------------------------------------------\u001b[0m",
      "\u001b[1;31mModuleNotFoundError\u001b[0m                       Traceback (most recent call last)",
      "\u001b[1;32mc:\\Users\\kwon\\project\\project\\dacon\\resume\\resume1.ipynb Cell 22\u001b[0m line \u001b[0;36m1\n\u001b[1;32m----> <a href='vscode-notebook-cell:/c%3A/Users/kwon/project/project/dacon/resume/resume1.ipynb#X34sZmlsZQ%3D%3D?line=0'>1</a>\u001b[0m \u001b[39mfrom\u001b[39;00m \u001b[39msurprise\u001b[39;00m \u001b[39mimport\u001b[39;00m SVD, Reader, Dataset\n\u001b[0;32m      <a href='vscode-notebook-cell:/c%3A/Users/kwon/project/project/dacon/resume/resume1.ipynb#X34sZmlsZQ%3D%3D?line=2'>3</a>\u001b[0m \u001b[39m# apply_train_df에서 지원 여부를 나타내는 컬럼이 'Applied'라고 가정하고, 지원했으면 1, 아니면 0의 값을 가집니다.\u001b[39;00m\n\u001b[0;32m      <a href='vscode-notebook-cell:/c%3A/Users/kwon/project/project/dacon/resume/resume1.ipynb#X34sZmlsZQ%3D%3D?line=3'>4</a>\u001b[0m \u001b[39m# Reader 객체 생성\u001b[39;00m\n\u001b[0;32m      <a href='vscode-notebook-cell:/c%3A/Users/kwon/project/project/dacon/resume/resume1.ipynb#X34sZmlsZQ%3D%3D?line=4'>5</a>\u001b[0m reader \u001b[39m=\u001b[39m Reader(rating_scale\u001b[39m=\u001b[39m(\u001b[39m0\u001b[39m, \u001b[39m1\u001b[39m))  \u001b[39m# 0: 지원하지 않음, 1: 지원함\u001b[39;00m\n",
      "\u001b[1;31mModuleNotFoundError\u001b[0m: No module named 'surprise'"
     ]
    }
   ],
   "source": [
    "from surprise import SVD, Reader, Dataset\n",
    "\n",
    "# apply_train_df에서 지원 여부를 나타내는 컬럼이 'Applied'라고 가정하고, 지원했으면 1, 아니면 0의 값을 가집니다.\n",
    "# Reader 객체 생성\n",
    "reader = Reader(rating_scale=(0, 1))  # 0: 지원하지 않음, 1: 지원함\n",
    "\n",
    "# 데이터 로드\n",
    "data = Dataset.load_from_df(apply_train_df[['resume_seq', 'recruitment_seq', 'Applied']], reader)  # 'Applied'는 지원 여부를 나타내는 컬럼이라고 가정\n",
    "\n",
    "# 전체 데이터셋으로 훈련\n",
    "trainset = data.build_full_trainset()\n",
    "svd = SVD()\n",
    "svd.fit(trainset)"
   ]
  },
  {
   "cell_type": "code",
   "execution_count": null,
   "metadata": {},
   "outputs": [],
   "source": []
  },
  {
   "cell_type": "markdown",
   "metadata": {},
   "source": [
    "## Implict 라이브러리"
   ]
  },
  {
   "cell_type": "code",
   "execution_count": 39,
   "metadata": {},
   "outputs": [],
   "source": [
    "import pandas as pd\n",
    "import numpy as np\n",
    "from sklearn.metrics.pairwise import cosine_similarity\n",
    "\n",
    "apply_train_df = data['apply_train']\n",
    "\n",
    "# 사용자-아이템 행렬 생성: 구직자가 해당 채용 공고에 지원했으면 1, 아니면 0으로 설정\n",
    "user_item_matrix = apply_train_df.groupby(['resume_seq', 'recruitment_seq']).size().unstack(fill_value=0)\n",
    "user_item_matrix[user_item_matrix > 1] = 1"
   ]
  },
  {
   "cell_type": "code",
   "execution_count": 46,
   "metadata": {},
   "outputs": [
    {
     "name": "stdout",
     "output_type": "stream",
     "text": [
      "c:\\Program Files\\Python311\\python.exe\n"
     ]
    }
   ],
   "source": [
    "import sys\n",
    "\n",
    "print(sys.executable)"
   ]
  },
  {
   "cell_type": "code",
   "execution_count": 48,
   "metadata": {},
   "outputs": [
    {
     "name": "stdout",
     "output_type": "stream",
     "text": [
      "None\n"
     ]
    }
   ],
   "source": [
    "import os\n",
    "print(os.environ.get('VIRTUAL_ENV'))"
   ]
  },
  {
   "cell_type": "code",
   "execution_count": 42,
   "metadata": {},
   "outputs": [
    {
     "ename": "ModuleNotFoundError",
     "evalue": "No module named 'implicit'",
     "output_type": "error",
     "traceback": [
      "\u001b[1;31m---------------------------------------------------------------------------\u001b[0m",
      "\u001b[1;31mModuleNotFoundError\u001b[0m                       Traceback (most recent call last)",
      "\u001b[1;32mc:\\Users\\kwon\\project\\project\\dacon\\resume\\resume1.ipynb Cell 29\u001b[0m line \u001b[0;36m1\n\u001b[1;32m----> <a href='vscode-notebook-cell:/c%3A/Users/kwon/project/project/dacon/resume/resume1.ipynb#X35sZmlsZQ%3D%3D?line=0'>1</a>\u001b[0m \u001b[39mimport\u001b[39;00m \u001b[39mimplicit\u001b[39;00m\n\u001b[0;32m      <a href='vscode-notebook-cell:/c%3A/Users/kwon/project/project/dacon/resume/resume1.ipynb#X35sZmlsZQ%3D%3D?line=1'>2</a>\u001b[0m \u001b[39mimport\u001b[39;00m \u001b[39mnumpy\u001b[39;00m \u001b[39mas\u001b[39;00m \u001b[39mnp\u001b[39;00m\n\u001b[0;32m      <a href='vscode-notebook-cell:/c%3A/Users/kwon/project/project/dacon/resume/resume1.ipynb#X35sZmlsZQ%3D%3D?line=2'>3</a>\u001b[0m \u001b[39mfrom\u001b[39;00m \u001b[39mscipy\u001b[39;00m\u001b[39m.\u001b[39;00m\u001b[39msparse\u001b[39;00m \u001b[39mimport\u001b[39;00m csr_matrix\n",
      "\u001b[1;31mModuleNotFoundError\u001b[0m: No module named 'implicit'"
     ]
    }
   ],
   "source": [
    "import implicit\n",
    "import numpy as np\n",
    "from scipy.sparse import csr_matrix\n",
    "\n",
    "# 데이터를 sparse matrix로 변환\n",
    "user_item = csr_matrix(user_item_matrix)\n",
    "\n",
    "# ALS 모델 생성 및 학습\n",
    "model = implicit.als.AlternatingLeastSquares(factors=5, iterations=20)\n",
    "model.fit(user_item.T)  # Implicit에서는 항목-사용자 행렬을 기대합니다. 그래서 전치해줍니다.\n",
    "\n",
    "# 특정 사용자(예: 사용자 0)에 대한 추천 항목 가져오기\n",
    "user_id = 0\n",
    "recommended = model.recommend(user_id, user_item)\n",
    "\n",
    "print(recommended)"
   ]
  }
 ],
 "metadata": {
  "kernelspec": {
   "display_name": "Python 3",
   "language": "python",
   "name": "python3"
  },
  "language_info": {
   "codemirror_mode": {
    "name": "ipython",
    "version": 3
   },
   "file_extension": ".py",
   "mimetype": "text/x-python",
   "name": "python",
   "nbconvert_exporter": "python",
   "pygments_lexer": "ipython3",
   "version": "3.11.4"
  },
  "orig_nbformat": 4
 },
 "nbformat": 4,
 "nbformat_minor": 2
}
