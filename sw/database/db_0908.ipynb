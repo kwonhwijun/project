{
 "cells": [
  {
   "cell_type": "markdown",
   "metadata": {},
   "source": [
    "### 1130"
   ]
  },
  {
   "cell_type": "markdown",
   "metadata": {},
   "source": [
    "## urllib\n"
   ]
  },
  {
   "cell_type": "markdown",
   "metadata": {},
   "source": [
    "### Robot.txt 확인하기"
   ]
  },
  {
   "cell_type": "code",
   "execution_count": null,
   "metadata": {},
   "outputs": [],
   "source": [
    "from urllib import request\n",
    "from urllib.robotparser import RobotFileParser"
   ]
  },
  {
   "cell_type": "code",
   "execution_count": null,
   "metadata": {},
   "outputs": [],
   "source": [
    "robot = RobotFileParser('https://www.google.com/robots.txt')"
   ]
  },
  {
   "cell_type": "code",
   "execution_count": null,
   "metadata": {},
   "outputs": [],
   "source": [
    "robot.read()"
   ]
  },
  {
   "cell_type": "code",
   "execution_count": null,
   "metadata": {},
   "outputs": [],
   "source": [
    "robot.can_fetch(useragent='*',url = '/') #에이전트와 URL이 나온다 #False가 나오면 수집하면 안된다."
   ]
  },
  {
   "cell_type": "code",
   "execution_count": null,
   "metadata": {},
   "outputs": [],
   "source": [
    "robot = RobotFileParser('https://news.naver.com/robots.txt')\n",
    "robot.read()\n",
    "print(robot.can_fetch(useragent='*', url='/'))\n",
    "print(robot.can_fetch(useragent='Yeti', url='/main/imagemontage')) #네이버 뉴스는 자사봇 yeti에게는 허용"
   ]
  },
  {
   "cell_type": "code",
   "execution_count": null,
   "metadata": {},
   "outputs": [],
   "source": [
    "# 우리학교 robots.txt\n",
    "robot = RobotFileParser('https://korea.ac.kr/robots.txt')\n",
    "robot.read()\n",
    "robot.can_fetch('*', '/sitemap.htm')"
   ]
  },
  {
   "cell_type": "markdown",
   "metadata": {},
   "source": [
    "구글"
   ]
  },
  {
   "cell_type": "code",
   "execution_count": null,
   "metadata": {},
   "outputs": [],
   "source": [
    "from urllib.request import urlopen, Request"
   ]
  },
  {
   "cell_type": "code",
   "execution_count": null,
   "metadata": {},
   "outputs": [],
   "source": [
    "urlopen('https://www.google.com/')\n",
    "# url을 open하는 코드 => request를 보낸다. #cafile : 사이트 접속을 위한 인증서를 담는다\n",
    "# response 객체를 리턴한다."
   ]
  },
  {
   "cell_type": "code",
   "execution_count": null,
   "metadata": {},
   "outputs": [],
   "source": [
    "response = urlopen('https://www.google.com/') \n",
    "response.read() #response를 읽기\n",
    "response.getheaders() #.getheaders : 리스폰스 헤더들의 정보"
   ]
  },
  {
   "cell_type": "code",
   "execution_count": null,
   "metadata": {},
   "outputs": [],
   "source": [
    "response = urlopen('https://www.google.com/') \n",
    "raw = response.read() #raw 데이터 담기 #디코딩이 필요하다\n",
    "print(type(raw)) #raw의 데이터는 byte 데이터\n",
    "raw.decode('utf8') #header에서 디코딩 방식을 참고"
   ]
  },
  {
   "cell_type": "code",
   "execution_count": null,
   "metadata": {},
   "outputs": [],
   "source": [
    "resp = urlopen(\"https://www.naver.com\")\n",
    "resp.getcode(), resp.reason # 응답 받았음을 알 수 있다. \n",
    "resp.getheaders()\n",
    "resp.read().decode('utf-8') #헤더의 정보를 바탕으로 utf-8로 디코딩"
   ]
  },
  {
   "cell_type": "code",
   "execution_count": null,
   "metadata": {},
   "outputs": [],
   "source": [
    "url = 'https://www.google.com/search?q=%EC%B9%B4%EB%A6%AC%EB%82%98&sca_esv=563600755&sxsrf=AB5stBg85jsLTd672klc_Py2zIQln9T0Tw%3A1694141668532&ei=5Iz6ZIWVIMbj1e8Pq6uO-AM&ved=0ahUKEwiFl-jCgZqBAxXGcfUHHauVAz8Q4dUDCBA&uact=5&oq=%EC%B9%B4%EB%A6%AC%EB%82%98&gs_lp=Egxnd3Mtd2l6LXNlcnAiCey5tOumrOuCmDIKEAAYRxjWBBiwAzIKEAAYRxjWBBiwAzIKEAAYRxjWBBiwAzIKEAAYRxjWBBiwAzIKEAAYRxjWBBiwAzIKEAAYRxjWBBiwAzIKEAAYRxjWBBiwAzIKEAAYRxjWBBiwAzIKEAAYRxjWBBiwAzIKEAAYRxjWBBiwA0ipBFAAWN0DcAN4AZABApgBe6ABtQSqAQMwLjW4AQPIAQD4AQHCAgcQIxiKBRgnwgIKEC4YgAQYFBiHAsICERAuGIAEGLEDGIMBGMcBGNEDwgILEAAYgAQYsQMYgwHCAgUQLhiABMICGRAuGIAEGBQYhwIYlwUY3AQY3gQY4ATYAQHCAg0QLhiABBgUGIcCGLEDwgIcEC4YgAQYFBiHAhixAxiXBRjcBBjeBBjgBNgBAcICBRAAGIAEwgIKEAAYgAQYFBiHAsICBxAAGIoFGEPCAgQQABgD4gMEGAAgQYgGAZAGCroGBggBEAEYFA&sclient=gws-wiz-serp'\n",
    "resp = urlopen(url) # Error 403 : Forbidden #robots.txt 에서 search에서 접근을 막고 있음을 알 수 있다.\n"
   ]
  },
  {
   "cell_type": "code",
   "execution_count": null,
   "metadata": {},
   "outputs": [],
   "source": [
    "# 네이버에서\n",
    "url = 'https://search.naver.com/search.naver?where=nexearch&sm=top_hty&fbm=0&ie=utf8&query=%EC%B9%B4%EB%A6%AC%EB%82%98'\n",
    "resp = urlopen(url) # 네이버에서는 오류가 나지 않는다.\n",
    "print(resp.getcode(), resp.reason) # check, 네이버는 구글과 달리 접근을 허용한다.\n",
    "resp.read().decode()"
   ]
  },
  {
   "cell_type": "code",
   "execution_count": null,
   "metadata": {},
   "outputs": [],
   "source": [
    "# GET 방식 : url을 open하는 방식, body를 사용하지 않는 다는 특징\n",
    "# url에 있는 parameter를 기준으로 호출한다. 파라미터느 URL의 ?의 뒤에서 나오며, &로 연결되어 있음, key와 value로 구성되어 있다.\n",
    "# https://search.naver.com/search.naver? \n",
    "#   where=nexearch&sm=top_hty\n",
    "#   &fbm=0&ie=utf8\n",
    "#   &query=%EC%B9%B4%EB%A6%AC%EB%82%98 #쿼리만 있어도 검색이 가능하다. "
   ]
  },
  {
   "cell_type": "code",
   "execution_count": null,
   "metadata": {},
   "outputs": [],
   "source": [
    "# HTTP -> TCP/IP -> 통신은 bytes를 기준으로 변환해줘야한다. \n",
    "# ASCII는 원래 바이트로, Non-ASCII는 바이트형태로 변환하기 위해 인코딩을 해줘야 한다. \n",
    "# 우리나라 표준 인코딩 : ISO-9301-?, EUC-KR, UTF-8"
   ]
  },
  {
   "cell_type": "code",
   "execution_count": null,
   "metadata": {},
   "outputs": [],
   "source": [
    "# 페이지를 넘거보면 파라미터가 바뀐다\n",
    "url = 'https://search.naver.com/search.naver?where=news&query=%EC%B9%B4%EB%A6%AC%EB%82%98' # where이 생김"
   ]
  },
  {
   "cell_type": "markdown",
   "metadata": {},
   "source": [
    "### HTTP 상태 코드\n",
    "- 200 : 성공\n",
    "- 400 : 클라이언트 에러 (내 잘못 에러) ex) 403\n",
    "- 500 : 서버 에러"
   ]
  },
  {
   "cell_type": "code",
   "execution_count": null,
   "metadata": {},
   "outputs": [],
   "source": [
    "# HTTP 상태 코드"
   ]
  },
  {
   "cell_type": "code",
   "execution_count": null,
   "metadata": {},
   "outputs": [],
   "source": [
    "# 크롬 관리자 도구를 통해 Request가 어떻게 성공했는지 볼 수 있다.\n",
    "# Network에서 개별 request에 대한 header를 살펴보면 user-agent가 다른 것을 알 수 있다. "
   ]
  }
 ],
 "metadata": {
  "kernelspec": {
   "display_name": "Python 3",
   "language": "python",
   "name": "python3"
  },
  "language_info": {
   "codemirror_mode": {
    "name": "ipython",
    "version": 3
   },
   "file_extension": ".py",
   "mimetype": "text/x-python",
   "name": "python",
   "nbconvert_exporter": "python",
   "pygments_lexer": "ipython3",
   "version": "3.11.1"
  },
  "orig_nbformat": 4
 },
 "nbformat": 4,
 "nbformat_minor": 2
}
