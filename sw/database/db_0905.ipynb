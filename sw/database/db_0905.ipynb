{
 "cells": [
  {
   "cell_type": "markdown",
   "metadata": {},
   "source": [
    "1. 커넥션을 만들고\n",
    "2. 커서를 부여 받고"
   ]
  },
  {
   "cell_type": "code",
   "execution_count": 125,
   "metadata": {},
   "outputs": [],
   "source": [
    "import sqlite3"
   ]
  },
  {
   "cell_type": "code",
   "execution_count": 126,
   "metadata": {},
   "outputs": [],
   "source": [
    "con = sqlite3.connect(':memory:')"
   ]
  },
  {
   "cell_type": "code",
   "execution_count": 127,
   "metadata": {},
   "outputs": [],
   "source": [
    "cur = con.cursor()"
   ]
  },
  {
   "cell_type": "markdown",
   "metadata": {},
   "source": [
    "cur.execute('') # SQL문 1개\n",
    "cur.executemany() # SQL문 1개가 반복 실행\n",
    "cur.executescript() # SQL 문 여러개 한번에 실행"
   ]
  },
  {
   "cell_type": "code",
   "execution_count": 130,
   "metadata": {},
   "outputs": [
    {
     "data": {
      "text/plain": [
       "<sqlite3.Cursor at 0x1b9c8e04a40>"
      ]
     },
     "execution_count": 130,
     "metadata": {},
     "output_type": "execute_result"
    }
   ],
   "source": [
    "cur.execute('CREATE TABLE CITY (CNO INTEGER PRIMARY KEY,  CNAME TEXT)')"
   ]
  },
  {
   "cell_type": "code",
   "execution_count": 131,
   "metadata": {},
   "outputs": [
    {
     "data": {
      "text/plain": [
       "<sqlite3.Cursor at 0x1b9c8e04a40>"
      ]
     },
     "execution_count": 131,
     "metadata": {},
     "output_type": "execute_result"
    }
   ],
   "source": [
    "cur.execute('''\n",
    "    INSERT INTO CITY (CNO, CNAME)\n",
    "    VALUES (1, \"LONDON\") ;\n",
    "''')"
   ]
  },
  {
   "cell_type": "markdown",
   "metadata": {},
   "source": [
    "### 데이터 넣어주기"
   ]
  },
  {
   "cell_type": "code",
   "execution_count": 132,
   "metadata": {},
   "outputs": [
    {
     "data": {
      "text/plain": [
       "<sqlite3.Cursor at 0x1b9c8e04a40>"
      ]
     },
     "execution_count": 132,
     "metadata": {},
     "output_type": "execute_result"
    }
   ],
   "source": [
    "# 칼럼을 지정해주지 않으면 모든 값을 넣어주면 된다. \n",
    "cur.execute('''\n",
    "    INSERT INTO CITY\n",
    "    VALUES (2, \"PARIS\")\n",
    "            ''')"
   ]
  },
  {
   "cell_type": "code",
   "execution_count": 133,
   "metadata": {},
   "outputs": [
    {
     "data": {
      "text/plain": [
       "<sqlite3.Cursor at 0x1b9c8e04a40>"
      ]
     },
     "execution_count": 133,
     "metadata": {},
     "output_type": "execute_result"
    }
   ],
   "source": [
    "# 특정 칼럼에만 넣기\n",
    "cur.execute('''\n",
    "    INSERT INTO CITY (CNAME)\n",
    "    VALUES (\"ROME\")\n",
    "            ''')"
   ]
  },
  {
   "cell_type": "code",
   "execution_count": 134,
   "metadata": {},
   "outputs": [
    {
     "data": {
      "text/plain": [
       "<sqlite3.Cursor at 0x1b9c8e04a40>"
      ]
     },
     "execution_count": 134,
     "metadata": {},
     "output_type": "execute_result"
    }
   ],
   "source": [
    "# PK에 NULL을 넣으면 어떻게 될까?\n",
    "cur.execute('''\n",
    "    INSERT INTO CITY\n",
    "    VALUES (NULL, \"ROME\")\n",
    "            ''')"
   ]
  },
  {
   "cell_type": "code",
   "execution_count": 135,
   "metadata": {},
   "outputs": [
    {
     "data": {
      "text/plain": [
       "[]"
      ]
     },
     "execution_count": 135,
     "metadata": {},
     "output_type": "execute_result"
    }
   ],
   "source": [
    "### 패치해주기\n",
    "\n",
    "cur.fetchone() # 1개 가져오기\n",
    "cur.fetchmany() # N개 가져오기\n",
    "cur.fetchall() # 모두 가져오기"
   ]
  },
  {
   "cell_type": "code",
   "execution_count": 136,
   "metadata": {},
   "outputs": [
    {
     "data": {
      "text/plain": [
       "<sqlite3.Cursor at 0x1b9c8e04a40>"
      ]
     },
     "execution_count": 136,
     "metadata": {},
     "output_type": "execute_result"
    }
   ],
   "source": [
    "cur.execute('SELECT * FROM CITY')"
   ]
  },
  {
   "cell_type": "code",
   "execution_count": 137,
   "metadata": {},
   "outputs": [
    {
     "data": {
      "text/plain": [
       "[(1, 'LONDON'), (2, 'PARIS'), (3, 'ROME'), (4, 'ROME')]"
      ]
     },
     "execution_count": 137,
     "metadata": {},
     "output_type": "execute_result"
    }
   ],
   "source": [
    "cur.fetchall()\n",
    "\n",
    "# note: 데이터가 많은 경우 all을 쓰지 않는 경우가 많다."
   ]
  },
  {
   "cell_type": "code",
   "execution_count": 139,
   "metadata": {},
   "outputs": [
    {
     "ename": "OperationalError",
     "evalue": "table SUPPLIER already exists",
     "output_type": "error",
     "traceback": [
      "\u001b[1;31m---------------------------------------------------------------------------\u001b[0m",
      "\u001b[1;31mOperationalError\u001b[0m                          Traceback (most recent call last)",
      "Cell \u001b[1;32mIn[139], line 1\u001b[0m\n\u001b[1;32m----> 1\u001b[0m cur\u001b[39m.\u001b[39;49mexecute(\u001b[39m'''\u001b[39;49m\n\u001b[0;32m      2\u001b[0m \u001b[39m    CREATE TABLE SUPPLIER(\u001b[39;49m\n\u001b[0;32m      3\u001b[0m \u001b[39m            SNO INTEGER PRIMARY KEY,\u001b[39;49m\n\u001b[0;32m      4\u001b[0m \u001b[39m            SNAME TEXT,\u001b[39;49m\n\u001b[0;32m      5\u001b[0m \u001b[39m            CNO INTGER NOT NULL\u001b[39;49m\n\u001b[0;32m      6\u001b[0m \u001b[39m    )\u001b[39;49m\n\u001b[0;32m      7\u001b[0m \u001b[39m            \u001b[39;49m\u001b[39m'''\u001b[39;49m)\n",
      "\u001b[1;31mOperationalError\u001b[0m: table SUPPLIER already exists"
     ]
    }
   ],
   "source": [
    "cur.execute('''\n",
    "    CREATE TABLE SUPPLIER(\n",
    "            SNO INTEGER PRIMARY KEY,\n",
    "            SNAME TEXT,\n",
    "            CNO INTGER NOT NULL\n",
    "    )\n",
    "            ''')"
   ]
  },
  {
   "cell_type": "markdown",
   "metadata": {},
   "source": [
    "변수를 사용하기\n",
    "1. qmark ?로 넣어주기\n",
    "\n",
    "2. named k :v"
   ]
  },
  {
   "cell_type": "code",
   "execution_count": 140,
   "metadata": {},
   "outputs": [
    {
     "data": {
      "text/plain": [
       "<sqlite3.Cursor at 0x1b9c8e04a40>"
      ]
     },
     "execution_count": 140,
     "metadata": {},
     "output_type": "execute_result"
    }
   ],
   "source": [
    "# qmark를 사용해서 넣어주기 : sql문 뒤에 ?에 해당하는 변수들을 차례로 넣어주면 된다.\n",
    "sname = 'Smith'\n",
    "cno = 1\n",
    "\n",
    "cur.execute('''\n",
    "            INSERT INTO SUPPLIER VALUES(NULL, ?, ?)\n",
    "''', (sname, cno))"
   ]
  },
  {
   "cell_type": "code",
   "execution_count": 141,
   "metadata": {},
   "outputs": [
    {
     "data": {
      "text/plain": [
       "[(1, 'Smith', 1)]"
      ]
     },
     "execution_count": 141,
     "metadata": {},
     "output_type": "execute_result"
    }
   ],
   "source": [
    "cur.execute('SELECT * FROM SUPPLIER')\n",
    "cur.fetchall()"
   ]
  },
  {
   "cell_type": "code",
   "execution_count": 142,
   "metadata": {},
   "outputs": [
    {
     "data": {
      "text/plain": [
       "<sqlite3.Cursor at 0x1b9c8e04a40>"
      ]
     },
     "execution_count": 142,
     "metadata": {},
     "output_type": "execute_result"
    }
   ],
   "source": [
    "# 변수를 사용해서 SQL 문을 입력하기\n",
    "data = (('Jones', 2), ('Adams', 1), ('Blake', 3))\n",
    "cur.executemany('''\n",
    "            INSERT INTO SUPPLIER VALUES(NULL, ?, ?) ;\n",
    "            ''', data)"
   ]
  },
  {
   "cell_type": "code",
   "execution_count": 143,
   "metadata": {},
   "outputs": [
    {
     "data": {
      "text/plain": [
       "[(1, 'Smith', 1), (2, 'Jones', 2), (3, 'Adams', 1), (4, 'Blake', 3)]"
      ]
     },
     "execution_count": 143,
     "metadata": {},
     "output_type": "execute_result"
    }
   ],
   "source": [
    "cur.execute('SELECT * FROM SUPPLIER')\n",
    "cur.fetchall()"
   ]
  },
  {
   "cell_type": "code",
   "execution_count": 146,
   "metadata": {},
   "outputs": [
    {
     "ename": "OperationalError",
     "evalue": "table PART already exists",
     "output_type": "error",
     "traceback": [
      "\u001b[1;31m---------------------------------------------------------------------------\u001b[0m",
      "\u001b[1;31mOperationalError\u001b[0m                          Traceback (most recent call last)",
      "Cell \u001b[1;32mIn[146], line 3\u001b[0m\n\u001b[0;32m      1\u001b[0m \u001b[39m# 2) named 방식\u001b[39;00m\n\u001b[1;32m----> 3\u001b[0m cur\u001b[39m.\u001b[39;49mexecute(\u001b[39m'''\u001b[39;49m\n\u001b[0;32m      4\u001b[0m \u001b[39m    CREATE TABLE PART (\u001b[39;49m\n\u001b[0;32m      5\u001b[0m \u001b[39m            PNO INTEGER PRIMARY KEY,\u001b[39;49m\n\u001b[0;32m      6\u001b[0m \u001b[39m            PNAME TEXT\u001b[39;49m\n\u001b[0;32m      7\u001b[0m \u001b[39m    )\u001b[39;49m\n\u001b[0;32m      8\u001b[0m \u001b[39m'''\u001b[39;49m)\n",
      "\u001b[1;31mOperationalError\u001b[0m: table PART already exists"
     ]
    }
   ],
   "source": [
    "# 2) named 방식\n",
    "\n",
    "cur.execute('''\n",
    "    CREATE TABLE PART (\n",
    "            PNO INTEGER PRIMARY KEY,\n",
    "            PNAME TEXT\n",
    "    )\n",
    "''')"
   ]
  },
  {
   "cell_type": "code",
   "execution_count": 52,
   "metadata": {},
   "outputs": [
    {
     "ename": "IntegrityError",
     "evalue": "UNIQUE constraint failed: PART.PNO",
     "output_type": "error",
     "traceback": [
      "\u001b[1;31m---------------------------------------------------------------------------\u001b[0m",
      "\u001b[1;31mIntegrityError\u001b[0m                            Traceback (most recent call last)",
      "Cell \u001b[1;32mIn[52], line 1\u001b[0m\n\u001b[1;32m----> 1\u001b[0m cur\u001b[39m.\u001b[39;49mexecute(\u001b[39m'''\u001b[39;49m\n\u001b[0;32m      2\u001b[0m \u001b[39m    INSERT INTO PART\u001b[39;49m\n\u001b[0;32m      3\u001b[0m \u001b[39m            VALUES (:pno, :pname)    \u001b[39;49m\n\u001b[0;32m      4\u001b[0m \u001b[39m'''\u001b[39;49m, {\u001b[39m'\u001b[39;49m\u001b[39mpno\u001b[39;49m\u001b[39m'\u001b[39;49m:\u001b[39m1\u001b[39;49m, \u001b[39m'\u001b[39;49m\u001b[39mpname\u001b[39;49m\u001b[39m'\u001b[39;49m:\u001b[39m'\u001b[39;49m\u001b[39mscrew\u001b[39;49m\u001b[39m'\u001b[39;49m, \u001b[39m'\u001b[39;49m\u001b[39masdf\u001b[39;49m\u001b[39m'\u001b[39;49m:\u001b[39m'\u001b[39;49m\u001b[39masdf\u001b[39;49m\u001b[39m'\u001b[39;49m})\n\u001b[0;32m      5\u001b[0m cur\u001b[39m.\u001b[39mfetchall()\n",
      "\u001b[1;31mIntegrityError\u001b[0m: UNIQUE constraint failed: PART.PNO"
     ]
    }
   ],
   "source": [
    "\n",
    "cur.execute('''\n",
    "    INSERT INTO PART\n",
    "            VALUES (:pno, :pname)    \n",
    "''', {'pno':1, 'pname':'screw', 'asdf':'asdf'})"
   ]
  },
  {
   "cell_type": "code",
   "execution_count": 54,
   "metadata": {},
   "outputs": [
    {
     "data": {
      "text/plain": [
       "[(1, 'screw')]"
      ]
     },
     "execution_count": 54,
     "metadata": {},
     "output_type": "execute_result"
    }
   ],
   "source": [
    "cur.execute('SELECT * FROM PART')\n",
    "cur.fetchall()"
   ]
  },
  {
   "cell_type": "code",
   "execution_count": 64,
   "metadata": {},
   "outputs": [
    {
     "ename": "ProgrammingError",
     "evalue": "Incorrect number of bindings supplied. The current statement uses 1, and there are 5 supplied.",
     "output_type": "error",
     "traceback": [
      "\u001b[1;31m---------------------------------------------------------------------------\u001b[0m",
      "\u001b[1;31mProgrammingError\u001b[0m                          Traceback (most recent call last)",
      "Cell \u001b[1;32mIn[64], line 2\u001b[0m\n\u001b[0;32m      1\u001b[0m data \u001b[39m=\u001b[39m  {\u001b[39m'\u001b[39m\u001b[39mpname\u001b[39m\u001b[39m'\u001b[39m:\u001b[39m'\u001b[39m\u001b[39mBolt\u001b[39m\u001b[39m'\u001b[39m, \u001b[39m'\u001b[39m\u001b[39mpname\u001b[39m\u001b[39m'\u001b[39m:\u001b[39m'\u001b[39m\u001b[39mNuut\u001b[39m\u001b[39m'\u001b[39m}\n\u001b[1;32m----> 2\u001b[0m cur\u001b[39m.\u001b[39;49mexecutemany(\u001b[39m'''\u001b[39;49m\n\u001b[0;32m      3\u001b[0m \u001b[39m    INSERT INTO PART\u001b[39;49m\n\u001b[0;32m      4\u001b[0m \u001b[39m    VALUES (NULL, :pname)    \u001b[39;49m\n\u001b[0;32m      5\u001b[0m \u001b[39m'''\u001b[39;49m, data)\n",
      "\u001b[1;31mProgrammingError\u001b[0m: Incorrect number of bindings supplied. The current statement uses 1, and there are 5 supplied."
     ]
    }
   ],
   "source": [
    "data =  {'pname':'Bolt', 'pname':'Nuut'}\n",
    "cur.executemany('''\n",
    "    INSERT INTO PART\n",
    "    VALUES (NULL, :pname)    \n",
    "''', data)"
   ]
  },
  {
   "cell_type": "markdown",
   "metadata": {},
   "source": []
  },
  {
   "cell_type": "code",
   "execution_count": 68,
   "metadata": {},
   "outputs": [
    {
     "data": {
      "text/plain": [
       "<sqlite3.Cursor at 0x1b9c945b9c0>"
      ]
     },
     "execution_count": 68,
     "metadata": {},
     "output_type": "execute_result"
    }
   ],
   "source": [
    "cur.execute('''\n",
    "    CREATE TABLE SELLS(\n",
    "        SNO INTEGER NOT NULL,\n",
    "        PNO INTEGER NOT NULL,\n",
    "        PRICE INTEGER NOT NULL\n",
    "    ) ;\n",
    "\n",
    "'''\n",
    ")"
   ]
  },
  {
   "cell_type": "code",
   "execution_count": 124,
   "metadata": {},
   "outputs": [
    {
     "ename": "OperationalError",
     "evalue": "no such table: CITY",
     "output_type": "error",
     "traceback": [
      "\u001b[1;31m---------------------------------------------------------------------------\u001b[0m",
      "\u001b[1;31mOperationalError\u001b[0m                          Traceback (most recent call last)",
      "Cell \u001b[1;32mIn[124], line 5\u001b[0m\n\u001b[0;32m      1\u001b[0m \u001b[39m# 반복문을 이용해서 SQL문의 데이터를 dict에 넣어주기\u001b[39;00m\n\u001b[0;32m      3\u001b[0m CITY \u001b[39m=\u001b[39m \u001b[39mdict\u001b[39m()\n\u001b[1;32m----> 5\u001b[0m cur\u001b[39m.\u001b[39;49mexecute(\u001b[39m'\u001b[39;49m\u001b[39mSELECT * FROM CITY\u001b[39;49m\u001b[39m'\u001b[39;49m)\n\u001b[0;32m      6\u001b[0m \u001b[39mfor\u001b[39;00m row \u001b[39min\u001b[39;00m cur\u001b[39m.\u001b[39mfetchall():\n\u001b[0;32m      7\u001b[0m     CITY[row[\u001b[39m1\u001b[39m]] \u001b[39m=\u001b[39m row[\u001b[39m0\u001b[39m]\n",
      "\u001b[1;31mOperationalError\u001b[0m: no such table: CITY"
     ]
    }
   ],
   "source": [
    "# 반복문을 이용해서 SQL문의 데이터를 dict에 넣어주기\n",
    "\n",
    "CITY = dict()\n",
    "\n",
    "cur.execute('SELECT * FROM CITY')\n",
    "for row in cur.fetchall():\n",
    "    CITY[row[1]] = row[0]\n",
    "CITY"
   ]
  },
  {
   "cell_type": "code",
   "execution_count": 82,
   "metadata": {},
   "outputs": [
    {
     "data": {
      "text/plain": [
       "<sqlite3.Cursor at 0x1b9c945b9c0>"
      ]
     },
     "execution_count": 82,
     "metadata": {},
     "output_type": "execute_result"
    }
   ],
   "source": [
    "cur.execute('''\n",
    "    CREATE TABLE SELLS2(\n",
    "        SNO INTEGER NOT NULL,\n",
    "        PNO INTEGER NOT NULL,\n",
    "        PRICE INTEGER NOT NULL\n",
    "    ) ;\n",
    "\n",
    "''')"
   ]
  },
  {
   "cell_type": "code",
   "execution_count": 83,
   "metadata": {},
   "outputs": [
    {
     "data": {
      "text/plain": [
       "<sqlite3.Cursor at 0x1b9c945b9c0>"
      ]
     },
     "execution_count": 83,
     "metadata": {},
     "output_type": "execute_result"
    }
   ],
   "source": [
    "data =[\n",
    "    (1,2,8),\n",
    "    (2,4, 38),\n",
    "    (3, 1, 11),\n",
    "    (3,3, 6),\n",
    "    (4, 2, 7),\n",
    "    (4, 3, 4),\n",
    "    (4, 4, 45)\n",
    "]\n",
    "\n",
    "cur.executemany('INSERT INTO SELLS2 VALUES(?, ?, ?)', data)"
   ]
  },
  {
   "cell_type": "code",
   "execution_count": 84,
   "metadata": {},
   "outputs": [
    {
     "data": {
      "text/plain": [
       "[(1, 2, 8),\n",
       " (2, 4, 38),\n",
       " (3, 1, 11),\n",
       " (3, 3, 6),\n",
       " (4, 2, 7),\n",
       " (4, 3, 4),\n",
       " (4, 4, 45)]"
      ]
     },
     "execution_count": 84,
     "metadata": {},
     "output_type": "execute_result"
    }
   ],
   "source": [
    "cur.execute('SELECT * FROM SELLS2')\n",
    "cur.fetchall()"
   ]
  },
  {
   "cell_type": "code",
   "execution_count": 88,
   "metadata": {},
   "outputs": [
    {
     "data": {
      "text/plain": [
       "[(1, 'LONDON', 1, 'Smith', 1),\n",
       " (1, 'LONDON', 2, 'Jones', 2),\n",
       " (1, 'LONDON', 3, 'Adams', 1),\n",
       " (1, 'LONDON', 4, 'Blake', 3),\n",
       " (2, 'PARIS', 1, 'Smith', 1),\n",
       " (2, 'PARIS', 2, 'Jones', 2),\n",
       " (2, 'PARIS', 3, 'Adams', 1),\n",
       " (2, 'PARIS', 4, 'Blake', 3),\n",
       " (3, 'ROME', 1, 'Smith', 1),\n",
       " (3, 'ROME', 2, 'Jones', 2),\n",
       " (3, 'ROME', 3, 'Adams', 1),\n",
       " (3, 'ROME', 4, 'Blake', 3),\n",
       " (4, 'ROME', 1, 'Smith', 1),\n",
       " (4, 'ROME', 2, 'Jones', 2),\n",
       " (4, 'ROME', 3, 'Adams', 1),\n",
       " (4, 'ROME', 4, 'Blake', 3)]"
      ]
     },
     "execution_count": 88,
     "metadata": {},
     "output_type": "execute_result"
    }
   ],
   "source": [
    "cur.execute('SELECT * FROM CITY, SUPPLIER')\n",
    "cur.fetchall()"
   ]
  },
  {
   "cell_type": "code",
   "execution_count": 94,
   "metadata": {},
   "outputs": [
    {
     "data": {
      "text/plain": [
       "[('LONDON', 'Smith'),\n",
       " ('PARIS', 'Jones'),\n",
       " ('LONDON', 'Adams'),\n",
       " ('ROME', 'Blake')]"
      ]
     },
     "execution_count": 94,
     "metadata": {},
     "output_type": "execute_result"
    }
   ],
   "source": [
    "#73 JOIN 실습\n",
    "cur.execute('''\n",
    "            SELECT SUPPLIER.SNAME, CITY.CNAME\n",
    "            FROM CITY, SUPPLIER\n",
    "            WHERE CITY.CNO = SUPPLIER.CNO ''')\n",
    "cur.fetchall()"
   ]
  },
  {
   "cell_type": "code",
   "execution_count": null,
   "metadata": {},
   "outputs": [],
   "source": [
    "# 위 테이블에서 지역별 이름과 갯수를 출력하라\n",
    "cur.execute(\n",
    "    \n",
    ")"
   ]
  },
  {
   "cell_type": "markdown",
   "metadata": {},
   "source": [
    "집계함수\n",
    "- COUNT\n",
    "- AVERAGE\n",
    "- "
   ]
  },
  {
   "cell_type": "code",
   "execution_count": null,
   "metadata": {},
   "outputs": [],
   "source": [
    "# SELL 테이블의 SNO와 PNO를 이름으로 변경하고, PRICE가 가장 높은 상위를 3개를 출력하라\n",
    "# SELL 테이블의 SNO와 PNO를 이름으로 변경하고, PART를 기준으로 그룹을 지어서 가장 많이 팔린 부품 기준으로 정렬하고 그 가격 합을 구하라"
   ]
  },
  {
   "cell_type": "markdown",
   "metadata": {},
   "source": [
    "SELECT * FROM A, B WHER A.a = B.b 방식은 CROSS JOIN 데이터가 많아지면 비효율적이다."
   ]
  },
  {
   "cell_type": "code",
   "execution_count": null,
   "metadata": {},
   "outputs": [],
   "source": [
    "con.close()"
   ]
  },
  {
   "cell_type": "markdown",
   "metadata": {},
   "source": [
    "# t"
   ]
  },
  {
   "cell_type": "code",
   "execution_count": 104,
   "metadata": {},
   "outputs": [],
   "source": [
    "con = sqlite3.connect('0905.db')\n",
    "cur = con.cursor()"
   ]
  },
  {
   "cell_type": "code",
   "execution_count": 106,
   "metadata": {},
   "outputs": [
    {
     "ename": "OperationalError",
     "evalue": "table PART already exists",
     "output_type": "error",
     "traceback": [
      "\u001b[1;31m---------------------------------------------------------------------------\u001b[0m",
      "\u001b[1;31mOperationalError\u001b[0m                          Traceback (most recent call last)",
      "Cell \u001b[1;32mIn[106], line 1\u001b[0m\n\u001b[1;32m----> 1\u001b[0m cur\u001b[39m.\u001b[39;49mexecute(\u001b[39m'''\u001b[39;49m\n\u001b[0;32m      2\u001b[0m \u001b[39m    CREATE TABLE PART(\u001b[39;49m\n\u001b[0;32m      3\u001b[0m \u001b[39m        PNO INTEGER PRIMARY KEY,\u001b[39;49m\n\u001b[0;32m      4\u001b[0m \u001b[39m        PNAME TEXT\u001b[39;49m\n\u001b[0;32m      5\u001b[0m \u001b[39m    )\u001b[39;49m\n\u001b[0;32m      6\u001b[0m \u001b[39m'''\u001b[39;49m)\n\u001b[0;32m      7\u001b[0m \u001b[39m# commit의 개념\u001b[39;00m\n",
      "\u001b[1;31mOperationalError\u001b[0m: table PART already exists"
     ]
    }
   ],
   "source": [
    "cur.execute('''\n",
    "    CREATE TABLE PART(\n",
    "        PNO INTEGER PRIMARY KEY,\n",
    "        PNAME TEXT\n",
    "    )\n",
    "''')\n",
    "# commit의 개념"
   ]
  },
  {
   "cell_type": "code",
   "execution_count": 108,
   "metadata": {},
   "outputs": [
    {
     "data": {
      "text/plain": [
       "<sqlite3.Cursor at 0x1b9ca2d8f40>"
      ]
     },
     "execution_count": 108,
     "metadata": {},
     "output_type": "execute_result"
    }
   ],
   "source": [
    "cur.executescript('''\n",
    "    INSERT INTO PART(PNAME) VALUES('Bolt');\n",
    "    INSERT INTO PART VALUES(NULL, 'Nut');\n",
    "    INSERT INTO PART VALUES(4, 'Cam');\n",
    "''')"
   ]
  },
  {
   "cell_type": "code",
   "execution_count": 109,
   "metadata": {},
   "outputs": [
    {
     "data": {
      "text/plain": [
       "[(1, 'Screw'), (2, 'Bolt'), (3, 'Nut'), (4, 'Cam')]"
      ]
     },
     "execution_count": 109,
     "metadata": {},
     "output_type": "execute_result"
    }
   ],
   "source": [
    "cur.execute('SELECT * FROM PART')\n",
    "cur.fetchall()"
   ]
  },
  {
   "cell_type": "code",
   "execution_count": null,
   "metadata": {},
   "outputs": [],
   "source": []
  },
  {
   "cell_type": "code",
   "execution_count": 110,
   "metadata": {},
   "outputs": [],
   "source": []
  },
  {
   "cell_type": "code",
   "execution_count": 111,
   "metadata": {},
   "outputs": [],
   "source": []
  },
  {
   "cell_type": "code",
   "execution_count": 112,
   "metadata": {},
   "outputs": [
    {
     "data": {
      "text/plain": [
       "[(1, 'Screw'), (2, 'Bolt'), (3, 'Nut'), (4, 'Cam')]"
      ]
     },
     "execution_count": 112,
     "metadata": {},
     "output_type": "execute_result"
    }
   ],
   "source": []
  },
  {
   "cell_type": "code",
   "execution_count": 113,
   "metadata": {},
   "outputs": [
    {
     "ename": "SyntaxError",
     "evalue": "invalid syntax (305459929.py, line 1)",
     "output_type": "error",
     "traceback": [
      "\u001b[1;36m  Cell \u001b[1;32mIn[113], line 1\u001b[1;36m\u001b[0m\n\u001b[1;33m    DB Browser for SQLite\u001b[0m\n\u001b[1;37m       ^\u001b[0m\n\u001b[1;31mSyntaxError\u001b[0m\u001b[1;31m:\u001b[0m invalid syntax\n"
     ]
    }
   ],
   "source": [
    "# DB Browser for SQLite 활용하기 (다운 완료)"
   ]
  },
  {
   "cell_type": "code",
   "execution_count": 117,
   "metadata": {},
   "outputs": [
    {
     "data": {
      "text/plain": [
       "<sqlite3.Cursor at 0x1b9ca2e85c0>"
      ]
     },
     "execution_count": 117,
     "metadata": {},
     "output_type": "execute_result"
    }
   ],
   "source": [
    "con.execute('''\n",
    "            INSERT INTO PART VALUES(5, 'part1');\n",
    "            ''')\n"
   ]
  },
  {
   "cell_type": "code",
   "execution_count": 118,
   "metadata": {},
   "outputs": [],
   "source": [
    "con.close()"
   ]
  },
  {
   "cell_type": "code",
   "execution_count": 119,
   "metadata": {},
   "outputs": [],
   "source": [
    "con = sqlite3.connect('0905.db')\n",
    "cur = con.cursor()"
   ]
  },
  {
   "cell_type": "code",
   "execution_count": 121,
   "metadata": {},
   "outputs": [
    {
     "data": {
      "text/plain": [
       "[(1, 'Screw'), (2, 'Bolt'), (3, 'Nut'), (4, 'Cam')]"
      ]
     },
     "execution_count": 121,
     "metadata": {},
     "output_type": "execute_result"
    }
   ],
   "source": [
    "cur.execute('SELECT * FROM PART')\n",
    "cur.fetchall()"
   ]
  },
  {
   "cell_type": "code",
   "execution_count": 157,
   "metadata": {},
   "outputs": [],
   "source": [
    "con.close()"
   ]
  },
  {
   "cell_type": "code",
   "execution_count": 158,
   "metadata": {},
   "outputs": [],
   "source": [
    "con = sqlite3.connect(\"0905.db\")"
   ]
  },
  {
   "cell_type": "code",
   "execution_count": 159,
   "metadata": {},
   "outputs": [],
   "source": [
    "cur = con.cursor()"
   ]
  },
  {
   "cell_type": "code",
   "execution_count": 161,
   "metadata": {},
   "outputs": [
    {
     "ename": "OperationalError",
     "evalue": "database is locked",
     "output_type": "error",
     "traceback": [
      "\u001b[1;31m---------------------------------------------------------------------------\u001b[0m",
      "\u001b[1;31mOperationalError\u001b[0m                          Traceback (most recent call last)",
      "Cell \u001b[1;32mIn[161], line 1\u001b[0m\n\u001b[1;32m----> 1\u001b[0m cur\u001b[39m.\u001b[39;49mexecutescript(\u001b[39m'''\u001b[39;49m\n\u001b[0;32m      2\u001b[0m \u001b[39m    CREATE TABLE MAP(\u001b[39;49m\n\u001b[0;32m      3\u001b[0m \u001b[39m        PK INTEGER NOT NULL UNIQUE,\u001b[39;49m\n\u001b[0;32m      4\u001b[0m \u001b[39m        NAME TEXT NOT NULL)\u001b[39;49m\n\u001b[0;32m      5\u001b[0m \u001b[39m    ;\u001b[39;49m\n\u001b[0;32m      6\u001b[0m \u001b[39m    \u001b[39;49m\n\u001b[0;32m      7\u001b[0m \u001b[39m    INSERT INTO TEMP VALUES (1, \u001b[39;49m\u001b[39m\"\u001b[39;49m\u001b[39m테스트1\u001b[39;49m\u001b[39m\"\u001b[39;49m\u001b[39m) ;\u001b[39;49m\n\u001b[0;32m      8\u001b[0m \u001b[39m    )\u001b[39;49m\n\u001b[0;32m      9\u001b[0m \u001b[39m'''\u001b[39;49m)\n",
      "\u001b[1;31mOperationalError\u001b[0m: database is locked"
     ]
    }
   ],
   "source": [
    "cur.executescript('''\n",
    "    CREATE TABLE MAP(\n",
    "        PK INTEGER NOT NULL UNIQUE,\n",
    "        NAME TEXT NOT NULL)\n",
    "    ;\n",
    "    \n",
    "    INSERT INTO TEMP VALUES (1, \"테스트1\") ;\n",
    "    )\n",
    "''')"
   ]
  },
  {
   "cell_type": "code",
   "execution_count": 162,
   "metadata": {},
   "outputs": [],
   "source": [
    "con.close()"
   ]
  },
  {
   "cell_type": "code",
   "execution_count": 163,
   "metadata": {},
   "outputs": [],
   "source": [
    "con = sqlite3.connect('sns.db')\n",
    "cur = con.cursor()"
   ]
  },
  {
   "cell_type": "code",
   "execution_count": 164,
   "metadata": {},
   "outputs": [
    {
     "data": {
      "text/plain": [
       "<sqlite3.Cursor at 0x1b9ca2898c0>"
      ]
     },
     "execution_count": 164,
     "metadata": {},
     "output_type": "execute_result"
    }
   ],
   "source": [
    "# 3가지 테이블 만들기\n",
    "cur.executescript('''\n",
    "    CREATE TABLE POST(\n",
    "        PK INTEGET PRIMARKY KEY,\n",
    "        CONTENT TEXT\n",
    "    );\n",
    "\n",
    "    CREATE TABLE HASHTAG(\n",
    "        PK INTEGER PRIMARY KEY,\n",
    "        COUNT INTEGER DEFAULT 0,\n",
    "        NAME TEXT\n",
    "    );\n",
    "\n",
    "    CREATE TABLE POSTTAG(\n",
    "        PPK INTEGER NOT NULL,\n",
    "        HPK INTEGER NOT NULL\n",
    "    );\n",
    "''')"
   ]
  },
  {
   "cell_type": "code",
   "execution_count": null,
   "metadata": {},
   "outputs": [],
   "source": [
    "# 해쉬태그 풀을 만들고, 풀에 있으면 PK, 없으면 새롭게 INSERT\n",
    "data ={'tag':'Python'}\n",
    "\n",
    "cur.execute('''SELECT PK FROM HASHTAG \n",
    "    WHERE NAEM =:tag\n",
    "    LIMIT 0, 1''', data)\n",
    "\n",
    "rst = cur.fetchone()\n"
   ]
  },
  {
   "cell_type": "markdown",
   "metadata": {},
   "source": [
    "## ORM"
   ]
  },
  {
   "cell_type": "markdown",
   "metadata": {},
   "source": [
    "ORM"
   ]
  },
  {
   "cell_type": "code",
   "execution_count": 169,
   "metadata": {},
   "outputs": [],
   "source": [
    "from sqlalchemy import create_engine, MetaData\n",
    "from sqlalchemy.schema import Table, Column, ForeignKey\n",
    "from sqlalchemy.types import Integer, Text"
   ]
  },
  {
   "cell_type": "code",
   "execution_count": 167,
   "metadata": {},
   "outputs": [],
   "source": [
    "engine = create_engine('sqlite:///:memory:', echo = True) # DBMS에 따라 옵션이 다르다, 우리는 SQLite\n"
   ]
  },
  {
   "cell_type": "code",
   "execution_count": 170,
   "metadata": {},
   "outputs": [],
   "source": [
    "meta = MetaData()"
   ]
  },
  {
   "cell_type": "code",
   "execution_count": 172,
   "metadata": {},
   "outputs": [],
   "source": [
    "user = Table('USER', meta, \n",
    "    Column('pk', Integer, primary_key = True),\n",
    "    Column('NAME', Text)\n",
    "    )"
   ]
  },
  {
   "cell_type": "code",
   "execution_count": 174,
   "metadata": {},
   "outputs": [
    {
     "name": "stdout",
     "output_type": "stream",
     "text": [
      "2023-09-05 12:24:41,920 INFO sqlalchemy.engine.Engine BEGIN (implicit)\n",
      "2023-09-05 12:24:41,923 INFO sqlalchemy.engine.Engine PRAGMA main.table_info(\"USER\")\n",
      "2023-09-05 12:24:41,923 INFO sqlalchemy.engine.Engine [raw sql] ()\n",
      "2023-09-05 12:24:41,924 INFO sqlalchemy.engine.Engine PRAGMA temp.table_info(\"USER\")\n",
      "2023-09-05 12:24:41,925 INFO sqlalchemy.engine.Engine [raw sql] ()\n",
      "2023-09-05 12:24:41,926 INFO sqlalchemy.engine.Engine \n",
      "CREATE TABLE \"USER\" (\n",
      "\tpk INTEGER NOT NULL, \n",
      "\t\"NAME\" TEXT, \n",
      "\tPRIMARY KEY (pk)\n",
      ")\n",
      "\n",
      "\n",
      "2023-09-05 12:24:41,928 INFO sqlalchemy.engine.Engine [no key 0.00063s] ()\n",
      "2023-09-05 12:24:41,929 INFO sqlalchemy.engine.Engine COMMIT\n"
     ]
    }
   ],
   "source": [
    "meta.create_all(engine)"
   ]
  }
 ],
 "metadata": {
  "kernelspec": {
   "display_name": "Python 3",
   "language": "python",
   "name": "python3"
  },
  "language_info": {
   "codemirror_mode": {
    "name": "ipython",
    "version": 3
   },
   "file_extension": ".py",
   "mimetype": "text/x-python",
   "name": "python",
   "nbconvert_exporter": "python",
   "pygments_lexer": "ipython3",
   "version": "3.11.1"
  },
  "orig_nbformat": 4
 },
 "nbformat": 4,
 "nbformat_minor": 2
}
