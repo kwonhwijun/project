{
 "cells": [
  {
   "cell_type": "code",
   "execution_count": 1,
   "metadata": {},
   "outputs": [],
   "source": [
    "import zipfile\n",
    "\n",
    "filepath = r'C:\\Users\\kwon\\project\\project\\dacon\\resume\\data.zip'\n",
    "folder = r'C:\\Users\\kwon\\project\\project\\dacon\\resume\\data'\n",
    "\n",
    "with zipfile.ZipFile(filepath, 'r') as zip_ref :\n",
    "    zip_ref.extractall(folder)"
   ]
  },
  {
   "cell_type": "code",
   "execution_count": 2,
   "metadata": {},
   "outputs": [],
   "source": [
    "import pandas as pd\n",
    "import os\n",
    "\n",
    "data = {}\n",
    "data_path = r'C:\\Users\\kwon\\project\\project\\dacon\\resume\\data'\n",
    "for fname in os.listdir(data_path):\n",
    "    if fname.endswith('.csv'):\n",
    "        file_path = os.path.join(data_path, fname)\n",
    "        data[fname.rsplit('.', 1)[0]] = pd.read_csv(file_path)\n"
   ]
  },
  {
   "cell_type": "markdown",
   "metadata": {},
   "source": [
    "### 데이터 쪼개기"
   ]
  },
  {
   "cell_type": "code",
   "execution_count": 11,
   "metadata": {},
   "outputs": [],
   "source": [
    "apply = data['apply_train']"
   ]
  },
  {
   "cell_type": "code",
   "execution_count": 12,
   "metadata": {},
   "outputs": [],
   "source": [
    "from sklearn.model_selection import train_test_split\n",
    "\n",
    "apply_train_df, apply_test_df = train_test_split(apply, test_size= 0.25)"
   ]
  },
  {
   "cell_type": "markdown",
   "metadata": {},
   "source": [
    "### CSR 매트릭스"
   ]
  },
  {
   "cell_type": "code",
   "execution_count": 3,
   "metadata": {},
   "outputs": [],
   "source": [
    "import pandas as pd\n",
    "import numpy as np\n",
    "from sklearn.metrics.pairwise import cosine_similarity"
   ]
  },
  {
   "cell_type": "code",
   "execution_count": 13,
   "metadata": {},
   "outputs": [],
   "source": [
    "user_item_matrix = apply_train_df.groupby(['resume_seq', 'recruitment_seq']).size().unstack(fill_value=0)"
   ]
  },
  {
   "cell_type": "code",
   "execution_count": 14,
   "metadata": {},
   "outputs": [],
   "source": [
    "from scipy.sparse import csr_matrix\n",
    "user_item = csr_matrix(user_item_matrix)"
   ]
  },
  {
   "cell_type": "code",
   "execution_count": 21,
   "metadata": {},
   "outputs": [
    {
     "name": "stdout",
     "output_type": "stream",
     "text": [
      "  (0, 4524)\t1\n",
      "  (0, 5197)\t1\n",
      "  (1, 1100)\t1\n",
      "  (1, 1727)\t1\n",
      "  (1, 1956)\t1\n",
      "  (1, 2942)\t1\n",
      "  (1, 4576)\t1\n",
      "  (1, 5459)\t1\n",
      "  (1, 6006)\t1\n",
      "  (2, 1457)\t1\n",
      "  (2, 3293)\t1\n",
      "  (2, 4905)\t1\n",
      "  (3, 3)\t1\n",
      "  (3, 311)\t1\n",
      "  (3, 1065)\t1\n",
      "  (3, 1508)\t1\n",
      "  (3, 1744)\t1\n",
      "  (3, 1822)\t1\n",
      "  (3, 1999)\t1\n",
      "  (3, 2351)\t1\n",
      "  (3, 2895)\t1\n",
      "  (3, 3917)\t1\n",
      "  (3, 4697)\t1\n",
      "  (3, 4878)\t1\n",
      "  (3, 5328)\t1\n",
      "  :\t:\n",
      "  (8328, 2264)\t1\n",
      "  (8328, 4091)\t1\n",
      "  (8328, 6620)\t1\n",
      "  (8329, 881)\t1\n",
      "  (8329, 3493)\t1\n",
      "  (8329, 4354)\t1\n",
      "  (8330, 889)\t1\n",
      "  (8330, 1550)\t1\n",
      "  (8330, 3736)\t1\n",
      "  (8331, 3952)\t1\n",
      "  (8332, 886)\t1\n",
      "  (8332, 5455)\t1\n",
      "  (8333, 1995)\t1\n",
      "  (8334, 2166)\t1\n",
      "  (8334, 3931)\t1\n",
      "  (8335, 1467)\t1\n",
      "  (8335, 2783)\t1\n",
      "  (8335, 2984)\t1\n",
      "  (8335, 3829)\t1\n",
      "  (8335, 4027)\t1\n",
      "  (8335, 4185)\t1\n",
      "  (8336, 3145)\t1\n",
      "  (8337, 3625)\t1\n",
      "  (8337, 3735)\t1\n",
      "  (8337, 6269)\t1\n"
     ]
    }
   ],
   "source": [
    "print(user_item)"
   ]
  },
  {
   "cell_type": "code",
   "execution_count": 22,
   "metadata": {},
   "outputs": [
    {
     "name": "stderr",
     "output_type": "stream",
     "text": [
      "c:\\Users\\kwon\\project\\project\\dacon\\resume\\venv\\Lib\\site-packages\\implicit\\utils.py:164: ParameterWarning: Method expects CSR input, and was passed csc_matrix instead. Converting to CSR took 0.001001119613647461 seconds\n",
      "  warnings.warn(\n"
     ]
    },
    {
     "data": {
      "application/vnd.jupyter.widget-view+json": {
       "model_id": "ed62adf11a4c442f9d6678a563215d5b",
       "version_major": 2,
       "version_minor": 0
      },
      "text/plain": [
       "  0%|          | 0/20 [00:00<?, ?it/s]"
      ]
     },
     "metadata": {},
     "output_type": "display_data"
    },
    {
     "data": {
      "text/plain": [
       "(array([6654, 7813, 5519, 3551, 2251, 2721, 3677,    5,  490, 5964]),\n",
       " array([0.00237361, 0.00171669, 0.00160679, 0.00157252, 0.00126443,\n",
       "        0.00122785, 0.00121791, 0.00117051, 0.00116878, 0.00113847],\n",
       "       dtype=float32))"
      ]
     },
     "execution_count": 22,
     "metadata": {},
     "output_type": "execute_result"
    }
   ],
   "source": [
    "import implicit\n",
    "import numpy as np\n",
    "\n",
    "model = implicit.als.AlternatingLeastSquares(factors=5, iterations=20)\n",
    "model.fit(user_item.T)\n",
    "user_id = 10\n",
    "\n",
    "model.recommend(user_id, user_item.T[user_id], N = 10, filter_already_liked_items=False)"
   ]
  },
  {
   "cell_type": "code",
   "execution_count": 27,
   "metadata": {},
   "outputs": [],
   "source": [
    "item_id, _ = model.recommend(user_id, user_item.T[10], N=5, filter_already_liked_items=False)"
   ]
  },
  {
   "cell_type": "code",
   "execution_count": 28,
   "metadata": {},
   "outputs": [
    {
     "data": {
      "text/plain": [
       "(array([1004,  120, 6742, 4299, 6169]),\n",
       " array([0.0045308 , 0.00403419, 0.00353407, 0.00352699, 0.00323935],\n",
       "       dtype=float32))"
      ]
     },
     "execution_count": 28,
     "metadata": {},
     "output_type": "execute_result"
    }
   ],
   "source": [
    "item_id, _"
   ]
  },
  {
   "cell_type": "code",
   "execution_count": 24,
   "metadata": {},
   "outputs": [
    {
     "name": "stderr",
     "output_type": "stream",
     "text": [
      "c:\\Users\\kwon\\project\\project\\dacon\\resume\\venv\\Lib\\site-packages\\implicit\\utils.py:164: ParameterWarning: Method expects CSR input, and was passed csc_matrix instead. Converting to CSR took 0.0 seconds\n",
      "  warnings.warn(\n"
     ]
    },
    {
     "data": {
      "application/vnd.jupyter.widget-view+json": {
       "model_id": "4426f31966314649b84728a7059cad2d",
       "version_major": 2,
       "version_minor": 0
      },
      "text/plain": [
       "  0%|          | 0/20 [00:00<?, ?it/s]"
      ]
     },
     "metadata": {},
     "output_type": "display_data"
    },
    {
     "ename": "ValueError",
     "evalue": "too many values to unpack (expected 2)",
     "output_type": "error",
     "traceback": [
      "\u001b[1;31m---------------------------------------------------------------------------\u001b[0m",
      "\u001b[1;31mValueError\u001b[0m                                Traceback (most recent call last)",
      "\u001b[1;32mc:\\Users\\kwon\\project\\project\\dacon\\resume\\resume2.ipynb Cell 12\u001b[0m line \u001b[0;36m1\n\u001b[0;32m      <a href='vscode-notebook-cell:/c%3A/Users/kwon/project/project/dacon/resume/resume2.ipynb#X16sZmlsZQ%3D%3D?line=7'>8</a>\u001b[0m     recs \u001b[39m=\u001b[39m model\u001b[39m.\u001b[39mrecommend(user_id, user_item\u001b[39m.\u001b[39mT[user_id], N\u001b[39m=\u001b[39m\u001b[39m5\u001b[39m, filter_already_liked_items\u001b[39m=\u001b[39m\u001b[39mFalse\u001b[39;00m)\n\u001b[0;32m     <a href='vscode-notebook-cell:/c%3A/Users/kwon/project/project/dacon/resume/resume2.ipynb#X16sZmlsZQ%3D%3D?line=9'>10</a>\u001b[0m     \u001b[39m# 추천 항목을 원하는 형식으로 변환하여 recommendations 리스트에 추가\u001b[39;00m\n\u001b[1;32m---> <a href='vscode-notebook-cell:/c%3A/Users/kwon/project/project/dacon/resume/resume2.ipynb#X16sZmlsZQ%3D%3D?line=10'>11</a>\u001b[0m     \u001b[39mfor\u001b[39;00m item_id, _ \u001b[39min\u001b[39;00m recs:\n\u001b[0;32m     <a href='vscode-notebook-cell:/c%3A/Users/kwon/project/project/dacon/resume/resume2.ipynb#X16sZmlsZQ%3D%3D?line=11'>12</a>\u001b[0m         recommendations\u001b[39m.\u001b[39mappend(\u001b[39mf\u001b[39m\u001b[39m\"\u001b[39m\u001b[39mU\u001b[39m\u001b[39m{\u001b[39;00m\u001b[39mstr\u001b[39m(user_id)\u001b[39m.\u001b[39mzfill(\u001b[39m5\u001b[39m)\u001b[39m}\u001b[39;00m\u001b[39m,R\u001b[39m\u001b[39m{\u001b[39;00m\u001b[39mstr\u001b[39m(item_id)\u001b[39m.\u001b[39mzfill(\u001b[39m5\u001b[39m)\u001b[39m}\u001b[39;00m\u001b[39m\"\u001b[39m)\n\u001b[0;32m     <a href='vscode-notebook-cell:/c%3A/Users/kwon/project/project/dacon/resume/resume2.ipynb#X16sZmlsZQ%3D%3D?line=13'>14</a>\u001b[0m \u001b[39m# 결과 출력\u001b[39;00m\n",
      "\u001b[1;31mValueError\u001b[0m: too many values to unpack (expected 2)"
     ]
    }
   ],
   "source": [
    "model = implicit.als.AlternatingLeastSquares(factors=5, iterations=20)\n",
    "model.fit(user_item.T)\n",
    "\n",
    "recommendations = []\n",
    "\n",
    "for user_id in range(1, 10):\n",
    "    # 각 사용자에 대한 5개의 추천 항목 얻기\n",
    "    recs = model.recommend(user_id, user_item.T[user_id], N=5, filter_already_liked_items=False)\n",
    "    \n",
    "    # 추천 항목을 원하는 형식으로 변환하여 recommendations 리스트에 추가\n",
    "    for item_id, _ in recs:\n",
    "        recommendations.append(f\"U{str(user_id).zfill(5)},R{str(item_id).zfill(5)}\")\n",
    "\n",
    "# 결과 출력\n",
    "for rec in recommendations:\n",
    "    print(rec)"
   ]
  }
 ],
 "metadata": {
  "kernelspec": {
   "display_name": "venv",
   "language": "python",
   "name": "python3"
  },
  "language_info": {
   "codemirror_mode": {
    "name": "ipython",
    "version": 3
   },
   "file_extension": ".py",
   "mimetype": "text/x-python",
   "name": "python",
   "nbconvert_exporter": "python",
   "pygments_lexer": "ipython3",
   "version": "3.11.4"
  }
 },
 "nbformat": 4,
 "nbformat_minor": 2
}
