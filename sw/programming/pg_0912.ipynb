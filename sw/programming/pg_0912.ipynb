{
 "cells": [
  {
   "cell_type": "markdown",
   "metadata": {},
   "source": [
    "### Note\n",
    "- Dunder method (Magic Method)\n",
    "- predicate"
   ]
  },
  {
   "cell_type": "code",
   "execution_count": null,
   "metadata": {},
   "outputs": [],
   "source": [
    "N"
   ]
  },
  {
   "cell_type": "markdown",
   "metadata": {},
   "source": [
    "- 파이썬 map -> R의 apply\n",
    "- generator는 comprehension이 아니다(?)"
   ]
  },
  {
   "cell_type": "markdown",
   "metadata": {},
   "source": [
    "- predicate : T/F를 반환하는 함수 \n",
    "- filter(predciate, iter) : True일 떄만 iter를 반환\n",
    "  - for문으로 만들 수 있다. \n",
    "- T/F로 나오는 함수\n",
    "  - callable\n",
    "  - is()"
   ]
  },
  {
   "cell_type": "markdown",
   "metadata": {},
   "source": [
    "### predicate"
   ]
  },
  {
   "cell_type": "code",
   "execution_count": null,
   "metadata": {},
   "outputs": [],
   "source": [
    "[i for i in range(10) if i %2 ==0] # comprehension 과 for 문으로 만들기\n",
    "result = list(filter(lambda x : x%2 ==0, list(range(10)))) # filter, lambda로 만들기"
   ]
  },
  {
   "cell_type": "markdown",
   "metadata": {},
   "source": [
    "### operator\n",
    "- 함수형 프로그래밍에는 연산자가 없다 -> 함수로 만들어서 처리\n",
    "- 연산자는 내부적으로 메소드로 처리 된다.\n",
    "- 연산자 오버로딩 : 데이터 타입에 따른 연산자의 메소드를 정해줘야한다 (다를 수 있다)\n",
    "- 클래스의 ()를 붙여주는 것도 연산자이다. ()를 붙이면 __new__와 __init__가 실행되는 것.\n",
    "- 함수형 패러다임에서는 연산자를 사용하지 않는다 -> 연산자를 없애버리면 합성함수를 용이하게 사용할 수 있다. "
   ]
  },
  {
   "cell_type": "code",
   "execution_count": null,
   "metadata": {},
   "outputs": [],
   "source": [
    "class A:\n",
    "    def __add__(self, x) :\n",
    "        print(\"ㅈㄱ\")\n",
    "\n",
    "a= A()\n",
    "a + 3 # operator + 가 "
   ]
  },
  {
   "cell_type": "markdown",
   "metadata": {},
   "source": [
    "- 연산자를 사용하지 않기"
   ]
  },
  {
   "cell_type": "code",
   "execution_count": null,
   "metadata": {},
   "outputs": [],
   "source": [
    "from operator import add, mul\n",
    "add(1, 3), add([1,2,3], [1, 2, 3]) ### 제네릭 : 데이터 형에 따라 오퍼레이터가 다르게 쓰인다. (Single Dispatch)"
   ]
  },
  {
   "cell_type": "code",
   "execution_count": null,
   "metadata": {},
   "outputs": [],
   "source": [
    "from functools import reduce\n",
    "print(reduce(lambda x, y : x+y, [1, 2, 3, 4, 5]))\n",
    "reduce(add, list(range(1, 6))) , reduce(mul, list(range(1, 6)))"
   ]
  },
  {
   "cell_type": "code",
   "execution_count": null,
   "metadata": {},
   "outputs": [],
   "source": [
    "class A:\n",
    "    pass\n",
    "dir(A) # 많은 라이브러리가 출력되는 이유 ? -> A(object)가 생략되어 있는 것\n",
    "# 상속의 개념으로 A()의 부모에 있는 메소드들을 상속받아서 사용하는 것 (오버라이딩)\n"
   ]
  },
  {
   "cell_type": "markdown",
   "metadata": {},
   "source": [
    "- 추상화를 상속관점에서 사용할 수 있다.\n",
    "- "
   ]
  },
  {
   "cell_type": "markdown",
   "metadata": {},
   "source": [
    "### 1500~"
   ]
  },
  {
   "cell_type": "markdown",
   "metadata": {},
   "source": [
    "- 객체지향.pdf\n",
    "- 프로그래밍에서 data, value의 차이점 : data는 메모리 상에서 아무 의미가 없음. value는 데이터에 해석이 더해진 것.\n",
    "- 프로그래밍 언어 따라 문제 해결의 방법이 달라질 수 있다(?) -> 명령헝 언어와 선언형 언어에 따라 달라진다. (https://docs.python.org/3/howto/functional.html) 꼭 일어 보기\n",
    "- 객체 지향 프로그래밍 : 클래스를 선언하는 것이지만, 객체의 관점에서 운용하므로 객체 지향\n"
   ]
  },
  {
   "cell_type": "markdown",
   "metadata": {},
   "source": [
    "객체 지향 프로그래밍의 특징\n",
    "- 상속, 다형성 등을 이용해 재사용성 증가\n",
    "    - 함수의 다형성 : 데이터 타입에 따라 함수의 작용이 달라지는 것\n",
    "    - 함수의 다형성이 없는 C같은 언어는 함수가 너무 많아져버린다.\n",
    "- 제약을 통해 실수로 인한 실수를 줄여준다(파이썬에는 해당 X)\n",
    "- 유지보수, 테스트에 용이하고 협업에 유리하다 (SoC)\n",
    "\n",
    "1. 추상화\n",
    "   1. 프로젝트 협업에서 추상화가 중요하다.\n",
    "   2. 추상화 : 필요 없는 정보 제외하고 필요로 하는 속성 행동만을 추출\n",
    "2. 캡슐화\n",
    "   1. 정보 은닉\n",
    "   2. 요구사항 변경에 대처하는 고전적인 설계원리\n",
    "      1. 응집도(cohesion)\n",
    "      2. 결합도(coupking)\n",
    "   - 결합이 많을수록 문제가 발생한다(<-> 함수형 패러다임에서는 문제가 발생하지 않는다(딥러닝))\n",
    "   - 너무 많이 쪼개도 결합하는 것이 어렵다..(경험의 중요성)\n",
    "3. 다형성\n",
    "   1. 오버로딩과 오버라이딩 비교\n",
    "      1. 파이썬에서는 함수 오버로딩 개념이 기본적으로는 없다\n",
    "      2. 데코레이터를 사용하는 경우에만 함수 오버로딩 사용이 가능하다.\n",
    "      3. 파이썬에서는 연산자 오버로딩이 존재한다\n",
    "   2. 제네릭 함수\n",
    "      1. 하나의 함수가 데이터의 타입에 따라 다른 동작을 하는 함수\n",
    "      2. 제네릭 함수는 디스패치로 만들 수 있다. \n",
    "4. 상속\n",
    "   1. 다중상속\n",
    "      1. 파이썬에서는 다중상속을 쉽게 사용할 수 있지만, 문제를 만들 수 있는 여지가 많다. (다이아몬드 상속 등)\n",
    "      2. 될 수 있으면 사용을 자제하는 것이 좋다(?)\n",
    "   2. 추상화, 분류화, 일반화 등 상속을 구분하지만 파이썬에서는 크게 구분하지 않는다.\n",
    "   3. 파이썬의 상속은 위임(Delegation)이다. (물려받는 것이 아니다)\n",
    "      1. composition : 위임이었지만 상속처럼 사용하는 것(09/11 수업) (파이썬 덕타이핑이 가능하기 때문에 상속을 안해도 되는 것)\n",
    "      2. "
   ]
  },
  {
   "cell_type": "code",
   "execution_count": null,
   "metadata": {},
   "outputs": [],
   "source": [
    "from functools import partial\n",
    "from operator import add\n",
    "add_3 = partial(add, 3) # 인자 하나를 지정하고 새로운 함수를 만들어낸다 \n",
    "add_3(4)"
   ]
  },
  {
   "cell_type": "markdown",
   "metadata": {},
   "source": [
    "데코레이터 : 메소드의 기능을 바꿔준다.\n",
    "\n",
    "1. @classmethod\n",
    "2. staticmethod\n",
    "3. single dispatch\n",
    "\n",
    "1. 데코레이터를 통해 코드의 재사용성을 높일 수 있다.\n",
    "1. 함수형 패러다임에서는 데코레이터 사용의 중요성이 크다.\n",
    " @tf.function이 매우 어렵고 중요하다."
   ]
  },
  {
   "cell_type": "markdown",
   "metadata": {},
   "source": [
    "### 오늘\n",
    "- predicate\n",
    "- operator overloading\n",
    "- callable의 operator는?\n",
    "- 제네릭\n",
    "- 싱글 디스패치\n",
    "- 클라스 상속에서 오버라이딩의 개념은?\n",
    "1500"
   ]
  },
  {
   "cell_type": "markdown",
   "metadata": {},
   "source": [
    "- 1500~\n",
    "  - 객체지향프로그래밍의 특징 4가지\n",
    "  - \n",
    "- aoc\n",
    "  - partial"
   ]
  },
  {
   "cell_type": "code",
   "execution_count": null,
   "metadata": {},
   "outputs": [],
   "source": [
    "add_3_4 = partial(add, 3)\n",
    "add_3_4"
   ]
  },
  {
   "cell_type": "code",
   "execution_count": null,
   "metadata": {},
   "outputs": [],
   "source": [
    "add_3_4 = partial(partial(add, 3), 4)\n",
    "add_3_4()"
   ]
  },
  {
   "cell_type": "code",
   "execution_count": null,
   "metadata": {},
   "outputs": [],
   "source": [
    "class A():\n",
    "    def __init__(self, a):\n",
    "        A.x = a\n",
    "\n",
    "aa = A(10)\n",
    "aa.x"
   ]
  },
  {
   "cell_type": "code",
   "execution_count": null,
   "metadata": {},
   "outputs": [],
   "source": [
    "class A():\n",
    "    def __init__(self, a):\n",
    "        self.x = a\n",
    "\n",
    "aa = A(10)\n",
    "bb = A(20)\n",
    "aa.x"
   ]
  },
  {
   "cell_type": "code",
   "execution_count": null,
   "metadata": {},
   "outputs": [],
   "source": [
    "class A():\n",
    "    def __init__(self, *a):\n",
    "        A.x = a\n",
    "\n",
    "aa = A(10)\n",
    "aa.x"
   ]
  },
  {
   "cell_type": "code",
   "execution_count": null,
   "metadata": {},
   "outputs": [],
   "source": [
    "class A():\n",
    "    def __init__(self, *a):\n",
    "        self.x = a\n",
    "\n",
    "aa = A(10)\n",
    "aaa = A()\n",
    "aa.x, aaa.x"
   ]
  },
  {
   "cell_type": "code",
   "execution_count": null,
   "metadata": {},
   "outputs": [],
   "source": [
    "class A():\n",
    "    def __init__(self, x):\n",
    "        self.() = partial(__init__, 3)\n",
    "a = A(3)\n",
    "b = A()"
   ]
  },
  {
   "cell_type": "markdown",
   "metadata": {},
   "source": [
    "### 1630~"
   ]
  },
  {
   "cell_type": "code",
   "execution_count": null,
   "metadata": {},
   "outputs": [],
   "source": [
    "def foo():\n",
    "\tprint(\"foo!\")\n",
    "\n",
    "def bar(fn):\n",
    "\tfn()\n",
    "\n",
    "bar(foo)"
   ]
  },
  {
   "cell_type": "code",
   "execution_count": null,
   "metadata": {},
   "outputs": [],
   "source": [
    "def foo():\n",
    "\tdef bar():\n",
    "\t\tprint(\"bar!\")\n",
    "\tbar()\n",
    "\t\n",
    "foo()"
   ]
  },
  {
   "cell_type": "markdown",
   "metadata": {},
   "source": [
    "### Closer\n",
    "- 내부 함수가 외부 함수의 변수에 접근이 가능하고, 외부함수는 내부함수를 반환한다.\n",
    "- 클래스로 표현한 예시(2)\n",
    "- function closer를 Decorator라고 한다."
   ]
  },
  {
   "cell_type": "code",
   "execution_count": null,
   "metadata": {},
   "outputs": [],
   "source": [
    "def x(m):\n",
    "    def y(n):\n",
    "        return m + n\n",
    "    return y\n",
    "\n",
    "x(3)(4) #"
   ]
  },
  {
   "cell_type": "code",
   "execution_count": null,
   "metadata": {},
   "outputs": [],
   "source": [
    "class A:\n",
    "    def __init__(self, x):\n",
    "        self.x = x\n",
    "    def __call__(self, y):\n",
    "        return self.x + y\n",
    "    \n",
    "a=A(3)\n",
    "type(a)"
   ]
  },
  {
   "cell_type": "code",
   "execution_count": null,
   "metadata": {},
   "outputs": [],
   "source": [
    "# 외부함수의 값이 내부함수에 전달되고, 내부함수를 인출하는데, 이때 함수를 전달하고 인출하는 경우 데코레이터\n",
    "\n",
    "\n",
    "def yy():\n",
    "    return 1\n",
    "\n"
   ]
  },
  {
   "cell_type": "code",
   "execution_count": null,
   "metadata": {},
   "outputs": [],
   "source": [
    "def x(fn):\n",
    "    def y():\n",
    "        print('@@@@')\n",
    "        return fn()\n",
    "    return y\n"
   ]
  },
  {
   "cell_type": "code",
   "execution_count": null,
   "metadata": {},
   "outputs": [],
   "source": [
    "\n",
    "@x # 데코레이터 x : x가 클로저처럼 사용된다\n",
    "def yy():\n",
    "    return 1\n",
    "#yy()\n",
    "\n",
    "x(yy)()"
   ]
  },
  {
   "cell_type": "code",
   "execution_count": null,
   "metadata": {},
   "outputs": [],
   "source": [
    "import time\n",
    "\n",
    "def timer_decorator(func):\n",
    "    def wrapper(*args, **kwargs):\n",
    "        start_time = time.time()\n",
    "        result = func(*args, **kwargs)\n",
    "        end_time = time.time()\n",
    "        print(f\"{func.__name__} executed in {end_time - start_time} seconds\")\n",
    "        return result\n",
    "    return wrapper\n",
    "\n",
    "@timer_decorator\n",
    "def example_function():\n",
    "    time.sleep(5)\n",
    "\n",
    "example_function()"
   ]
  },
  {
   "cell_type": "code",
   "execution_count": null,
   "metadata": {},
   "outputs": [],
   "source": [
    "def logging_decorator(func):\n",
    "    def wrapper(*args, **kwargs):\n",
    "        result = func(*args, **kwargs)\n",
    "        print(f\"{func.__name__} called with {args} and {kwargs} returned {result}\")\n",
    "        return result\n",
    "    return wrapper\n",
    "\n",
    "@logging_decorator\n",
    "def add(x, y):\n",
    "    return x + y\n",
    "\n",
    "add(2, y=3)"
   ]
  },
  {
   "cell_type": "code",
   "execution_count": null,
   "metadata": {},
   "outputs": [],
   "source": [
    "def integer_check_decorator(func):\n",
    "    def wrapper(*args, **kwargs):\n",
    "        if any([not isinstance(i, int) for i in args]):\n",
    "            raise TypeError(\"Only integers are allowed\")\n",
    "        return func(*args, **kwargs)\n",
    "    return wrapper\n",
    "\n",
    "@integer_check_decorator\n",
    "def add(x, y):\n",
    "    return x + y\n",
    "\n",
    "add(2, 3)    # Works fine"
   ]
  },
  {
   "cell_type": "markdown",
   "metadata": {},
   "source": [
    "@ syntax\n",
    "- syntactic sugar"
   ]
  },
  {
   "cell_type": "code",
   "execution_count": 94,
   "metadata": {},
   "outputs": [],
   "source": [
    "def x(fn):\n",
    "    def y(*arg, **kwarg):\n",
    "        print('@@@@')\n",
    "        return fn(*arg, **kwarg)\n",
    "    return y"
   ]
  },
  {
   "cell_type": "code",
   "execution_count": 101,
   "metadata": {},
   "outputs": [
    {
     "name": "stdout",
     "output_type": "stream",
     "text": [
      "@@@@\n"
     ]
    },
    {
     "data": {
      "text/plain": [
       "1"
      ]
     },
     "execution_count": 101,
     "metadata": {},
     "output_type": "execute_result"
    }
   ],
   "source": [
    "@x\n",
    "def yy():\n",
    "    return 1\n",
    "yy()"
   ]
  },
  {
   "cell_type": "code",
   "execution_count": 99,
   "metadata": {},
   "outputs": [
    {
     "name": "stdout",
     "output_type": "stream",
     "text": [
      "@@@@\n"
     ]
    },
    {
     "data": {
      "text/plain": [
       "3"
      ]
     },
     "execution_count": 99,
     "metadata": {},
     "output_type": "execute_result"
    }
   ],
   "source": [
    "@x\n",
    "def zz(x) :\n",
    "    return x\n",
    "\n",
    "zz(3) \n",
    "# Error -> 데코레이터에 가변 함수들(*arg, **kwarg)를 넣어서 넣어도 안넣어도 나올 수 있게 했음\n",
    "# x함수에 인자를 넣어주거나, 빼주면 yy나 zz중 하나가 오류가 나왔음 \n",
    "# ## -> 범용적으로 사용하기 위해서 가변 포지셔널, 가변 키워드로 해결할 수 있다."
   ]
  },
  {
   "cell_type": "markdown",
   "metadata": {},
   "source": [
    "__main__에 지정되어 있는 변수는 재사용하기 위해 지정된 값들만 나온다 : class, function "
   ]
  },
  {
   "cell_type": "code",
   "execution_count": 103,
   "metadata": {},
   "outputs": [
    {
     "data": {
      "text/plain": [
       "<function __main__.x.<locals>.y(*arg, **kwarg)>"
      ]
     },
     "execution_count": 103,
     "metadata": {},
     "output_type": "execute_result"
    }
   ],
   "source": [
    "@x\n",
    "def yy():\n",
    "    return 1\n",
    "\n",
    "yy # local"
   ]
  },
  {
   "cell_type": "markdown",
   "metadata": {},
   "source": [
    "순환논법이다. 데코레이터를 만들 때 데코레이터를 사용한다. \n",
    "- cf) dataclass를 사용하면 class에도 데코레이터가 사용가능하다"
   ]
  },
  {
   "cell_type": "code",
   "execution_count": 105,
   "metadata": {},
   "outputs": [
    {
     "data": {
      "text/plain": [
       "<function __main__.yy()>"
      ]
     },
     "execution_count": 105,
     "metadata": {},
     "output_type": "execute_result"
    }
   ],
   "source": [
    "from functools import wraps\n",
    "def x(fn):\n",
    "    @wraps(fn)\n",
    "    def y(*k, **kw):\n",
    "        print(\"__\")\n",
    "        return fn(*k, **kw)\n",
    "    return y\n",
    "\n",
    "@x\n",
    "def yy():\n",
    "    return 1\n",
    "\n",
    "yy\n"
   ]
  }
 ],
 "metadata": {
  "kernelspec": {
   "display_name": "Python 3",
   "language": "python",
   "name": "python3"
  },
  "language_info": {
   "codemirror_mode": {
    "name": "ipython",
    "version": 3
   },
   "file_extension": ".py",
   "mimetype": "text/x-python",
   "name": "python",
   "nbconvert_exporter": "python",
   "pygments_lexer": "ipython3",
   "version": "3.11.1"
  },
  "orig_nbformat": 4
 },
 "nbformat": 4,
 "nbformat_minor": 2
}
