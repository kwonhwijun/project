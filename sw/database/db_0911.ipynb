{
 "cells": [
  {
   "cell_type": "markdown",
   "metadata": {},
   "source": [
    "### 이론\n",
    "- non asci : \n",
    "- HTTPS "
   ]
  },
  {
   "cell_type": "code",
   "execution_count": null,
   "metadata": {},
   "outputs": [],
   "source": [
    "from urllib.request import urlopen, Request\n",
    "url = 'https://search.daum.net/search?w=tot&DA=YZR&t__nil_searchbox=btn&sug=&sugo=&sq=&o=&q=%EC%B9%B4%EB%A6%AC%EB%82%98'\n",
    "resp = urlopen(url)"
   ]
  },
  {
   "cell_type": "markdown",
   "metadata": {},
   "source": [
    " - url 분석\n",
    " - 'https://search.daum.net/search?\n",
    "   - w=tot&\n",
    "   - DA=YZR&\n",
    "   - t__nil_searchbox=btn&\n",
    "   - sug=&\n",
    "   - sugo=&\n",
    "   - sq=&\n",
    "   - o=&\n",
    "   - q=%EC%B9%B4%EB%A6%AC%EB%82%98'"
   ]
  },
  {
   "cell_type": "code",
   "execution_count": null,
   "metadata": {},
   "outputs": [],
   "source": [
    "resp.read() #다음은 에러가 뜨는 것이아니라, captcha가 뜬다"
   ]
  },
  {
   "cell_type": "markdown",
   "metadata": {},
   "source": [
    "- Errorcode\n",
    "  - 200 -> resp\n",
    "  - 400 -> raise, break\n",
    "  - 500 -> retry"
   ]
  },
  {
   "cell_type": "code",
   "execution_count": null,
   "metadata": {},
   "outputs": [],
   "source": [
    "from urllib.error import HTTPError\n",
    "from time import sleep\n",
    "def download(url, retries = 3) :\n",
    "    resp = None\n",
    "    # robt\n",
    "    try:\n",
    "        resp = urlopen(url)\n",
    "    except HTTPError as e :\n",
    "        if 500 <= e.code :\n",
    "            if retries > 0 :\n",
    "                sleep(3)\n",
    "                resp = download(url, retries -1)\n",
    "            else : \n",
    "                print(\"재방문 횟수 초과\")\n",
    "        print(e)\n",
    "    \n",
    "    return None if resp == None else resp.read()"
   ]
  },
  {
   "cell_type": "code",
   "execution_count": null,
   "metadata": {},
   "outputs": [],
   "source": []
  },
  {
   "cell_type": "code",
   "execution_count": null,
   "metadata": {},
   "outputs": [],
   "source": [
    "url = 'https://www.google.com/search?q=%EC%B9%B4%EB%A6%AC%EB%82%98&oq=%EC%B9%B4%EB%A6%AC%EB%82%98&aqs=chrome.0.69i59j69i60l2.1538j0j4&sourceid=chrome&ie=UTF-8'\n",
    "download(url) # google은 403 error가 뜬다 -> user agent 정보를 사용해야 한다. -> urlopen()에서는 header를 쓸 수 없음 \n",
    "# -> Request object를 사용할 것 "
   ]
  },
  {
   "cell_type": "markdown",
   "metadata": {},
   "source": [
    "### user agent 사용하기"
   ]
  },
  {
   "cell_type": "code",
   "execution_count": null,
   "metadata": {},
   "outputs": [],
   "source": [
    "### 개발자도구 Network - Headers - Request Headers\n",
    "ua = ' Mozilla/5.0 (iPad; CPU OS 13_3 like Mac OS X) AppleWebKit/605.1.15 (KHTML, like Gecko) CriOS/87.0.4280.77 Mobile/15E148 Safari/604.1'\n"
   ]
  },
  {
   "cell_type": "code",
   "execution_count": null,
   "metadata": {},
   "outputs": [],
   "source": [
    "req = Request(\n",
    "    url = url,\n",
    "    headers  = {'user-agent' : ua},\n",
    "    method = 'GET'\n",
    ")"
   ]
  },
  {
   "cell_type": "code",
   "execution_count": null,
   "metadata": {},
   "outputs": [],
   "source": [
    "req.headers, req.full_url, req.method, req.data"
   ]
  },
  {
   "cell_type": "code",
   "execution_count": null,
   "metadata": {},
   "outputs": [],
   "source": [
    "resp = urlopen(req)\n",
    "resp.getheaders()"
   ]
  },
  {
   "cell_type": "code",
   "execution_count": null,
   "metadata": {},
   "outputs": [],
   "source": [
    "resp.read().decode('utf-8', errors = 'ignore')"
   ]
  },
  {
   "cell_type": "code",
   "execution_count": null,
   "metadata": {},
   "outputs": [],
   "source": [
    "from html import unescape\n",
    "unescape('')"
   ]
  },
  {
   "cell_type": "code",
   "execution_count": null,
   "metadata": {},
   "outputs": [],
   "source": [
    "### 구글\n",
    "url = 'https://www.google.com/search?q=%EC%B9%B4%EB%A6%AC%EB%82%98&sca_esv=564225123&sxsrf=AB5stBiPcYxf3hqLCUIEEOaWWvMQkdv2nA%3A1694392331982&ei=C2D-ZNXFO6KB2roPpbWNsAI&ved=0ahUKEwiV97qop6GBAxWigFYBHaVaAyYQ4dUDCBA&uact=5&oq=%EC%B9%B4%EB%A6%AC%EB%82%98&gs_lp=Egxnd3Mtd2l6LXNlcnAiCey5tOumrOuCmDIKEAAYRxjWBBiwAzIKEAAYRxjWBBiwAzIKEAAYRxjWBBiwAzIKEAAYRxjWBBiwAzIKEAAYRxjWBBiwAzIKEAAYRxjWBBiwAzIKEAAYRxjWBBiwAzIKEAAYRxjWBBiwAzIKEAAYRxjWBBiwAzIKEAAYRxjWBBiwA0i6BVAAWABwAXgBkAEAmAEAoAEAqgEAuAEDyAEA4gMEGAAgQYgGAZAGCg&sclient=gws-wiz-serp'\n",
    "req = Request(\n",
    "    url = url,\n",
    "    headers={'user-agent' :ua},\n",
    "    method = 'GET'\n",
    ")\n",
    "resp = urlopen(req)\n",
    "resp.getheaders()\n",
    "resp.read().decode('utf8', errors = 'ignore')\n",
    "\n"
   ]
  },
  {
   "cell_type": "code",
   "execution_count": null,
   "metadata": {},
   "outputs": [],
   "source": [
    "### 다음\n",
    "url = 'https://search.daum.net/search?w=tot&DA=YZR&t__nil_searchbox=btn&sug=&sugo=&sq=&o=&q=%EC%B9%B4%EB%A6%AC%EB%82%98'\n",
    "req = Request(\n",
    "    url = url,\n",
    "    headers={'user-agent' :ua},\n",
    "    method = 'GET'\n",
    ")\n",
    "resp = urlopen(req)\n",
    "resp.getheaders()\n",
    "resp.read().decode('utf8', errors = 'ignore')"
   ]
  },
  {
   "cell_type": "code",
   "execution_count": null,
   "metadata": {},
   "outputs": [],
   "source": [
    "### user-agent 정보 넣어서 함수 재정의 : 1) method parameter 추가 2) urlopen을 requset에 하기 3) 출력을 reqyu\n",
    "ua = 'Mozilla/5.0 (iPad; CPU OS 13_3 like Mac OS X) AppleWebKit/605.1.15 (KHTML, like Gecko) CriOS/87.0.4280.77 Mobile/15E148 Safari/604.1'\n",
    "\n",
    "def download(url, method = 'GET', retries = 3) :\n",
    "    resp = None\n",
    "    # robt\n",
    "    try:\n",
    "        req = Request(\n",
    "            url=url, \n",
    "            headers={'user-agent':'Mozilla/5.0 (iPad; CPU OS 13_3 like Mac OS X) AppleWebKit/605.1.15 (KHTML, like Gecko) CriOS/87.0.4280.77 Mobile/15E148 Safari/604.1'}, \n",
    "            method= method)\n",
    "        resp = urlopen(req)\n",
    "    except HTTPError as e :\n",
    "        if 500 <= e.code :\n",
    "            if retries > 0 :\n",
    "                sleep(3)\n",
    "                resp = download(url, method = method, retries = retries - 1)\n",
    "            else : \n",
    "                print(\"재방문 횟수 초과\")\n",
    "        else :\n",
    "            print('Request', req.headers())\n",
    "            print('Response' , e)\n",
    "    \n",
    "    return None if resp == None else resp.read()\n"
   ]
  },
  {
   "cell_type": "code",
   "execution_count": null,
   "metadata": {},
   "outputs": [],
   "source": [
    "google = 'https://www.google.com/search?q=%EC%B9%B4%EB%A6%AC%EB%82%98&sca_esv=564225123&sxsrf=AB5stBiPcYxf3hqLCUIEEOaWWvMQkdv2nA%3A1694392331982&ei=C2D-ZNXFO6KB2roPpbWNsAI&ved=0ahUKEwiV97qop6GBAxWigFYBHaVaAyYQ4dUDCBA&uact=5&oq=%EC%B9%B4%EB%A6%AC%EB%82%98&gs_lp=Egxnd3Mtd2l6LXNlcnAiCey5tOumrOuCmDIKEAAYRxjWBBiwAzIKEAAYRxjWBBiwAzIKEAAYRxjWBBiwAzIKEAAYRxjWBBiwAzIKEAAYRxjWBBiwAzIKEAAYRxjWBBiwAzIKEAAYRxjWBBiwAzIKEAAYRxjWBBiwAzIKEAAYRxjWBBiwAzIKEAAYRxjWBBiwA0i6BVAAWABwAXgBkAEAmAEAoAEAqgEAuAEDyAEA4gMEGAAgQYgGAZAGCg&sclient=gws-wiz-serp'\n",
    "resp = download(google)\n",
    "resp.decode()"
   ]
  },
  {
   "cell_type": "code",
   "execution_count": null,
   "metadata": {},
   "outputs": [],
   "source": [
    "## 실제 검색은 쿼리 부분만 있어도 가능하다\n",
    "url = 'https://www.google.com/search?q=%EC%B9%B4%EB%A6%AC%EB%82%98' # 바이트에 해당하는 코드로 검색\n",
    "download(url)"
   ]
  },
  {
   "cell_type": "code",
   "execution_count": null,
   "metadata": {},
   "outputs": [],
   "source": [
    "url = 'https://www.google.com/search?q=카리나' \n",
    "download(url) #'카리나'라는 유니코드로 검색하면 오류 발생\n",
    "\n",
    "# 모든 통신은 항상 bytes로 주고 받아야 한다\n",
    "# %인코딩을 통한 인코딩, 디코딩으로 바꿔줘야 한다. -> requset.parse import quote, quote_plus"
   ]
  },
  {
   "cell_type": "code",
   "execution_count": null,
   "metadata": {},
   "outputs": [],
   "source": [
    "from urllib.parse import quote, quote_plus\n",
    "quote('a'), quote('가'), quote('a 가') # 띄여쓰기도 아스키코드이다. "
   ]
  },
  {
   "cell_type": "code",
   "execution_count": null,
   "metadata": {},
   "outputs": [],
   "source": [
    "url = 'https://www.google.com/search?q=' + quote('카리나')\n",
    "type(url), download(url)"
   ]
  },
  {
   "cell_type": "code",
   "execution_count": null,
   "metadata": {},
   "outputs": [],
   "source": [
    "## 역으로\n",
    "from urllib.parse import unquote, unquote_plus # \n",
    "\n",
    "\n",
    "quote('a + b'), quote_plus('a + b') # 띄여스키 인코딩이 다르다 "
   ]
  },
  {
   "cell_type": "code",
   "execution_count": null,
   "metadata": {},
   "outputs": [],
   "source": [
    "url = 'https://www.google.com/search?q=%EC%B9%B4%EB%A6%AC%EB%82%98&oq=%EC%B9%B4%EB%A6%AC%EB%82%98&aqs=chrome..69i57j69i60l2.729j0j1&sourceid=chrome&ie=UTF-8'"
   ]
  },
  {
   "cell_type": "code",
   "execution_count": null,
   "metadata": {},
   "outputs": [],
   "source": [
    "\n",
    "url.split('?')[-1].split('&') # url 쪼개기"
   ]
  },
  {
   "cell_type": "code",
   "execution_count": null,
   "metadata": {},
   "outputs": [],
   "source": [
    "params = []\n",
    "# 파라미터들 쪼갰다가 다시 붙이기\n",
    "for row in url.split('?')[-1].split('&') :\n",
    "    if row.split('=')[0] == 'q' :\n",
    "        print(row)\n",
    "        params.append('=')\n",
    "    else :\n",
    "        params.append(row)\n",
    "url.split('?')[0] + '?' +'&'.join(params)"
   ]
  },
  {
   "cell_type": "markdown",
   "metadata": {},
   "source": [
    "### 1010 ~"
   ]
  },
  {
   "cell_type": "code",
   "execution_count": null,
   "metadata": {},
   "outputs": [],
   "source": [
    "from urllib.parse import urlparse, urlunparse, parse_qs, urlencode"
   ]
  },
  {
   "cell_type": "code",
   "execution_count": null,
   "metadata": {},
   "outputs": [],
   "source": [
    "req.headers"
   ]
  },
  {
   "cell_type": "code",
   "execution_count": null,
   "metadata": {},
   "outputs": [],
   "source": [
    "data = 'https://www.google.com/search?q=%EC%B9%B4%EB%A6%AC%EB%82%98&oq=%EC%B9%B4%EB%A6%AC%EB%82%98&aqs=chrome.0.69i59j69i60l2.2627j0j4&sourceid=chrome&ie=UTF-8'\n",
    "rls = urlparse(data)\n",
    "rls"
   ]
  },
  {
   "cell_type": "code",
   "execution_count": null,
   "metadata": {},
   "outputs": [],
   "source": [
    "urlunparse(('http', 'www.google.com', '/path', '', 'key = value', ''))\n"
   ]
  },
  {
   "cell_type": "code",
   "execution_count": null,
   "metadata": {},
   "outputs": [],
   "source": [
    "from urllib.parse import parse_qsl\n",
    "pqs = parse_qs(urls.query)\n",
    "pqs['q'] = '카 리 나'\n",
    "pqs\n",
    "urlencode(pqs) # 쿼리 스트링의 형태로 바꿔준다 "
   ]
  },
  {
   "cell_type": "code",
   "execution_count": null,
   "metadata": {},
   "outputs": [],
   "source": [
    "# 파라미터를 하나씩 쪼개지 않고 urlparse를 통해 카리나만 넣어보기\n",
    "\n",
    "# 파라미터 변수를 만들어주고\n",
    "params ={'q' : ''}\n",
    "params['q'] = '뉴진스'\n",
    "\n",
    "urlunparse((*urlparse(data)[:4], urlencode(params), '')) #*는 풀어서 넣기"
   ]
  },
  {
   "cell_type": "code",
   "execution_count": null,
   "metadata": {},
   "outputs": [],
   "source": [
    "download(urlunparse((*urlparse(data)[:4], urlencode(params), '')) )\n"
   ]
  },
  {
   "cell_type": "code",
   "execution_count": null,
   "metadata": {},
   "outputs": [],
   "source": [
    "# 실습 : Querystring 쪼개서 params에 넣고, 검색키워드를 하고싶은 키워드로 바꿔서 "
   ]
  },
  {
   "cell_type": "code",
   "execution_count": null,
   "metadata": {},
   "outputs": [],
   "source": [
    "# 1) url 만들기\n",
    "url = 'https://search.naver.com/search.naver'\n",
    "params= {'where': 'nextsearch', 'query': '침착맨'}\n",
    "target_url = url+ '?' + urlencode(params)\n",
    "\n",
    "\n",
    "resp = download(target_url)\n",
    "resp.decode()\n",
    "\n",
    "\n",
    "\n"
   ]
  },
  {
   "cell_type": "code",
   "execution_count": null,
   "metadata": {},
   "outputs": [],
   "source": [
    "# 2) 이미지를 누르면 \n",
    "params= {'where': 'image', 'query': '침착맨'}\n",
    "target_url = url+ '?' + urlencode(params)\n",
    "resp = download(target_url)\n",
    "target_url, resp.decode()"
   ]
  },
  {
   "cell_type": "code",
   "execution_count": null,
   "metadata": {},
   "outputs": [],
   "source": [
    "# 2) 페이지 번호 확인\n",
    "params= {'where': 'nextsearch', 'query': '침착맨', 'page' : 2}\n",
    "target_url = url+ '?' + urlencode(params)\n",
    "resp = download(target_url)\n",
    "target_url, resp.decode()"
   ]
  },
  {
   "cell_type": "code",
   "execution_count": null,
   "metadata": {},
   "outputs": [],
   "source": [
    "# Daum에서 해보기\n",
    "url = 'https://search.daum.net/search'\n",
    "params = {'w':'tot', 'q' : '침착맨'}\n",
    "new_url = url+ '?' + urlencode(params) +''\n",
    "new_url, download(new_url).decode() # 문제: html로 출력이 안됌\n",
    "\n",
    "new_url = urlunparse((*urlparse(url)[:4], urlencode(params), ''))\n",
    "download(new_url)\n",
    "\n",
    "\n"
   ]
  },
  {
   "cell_type": "code",
   "execution_count": null,
   "metadata": {},
   "outputs": [],
   "source": [
    "url = 'https://search.daum.net/search'\n",
    "params = {'w':'img', 'q' : '침착맨'}\n",
    "new_url = url+ '?' + urlencode(params) +''\n",
    "new_url, download(new_url).decode('utf-8')"
   ]
  },
  {
   "cell_type": "code",
   "execution_count": null,
   "metadata": {},
   "outputs": [],
   "source": [
    "url = 'https://search.daum.net/search'\n",
    "params = {'w':'fusion', 'q' : '침착맨', 'p':2}\n",
    "\n",
    "new_url = urlunparse((*urlparse(url)[:4], urlencode(params), ''))\n",
    "download(new_url).decode()"
   ]
  },
  {
   "cell_type": "markdown",
   "metadata": {},
   "source": [
    "### Request"
   ]
  },
  {
   "cell_type": "markdown",
   "metadata": {},
   "source": [
    "상대주소, 절대주소\n",
    "절대주소 : URL(I) (!pwd)\n",
    "상대주소 : path "
   ]
  },
  {
   "cell_type": "code",
   "execution_count": null,
   "metadata": {},
   "outputs": [],
   "source": [
    "from requests import request, get"
   ]
  },
  {
   "cell_type": "code",
   "execution_count": null,
   "metadata": {},
   "outputs": [],
   "source": [
    "resp = request(\n",
    "    method = 'GET',\n",
    "    url = 'https://www.google.com/search',\n",
    "    params = urlencode([('q', '카리나')]),\n",
    "    headers= {'user-agent': ua}\n",
    ")"
   ]
  },
  {
   "cell_type": "code",
   "execution_count": null,
   "metadata": {},
   "outputs": [],
   "source": []
  },
  {
   "cell_type": "code",
   "execution_count": null,
   "metadata": {},
   "outputs": [],
   "source": [
    "resp.content\n",
    "resp.encoding = 'UTF-8' # UTF-8로 인코딩 시킬 수 있다(다른걸로도 간편하게 가능)\n",
    "resp.text "
   ]
  },
  {
   "cell_type": "code",
   "execution_count": null,
   "metadata": {},
   "outputs": [],
   "source": [
    "resp.status_code #200"
   ]
  },
  {
   "cell_type": "code",
   "execution_count": null,
   "metadata": {},
   "outputs": [],
   "source": [
    "# 예시 사이트 : httpbin.org/ "
   ]
  },
  {
   "cell_type": "code",
   "execution_count": null,
   "metadata": {},
   "outputs": [],
   "source": [
    "from requests import request\n",
    "from urllib.error import HTTPError\n",
    "ua = 'Mozilla/5.0 (iPad; CPU OS 13_3 like Mac OS X) AppleWebKit/605.1.15 (KHTML, like Gecko) CriOS/87.0.4280.77 Mobile/15E148 Safari/604.1'\n",
    "def download(url, method = 'GET', retries = 3) :\n",
    "    resp = None\n",
    "    # robt\n",
    "    try:\n",
    "        resp = request(method, url, \n",
    "                       headers = {'user-agent' : ua})\n",
    "        resp.raise_for_status()\n",
    "    except HTTPError as e :\n",
    "        if 500 <= e.code :\n",
    "            if retries > 0 :\n",
    "                sleep(3)\n",
    "                resp = download(url, method = method, retries = retries - 1)\n",
    "            else : \n",
    "                print(\"재방문 횟수 초과\")\n",
    "        else :\n",
    "            print('Request', resp.request.headers)\n",
    "            print('Response' , e.request.headers)\n",
    "    \n",
    "    return resp"
   ]
  },
  {
   "cell_type": "code",
   "execution_count": null,
   "metadata": {},
   "outputs": [],
   "source": [
    "download('http://httpbin.org/status/500')"
   ]
  },
  {
   "cell_type": "code",
   "execution_count": null,
   "metadata": {},
   "outputs": [],
   "source": [
    "def download(url, method, )"
   ]
  },
  {
   "cell_type": "code",
   "execution_count": null,
   "metadata": {},
   "outputs": [],
   "source": [
    "resp = download(\n",
    "    'https://www.korea.ac.kr/search/search.jsp',\n",
    "    {'query' : '고려대'},\n",
    "    'POST'\n",
    ")\n",
    "\n",
    "#확인\n",
    "resp.status_code, resp.headers\n",
    "\n",
    "resp.request.url, resp.request.body"
   ]
  },
  {
   "cell_type": "code",
   "execution_count": null,
   "metadata": {},
   "outputs": [],
   "source": [
    "resp = download('https://www.google.com/search',\n",
    "                {'q' : \"카리나\"})\n",
    "\n",
    "resp.request.url, resp.status_code\n",
    "resp.encoding, resp.headers"
   ]
  },
  {
   "cell_type": "markdown",
   "metadata": {},
   "source": [
    "### 정규표현식\n"
   ]
  },
  {
   "cell_type": "code",
   "execution_count": 5,
   "metadata": {},
   "outputs": [],
   "source": [
    "import re\n",
    "p = re.compile('[a-z]')"
   ]
  },
  {
   "cell_type": "code",
   "execution_count": 6,
   "metadata": {},
   "outputs": [
    {
     "name": "stdout",
     "output_type": "stream",
     "text": [
      "<re.Match object; span=(0, 1), match='p'>\n"
     ]
    }
   ],
   "source": [
    "m = p.match(\"python\")\n",
    "print(m)"
   ]
  }
 ],
 "metadata": {
  "kernelspec": {
   "display_name": "Python 3",
   "language": "python",
   "name": "python3"
  },
  "language_info": {
   "codemirror_mode": {
    "name": "ipython",
    "version": 3
   },
   "file_extension": ".py",
   "mimetype": "text/x-python",
   "name": "python",
   "nbconvert_exporter": "python",
   "pygments_lexer": "ipython3",
   "version": "3.11.1"
  },
  "orig_nbformat": 4
 },
 "nbformat": 4,
 "nbformat_minor": 2
}
